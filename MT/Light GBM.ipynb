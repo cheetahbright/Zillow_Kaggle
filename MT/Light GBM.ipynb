{
 "cells": [
  {
   "cell_type": "code",
   "execution_count": null,
   "metadata": {
    "collapsed": false
   },
   "outputs": [],
   "source": []
  },
  {
   "cell_type": "code",
   "execution_count": 1,
   "metadata": {
    "collapsed": true
   },
   "outputs": [],
   "source": [
    "import numpy as np\n",
    "import pandas as pd\n",
    "import lightgbm as lgb\n",
    "import gc "
   ]
  },
  {
   "cell_type": "code",
   "execution_count": 2,
   "metadata": {
    "collapsed": false,
    "scrolled": true
   },
   "outputs": [
    {
     "name": "stdout",
     "output_type": "stream",
     "text": [
      "Loading data ...\n"
     ]
    },
    {
     "name": "stderr",
     "output_type": "stream",
     "text": [
      "C:\\Users\\board\\Anaconda3\\lib\\site-packages\\IPython\\core\\interactiveshell.py:2723: DtypeWarning: Columns (22,32,34,49,55) have mixed types. Specify dtype option on import or set low_memory=False.\n",
      "  interactivity=interactivity, compiler=compiler, result=result)\n"
     ]
    },
    {
     "name": "stdout",
     "output_type": "stream",
     "text": [
      "(90275, 55) (90275,)\n"
     ]
    }
   ],
   "source": [
    "print('Loading data ...')\n",
    "\n",
    "train = pd.read_csv(\"train_2016_v2.csv\", parse_dates=[\"transactiondate\"])\n",
    "prop = pd.read_csv(\"properties_2016.csv\") \n",
    "\n",
    "# Turn float64 to float32\n",
    "for c, dtype in zip(prop.columns, prop.dtypes):\t\n",
    "    if dtype == np.float64:\t\t\n",
    "        prop[c] = prop[c].astype(np.float32)\n",
    "        \n",
    "# Create the train and validation sets \n",
    "df_train = train.merge(prop, how='left', on='parcelid')\n",
    "drop_cols1 = ['parcelid', 'logerror', 'transactiondate', 'propertyzoningdesc', 'propertycountylandusecode']\n",
    "x_train = df_train.drop(drop_cols1, axis=1)\n",
    "y_train = df_train['logerror'].values\n",
    "print(x_train.shape, y_train.shape)\n"
   ]
  },
  {
   "cell_type": "code",
   "execution_count": 3,
   "metadata": {
    "collapsed": false
   },
   "outputs": [
    {
     "data": {
      "text/plain": [
       "(90275, 55)"
      ]
     },
     "execution_count": 3,
     "metadata": {},
     "output_type": "execute_result"
    }
   ],
   "source": [
    "x_train.shape"
   ]
  },
  {
   "cell_type": "code",
   "execution_count": 4,
   "metadata": {
    "collapsed": false
   },
   "outputs": [],
   "source": [
    "train_columns = x_train.columns\n",
    "# Not sure what loop below does \n",
    "for c in x_train.dtypes[x_train.dtypes == object].index.values:\n",
    "    x_train[c] = (x_train[c] == True)\n",
    "\n",
    "# Garbage clean up - delete variables we don't need \n",
    "#del df_train; gc.collect()\n",
    "\n",
    "# Create train and validation set \n",
    "split = 90000\n",
    "x_train, y_train, x_valid, y_valid = x_train[:split], y_train[:split], x_train[split:], y_train[split:]\n",
    "x_train = x_train.values.astype(np.float32, copy=False)\n",
    "x_valid = x_valid.values.astype(np.float32, copy=False)\n",
    "\n",
    "# Prepare data for lgbm method \n",
    "d_train = lgb.Dataset(x_train, label=y_train)\n",
    "d_valid = lgb.Dataset(x_valid, label=y_valid)\n"
   ]
  },
  {
   "cell_type": "markdown",
   "metadata": {},
   "source": [
    "### Light GBM preparation "
   ]
  },
  {
   "cell_type": "code",
   "execution_count": 5,
   "metadata": {
    "collapsed": false
   },
   "outputs": [],
   "source": [
    "# Hyper parameters of GBM model \n",
    "params = {}\n",
    "params['learning_rate'] = 0.002\n",
    "params['boosting_type'] = 'gbdt'\n",
    "params['objective'] = 'regression'\n",
    "params['metric'] = 'mae'\n",
    "params['sub_feature'] = 0.5\n",
    "params['num_leaves'] = 50\n",
    "params['min_data'] = 400\n",
    "params['min_hessian'] = 1\n",
    "\n",
    "\n",
    "#del d_train, d_valid; gc.collect()\n",
    "#del x_train, x_valid; gc.collect()"
   ]
  },
  {
   "cell_type": "code",
   "execution_count": 6,
   "metadata": {
    "collapsed": false
   },
   "outputs": [
    {
     "name": "stdout",
     "output_type": "stream",
     "text": [
      "[1]\tvalid_0's l1: 0.0721303\n",
      "[2]\tvalid_0's l1: 0.0721337\n",
      "[3]\tvalid_0's l1: 0.0721336\n",
      "[4]\tvalid_0's l1: 0.0721322\n",
      "[5]\tvalid_0's l1: 0.072133\n",
      "[6]\tvalid_0's l1: 0.0721304\n",
      "[7]\tvalid_0's l1: 0.0721313\n",
      "[8]\tvalid_0's l1: 0.0721322\n",
      "[9]\tvalid_0's l1: 0.0721324\n",
      "[10]\tvalid_0's l1: 0.0721301\n",
      "[11]\tvalid_0's l1: 0.0721293\n",
      "[12]\tvalid_0's l1: 0.0721275\n",
      "[13]\tvalid_0's l1: 0.0721276\n",
      "[14]\tvalid_0's l1: 0.0721312\n",
      "[15]\tvalid_0's l1: 0.072129\n",
      "[16]\tvalid_0's l1: 0.0721305\n",
      "[17]\tvalid_0's l1: 0.0721297\n",
      "[18]\tvalid_0's l1: 0.0721299\n",
      "[19]\tvalid_0's l1: 0.0721319\n",
      "[20]\tvalid_0's l1: 0.0721315\n",
      "[21]\tvalid_0's l1: 0.0721285\n",
      "[22]\tvalid_0's l1: 0.0721248\n",
      "[23]\tvalid_0's l1: 0.0721283\n",
      "[24]\tvalid_0's l1: 0.0721305\n",
      "[25]\tvalid_0's l1: 0.0721279\n",
      "[26]\tvalid_0's l1: 0.0721297\n",
      "[27]\tvalid_0's l1: 0.0721277\n",
      "[28]\tvalid_0's l1: 0.0721286\n",
      "[29]\tvalid_0's l1: 0.0721257\n",
      "[30]\tvalid_0's l1: 0.0721245\n",
      "[31]\tvalid_0's l1: 0.0721231\n",
      "[32]\tvalid_0's l1: 0.0721243\n",
      "[33]\tvalid_0's l1: 0.0721225\n",
      "[34]\tvalid_0's l1: 0.0721198\n",
      "[35]\tvalid_0's l1: 0.0721201\n",
      "[36]\tvalid_0's l1: 0.0721198\n",
      "[37]\tvalid_0's l1: 0.0721199\n",
      "[38]\tvalid_0's l1: 0.0721206\n",
      "[39]\tvalid_0's l1: 0.0721218\n",
      "[40]\tvalid_0's l1: 0.0721217\n",
      "[41]\tvalid_0's l1: 0.0721195\n",
      "[42]\tvalid_0's l1: 0.0721164\n",
      "[43]\tvalid_0's l1: 0.0721176\n",
      "[44]\tvalid_0's l1: 0.0721199\n",
      "[45]\tvalid_0's l1: 0.0721205\n",
      "[46]\tvalid_0's l1: 0.0721173\n",
      "[47]\tvalid_0's l1: 0.0721152\n",
      "[48]\tvalid_0's l1: 0.0721128\n",
      "[49]\tvalid_0's l1: 0.0721151\n",
      "[50]\tvalid_0's l1: 0.0721168\n",
      "[51]\tvalid_0's l1: 0.0721155\n",
      "[52]\tvalid_0's l1: 0.0721132\n",
      "[53]\tvalid_0's l1: 0.0721127\n",
      "[54]\tvalid_0's l1: 0.0721133\n",
      "[55]\tvalid_0's l1: 0.0721112\n",
      "[56]\tvalid_0's l1: 0.0721098\n",
      "[57]\tvalid_0's l1: 0.0721096\n",
      "[58]\tvalid_0's l1: 0.0721088\n",
      "[59]\tvalid_0's l1: 0.0721066\n",
      "[60]\tvalid_0's l1: 0.0721072\n",
      "[61]\tvalid_0's l1: 0.0721065\n",
      "[62]\tvalid_0's l1: 0.0721073\n",
      "[63]\tvalid_0's l1: 0.0721066\n",
      "[64]\tvalid_0's l1: 0.0721082\n",
      "[65]\tvalid_0's l1: 0.0721064\n",
      "[66]\tvalid_0's l1: 0.0721078\n",
      "[67]\tvalid_0's l1: 0.0721122\n",
      "[68]\tvalid_0's l1: 0.072114\n",
      "[69]\tvalid_0's l1: 0.072112\n",
      "[70]\tvalid_0's l1: 0.0721115\n",
      "[71]\tvalid_0's l1: 0.0721105\n",
      "[72]\tvalid_0's l1: 0.0721113\n",
      "[73]\tvalid_0's l1: 0.0721124\n",
      "[74]\tvalid_0's l1: 0.0721088\n",
      "[75]\tvalid_0's l1: 0.0721047\n",
      "[76]\tvalid_0's l1: 0.072103\n",
      "[77]\tvalid_0's l1: 0.0721025\n",
      "[78]\tvalid_0's l1: 0.0721026\n",
      "[79]\tvalid_0's l1: 0.0721058\n",
      "[80]\tvalid_0's l1: 0.0721062\n",
      "[81]\tvalid_0's l1: 0.0721057\n",
      "[82]\tvalid_0's l1: 0.0721012\n",
      "[83]\tvalid_0's l1: 0.0721031\n",
      "[84]\tvalid_0's l1: 0.0721024\n",
      "[85]\tvalid_0's l1: 0.0721037\n",
      "[86]\tvalid_0's l1: 0.0721065\n",
      "[87]\tvalid_0's l1: 0.0721027\n",
      "[88]\tvalid_0's l1: 0.0721031\n",
      "[89]\tvalid_0's l1: 0.0721016\n",
      "[90]\tvalid_0's l1: 0.072099\n",
      "[91]\tvalid_0's l1: 0.0720982\n",
      "[92]\tvalid_0's l1: 0.0720988\n",
      "[93]\tvalid_0's l1: 0.072098\n",
      "[94]\tvalid_0's l1: 0.072097\n",
      "[95]\tvalid_0's l1: 0.0720968\n",
      "[96]\tvalid_0's l1: 0.0720954\n",
      "[97]\tvalid_0's l1: 0.0720986\n",
      "[98]\tvalid_0's l1: 0.0720977\n",
      "[99]\tvalid_0's l1: 0.0720962\n",
      "[100]\tvalid_0's l1: 0.072096\n",
      "[101]\tvalid_0's l1: 0.0720969\n",
      "[102]\tvalid_0's l1: 0.0720955\n",
      "[103]\tvalid_0's l1: 0.0720932\n",
      "[104]\tvalid_0's l1: 0.0720916\n",
      "[105]\tvalid_0's l1: 0.0720908\n",
      "[106]\tvalid_0's l1: 0.0720906\n",
      "[107]\tvalid_0's l1: 0.0720891\n",
      "[108]\tvalid_0's l1: 0.0720908\n",
      "[109]\tvalid_0's l1: 0.0720928\n",
      "[110]\tvalid_0's l1: 0.072096\n",
      "[111]\tvalid_0's l1: 0.0720959\n",
      "[112]\tvalid_0's l1: 0.0720954\n",
      "[113]\tvalid_0's l1: 0.0720938\n",
      "[114]\tvalid_0's l1: 0.0720934\n",
      "[115]\tvalid_0's l1: 0.0720932\n",
      "[116]\tvalid_0's l1: 0.0720904\n",
      "[117]\tvalid_0's l1: 0.0720934\n",
      "[118]\tvalid_0's l1: 0.0720976\n",
      "[119]\tvalid_0's l1: 0.0720985\n",
      "[120]\tvalid_0's l1: 0.0720986\n",
      "[121]\tvalid_0's l1: 0.0720964\n",
      "[122]\tvalid_0's l1: 0.0720956\n",
      "[123]\tvalid_0's l1: 0.0720949\n",
      "[124]\tvalid_0's l1: 0.0720935\n",
      "[125]\tvalid_0's l1: 0.0720941\n",
      "[126]\tvalid_0's l1: 0.0720956\n",
      "[127]\tvalid_0's l1: 0.0720977\n",
      "[128]\tvalid_0's l1: 0.0720954\n",
      "[129]\tvalid_0's l1: 0.0720998\n",
      "[130]\tvalid_0's l1: 0.0721001\n",
      "[131]\tvalid_0's l1: 0.0720986\n",
      "[132]\tvalid_0's l1: 0.0721001\n",
      "[133]\tvalid_0's l1: 0.0721018\n",
      "[134]\tvalid_0's l1: 0.0721036\n",
      "[135]\tvalid_0's l1: 0.0721023\n",
      "[136]\tvalid_0's l1: 0.072099\n",
      "[137]\tvalid_0's l1: 0.0720976\n",
      "[138]\tvalid_0's l1: 0.0720995\n",
      "[139]\tvalid_0's l1: 0.0720972\n",
      "[140]\tvalid_0's l1: 0.0720967\n",
      "[141]\tvalid_0's l1: 0.0720963\n",
      "[142]\tvalid_0's l1: 0.0720948\n",
      "[143]\tvalid_0's l1: 0.0720949\n",
      "[144]\tvalid_0's l1: 0.0720959\n",
      "[145]\tvalid_0's l1: 0.0720954\n",
      "[146]\tvalid_0's l1: 0.0720962\n",
      "[147]\tvalid_0's l1: 0.0720966\n",
      "[148]\tvalid_0's l1: 0.0720987\n",
      "[149]\tvalid_0's l1: 0.0720985\n",
      "[150]\tvalid_0's l1: 0.0720982\n",
      "[151]\tvalid_0's l1: 0.0721022\n",
      "[152]\tvalid_0's l1: 0.0721023\n",
      "[153]\tvalid_0's l1: 0.0721018\n",
      "[154]\tvalid_0's l1: 0.0720988\n",
      "[155]\tvalid_0's l1: 0.0720999\n",
      "[156]\tvalid_0's l1: 0.0720996\n",
      "[157]\tvalid_0's l1: 0.0721007\n",
      "[158]\tvalid_0's l1: 0.0721001\n",
      "[159]\tvalid_0's l1: 0.0721016\n",
      "[160]\tvalid_0's l1: 0.0720974\n",
      "[161]\tvalid_0's l1: 0.0720985\n",
      "[162]\tvalid_0's l1: 0.0721004\n",
      "[163]\tvalid_0's l1: 0.0720997\n",
      "[164]\tvalid_0's l1: 0.0721027\n",
      "[165]\tvalid_0's l1: 0.0721022\n",
      "[166]\tvalid_0's l1: 0.0721042\n",
      "[167]\tvalid_0's l1: 0.0721036\n",
      "[168]\tvalid_0's l1: 0.072103\n",
      "[169]\tvalid_0's l1: 0.0721048\n",
      "[170]\tvalid_0's l1: 0.072106\n",
      "[171]\tvalid_0's l1: 0.0721056\n",
      "[172]\tvalid_0's l1: 0.0721029\n",
      "[173]\tvalid_0's l1: 0.0721049\n",
      "[174]\tvalid_0's l1: 0.0721068\n",
      "[175]\tvalid_0's l1: 0.0721066\n",
      "[176]\tvalid_0's l1: 0.0721079\n",
      "[177]\tvalid_0's l1: 0.072105\n",
      "[178]\tvalid_0's l1: 0.0721061\n",
      "[179]\tvalid_0's l1: 0.0721073\n",
      "[180]\tvalid_0's l1: 0.072106\n",
      "[181]\tvalid_0's l1: 0.0721059\n",
      "[182]\tvalid_0's l1: 0.0721069\n",
      "[183]\tvalid_0's l1: 0.0721055\n",
      "[184]\tvalid_0's l1: 0.0721048\n",
      "[185]\tvalid_0's l1: 0.0721049\n",
      "[186]\tvalid_0's l1: 0.0721032\n",
      "[187]\tvalid_0's l1: 0.0721041\n",
      "[188]\tvalid_0's l1: 0.0721039\n",
      "[189]\tvalid_0's l1: 0.0721025\n",
      "[190]\tvalid_0's l1: 0.0721021\n",
      "[191]\tvalid_0's l1: 0.0721059\n",
      "[192]\tvalid_0's l1: 0.0721049\n",
      "[193]\tvalid_0's l1: 0.072106\n",
      "[194]\tvalid_0's l1: 0.072106\n",
      "[195]\tvalid_0's l1: 0.072107\n",
      "[196]\tvalid_0's l1: 0.0721076\n",
      "[197]\tvalid_0's l1: 0.0721043\n",
      "[198]\tvalid_0's l1: 0.0721045\n",
      "[199]\tvalid_0's l1: 0.0721064\n",
      "[200]\tvalid_0's l1: 0.0721094\n",
      "[201]\tvalid_0's l1: 0.0721071\n",
      "[202]\tvalid_0's l1: 0.0721076\n",
      "[203]\tvalid_0's l1: 0.0721064\n",
      "[204]\tvalid_0's l1: 0.0721059\n",
      "[205]\tvalid_0's l1: 0.072106\n",
      "[206]\tvalid_0's l1: 0.0721019\n",
      "[207]\tvalid_0's l1: 0.0721032\n",
      "[208]\tvalid_0's l1: 0.0721012\n",
      "[209]\tvalid_0's l1: 0.0721048\n",
      "[210]\tvalid_0's l1: 0.0721049\n",
      "[211]\tvalid_0's l1: 0.0721039\n",
      "[212]\tvalid_0's l1: 0.0721039\n",
      "[213]\tvalid_0's l1: 0.0721026\n",
      "[214]\tvalid_0's l1: 0.0721018\n",
      "[215]\tvalid_0's l1: 0.0721002\n",
      "[216]\tvalid_0's l1: 0.0721014\n",
      "[217]\tvalid_0's l1: 0.0720993\n",
      "[218]\tvalid_0's l1: 0.0720966\n",
      "[219]\tvalid_0's l1: 0.0720978\n",
      "[220]\tvalid_0's l1: 0.0720965\n",
      "[221]\tvalid_0's l1: 0.0720948\n",
      "[222]\tvalid_0's l1: 0.0720943\n",
      "[223]\tvalid_0's l1: 0.072091\n",
      "[224]\tvalid_0's l1: 0.0720911\n",
      "[225]\tvalid_0's l1: 0.0720906\n",
      "[226]\tvalid_0's l1: 0.0720921\n",
      "[227]\tvalid_0's l1: 0.0720915\n",
      "[228]\tvalid_0's l1: 0.0720943\n",
      "[229]\tvalid_0's l1: 0.0720919\n",
      "[230]\tvalid_0's l1: 0.0720926\n",
      "[231]\tvalid_0's l1: 0.0720925\n",
      "[232]\tvalid_0's l1: 0.072091\n",
      "[233]\tvalid_0's l1: 0.0720919\n",
      "[234]\tvalid_0's l1: 0.0720914\n",
      "[235]\tvalid_0's l1: 0.0720912\n",
      "[236]\tvalid_0's l1: 0.0720912\n",
      "[237]\tvalid_0's l1: 0.072089\n",
      "[238]\tvalid_0's l1: 0.0720894\n",
      "[239]\tvalid_0's l1: 0.072089\n",
      "[240]\tvalid_0's l1: 0.0720874\n",
      "[241]\tvalid_0's l1: 0.0720866\n",
      "[242]\tvalid_0's l1: 0.0720854\n",
      "[243]\tvalid_0's l1: 0.0720865\n",
      "[244]\tvalid_0's l1: 0.0720883\n",
      "[245]\tvalid_0's l1: 0.0720906\n",
      "[246]\tvalid_0's l1: 0.0720922\n",
      "[247]\tvalid_0's l1: 0.0720909\n",
      "[248]\tvalid_0's l1: 0.0720924\n",
      "[249]\tvalid_0's l1: 0.0720896\n",
      "[250]\tvalid_0's l1: 0.0720883\n",
      "[251]\tvalid_0's l1: 0.0720857\n",
      "[252]\tvalid_0's l1: 0.072088\n",
      "[253]\tvalid_0's l1: 0.0720875\n",
      "[254]\tvalid_0's l1: 0.0720869\n",
      "[255]\tvalid_0's l1: 0.0720872\n",
      "[256]\tvalid_0's l1: 0.0720856\n",
      "[257]\tvalid_0's l1: 0.0720883\n",
      "[258]\tvalid_0's l1: 0.0720869\n",
      "[259]\tvalid_0's l1: 0.0720874\n",
      "[260]\tvalid_0's l1: 0.0720889\n",
      "[261]\tvalid_0's l1: 0.07209\n",
      "[262]\tvalid_0's l1: 0.0720883\n",
      "[263]\tvalid_0's l1: 0.0720908\n",
      "[264]\tvalid_0's l1: 0.0720868\n",
      "[265]\tvalid_0's l1: 0.072086\n",
      "[266]\tvalid_0's l1: 0.0720843\n",
      "[267]\tvalid_0's l1: 0.0720824\n",
      "[268]\tvalid_0's l1: 0.0720778\n",
      "[269]\tvalid_0's l1: 0.0720773\n",
      "[270]\tvalid_0's l1: 0.0720785\n",
      "[271]\tvalid_0's l1: 0.0720773\n",
      "[272]\tvalid_0's l1: 0.072077\n",
      "[273]\tvalid_0's l1: 0.0720776\n",
      "[274]\tvalid_0's l1: 0.0720775\n",
      "[275]\tvalid_0's l1: 0.0720756\n",
      "[276]\tvalid_0's l1: 0.0720753\n",
      "[277]\tvalid_0's l1: 0.0720757\n",
      "[278]\tvalid_0's l1: 0.0720737\n",
      "[279]\tvalid_0's l1: 0.0720723\n",
      "[280]\tvalid_0's l1: 0.0720717\n",
      "[281]\tvalid_0's l1: 0.0720715\n",
      "[282]\tvalid_0's l1: 0.0720724\n",
      "[283]\tvalid_0's l1: 0.0720741\n",
      "[284]\tvalid_0's l1: 0.072074\n",
      "[285]\tvalid_0's l1: 0.0720737\n",
      "[286]\tvalid_0's l1: 0.0720745\n",
      "[287]\tvalid_0's l1: 0.0720742\n",
      "[288]\tvalid_0's l1: 0.0720748\n",
      "[289]\tvalid_0's l1: 0.0720735\n",
      "[290]\tvalid_0's l1: 0.0720729\n",
      "[291]\tvalid_0's l1: 0.0720727\n",
      "[292]\tvalid_0's l1: 0.0720733\n",
      "[293]\tvalid_0's l1: 0.0720756\n",
      "[294]\tvalid_0's l1: 0.0720758\n",
      "[295]\tvalid_0's l1: 0.0720761\n",
      "[296]\tvalid_0's l1: 0.0720762\n",
      "[297]\tvalid_0's l1: 0.0720755\n",
      "[298]\tvalid_0's l1: 0.072073\n",
      "[299]\tvalid_0's l1: 0.0720723\n",
      "[300]\tvalid_0's l1: 0.0720752\n",
      "[301]\tvalid_0's l1: 0.0720749\n",
      "[302]\tvalid_0's l1: 0.0720758\n",
      "[303]\tvalid_0's l1: 0.0720736\n",
      "[304]\tvalid_0's l1: 0.072074\n",
      "[305]\tvalid_0's l1: 0.0720718\n",
      "[306]\tvalid_0's l1: 0.0720697\n",
      "[307]\tvalid_0's l1: 0.0720693\n",
      "[308]\tvalid_0's l1: 0.0720699\n",
      "[309]\tvalid_0's l1: 0.0720651\n",
      "[310]\tvalid_0's l1: 0.0720673\n",
      "[311]\tvalid_0's l1: 0.0720688\n",
      "[312]\tvalid_0's l1: 0.0720701\n",
      "[313]\tvalid_0's l1: 0.0720709\n",
      "[314]\tvalid_0's l1: 0.0720706\n",
      "[315]\tvalid_0's l1: 0.0720685\n",
      "[316]\tvalid_0's l1: 0.0720656\n",
      "[317]\tvalid_0's l1: 0.0720689\n",
      "[318]\tvalid_0's l1: 0.0720692\n",
      "[319]\tvalid_0's l1: 0.0720709\n",
      "[320]\tvalid_0's l1: 0.0720718\n",
      "[321]\tvalid_0's l1: 0.0720681\n",
      "[322]\tvalid_0's l1: 0.0720661\n",
      "[323]\tvalid_0's l1: 0.072065\n",
      "[324]\tvalid_0's l1: 0.0720655\n",
      "[325]\tvalid_0's l1: 0.0720675\n",
      "[326]\tvalid_0's l1: 0.0720662\n",
      "[327]\tvalid_0's l1: 0.072067\n",
      "[328]\tvalid_0's l1: 0.072068\n",
      "[329]\tvalid_0's l1: 0.072069\n",
      "[330]\tvalid_0's l1: 0.0720734\n",
      "[331]\tvalid_0's l1: 0.0720726\n",
      "[332]\tvalid_0's l1: 0.0720728\n",
      "[333]\tvalid_0's l1: 0.0720749\n",
      "[334]\tvalid_0's l1: 0.0720726\n",
      "[335]\tvalid_0's l1: 0.0720711\n",
      "[336]\tvalid_0's l1: 0.0720706\n",
      "[337]\tvalid_0's l1: 0.0720699\n",
      "[338]\tvalid_0's l1: 0.0720693\n",
      "[339]\tvalid_0's l1: 0.0720691\n",
      "[340]\tvalid_0's l1: 0.0720684\n",
      "[341]\tvalid_0's l1: 0.0720691\n",
      "[342]\tvalid_0's l1: 0.0720672\n",
      "[343]\tvalid_0's l1: 0.0720689\n",
      "[344]\tvalid_0's l1: 0.0720728\n",
      "[345]\tvalid_0's l1: 0.0720746\n",
      "[346]\tvalid_0's l1: 0.0720741\n",
      "[347]\tvalid_0's l1: 0.0720724\n",
      "[348]\tvalid_0's l1: 0.0720701\n",
      "[349]\tvalid_0's l1: 0.0720719\n",
      "[350]\tvalid_0's l1: 0.0720721\n",
      "[351]\tvalid_0's l1: 0.0720686\n",
      "[352]\tvalid_0's l1: 0.0720684\n",
      "[353]\tvalid_0's l1: 0.0720672\n",
      "[354]\tvalid_0's l1: 0.0720628\n",
      "[355]\tvalid_0's l1: 0.0720653\n",
      "[356]\tvalid_0's l1: 0.0720651\n",
      "[357]\tvalid_0's l1: 0.0720679\n",
      "[358]\tvalid_0's l1: 0.0720679\n",
      "[359]\tvalid_0's l1: 0.0720665\n",
      "[360]\tvalid_0's l1: 0.0720662\n",
      "[361]\tvalid_0's l1: 0.0720631\n",
      "[362]\tvalid_0's l1: 0.0720653\n",
      "[363]\tvalid_0's l1: 0.0720707\n",
      "[364]\tvalid_0's l1: 0.0720704\n",
      "[365]\tvalid_0's l1: 0.0720709\n",
      "[366]\tvalid_0's l1: 0.0720697\n",
      "[367]\tvalid_0's l1: 0.0720702\n",
      "[368]\tvalid_0's l1: 0.0720736\n",
      "[369]\tvalid_0's l1: 0.0720706\n",
      "[370]\tvalid_0's l1: 0.07207\n",
      "[371]\tvalid_0's l1: 0.072071\n",
      "[372]\tvalid_0's l1: 0.0720747\n",
      "[373]\tvalid_0's l1: 0.0720734\n",
      "[374]\tvalid_0's l1: 0.0720739\n",
      "[375]\tvalid_0's l1: 0.072073\n",
      "[376]\tvalid_0's l1: 0.0720725\n",
      "[377]\tvalid_0's l1: 0.0720713\n",
      "[378]\tvalid_0's l1: 0.0720736\n",
      "[379]\tvalid_0's l1: 0.0720745\n",
      "[380]\tvalid_0's l1: 0.072074\n",
      "[381]\tvalid_0's l1: 0.072074\n",
      "[382]\tvalid_0's l1: 0.0720752\n",
      "[383]\tvalid_0's l1: 0.0720761\n",
      "[384]\tvalid_0's l1: 0.072079\n",
      "[385]\tvalid_0's l1: 0.0720811\n",
      "[386]\tvalid_0's l1: 0.0720791\n",
      "[387]\tvalid_0's l1: 0.0720798\n",
      "[388]\tvalid_0's l1: 0.0720807\n",
      "[389]\tvalid_0's l1: 0.0720841\n",
      "[390]\tvalid_0's l1: 0.072082\n",
      "[391]\tvalid_0's l1: 0.0720833\n",
      "[392]\tvalid_0's l1: 0.0720821\n",
      "[393]\tvalid_0's l1: 0.0720816\n",
      "[394]\tvalid_0's l1: 0.0720804\n",
      "[395]\tvalid_0's l1: 0.0720801\n",
      "[396]\tvalid_0's l1: 0.0720836\n",
      "[397]\tvalid_0's l1: 0.0720867\n",
      "[398]\tvalid_0's l1: 0.0720879\n",
      "[399]\tvalid_0's l1: 0.0720883\n",
      "[400]\tvalid_0's l1: 0.0720926\n",
      "[401]\tvalid_0's l1: 0.0720927\n",
      "[402]\tvalid_0's l1: 0.0720988\n",
      "[403]\tvalid_0's l1: 0.0720966\n",
      "[404]\tvalid_0's l1: 0.0720995\n",
      "[405]\tvalid_0's l1: 0.0720982\n",
      "[406]\tvalid_0's l1: 0.0721018\n",
      "[407]\tvalid_0's l1: 0.0721014\n",
      "[408]\tvalid_0's l1: 0.0721019\n",
      "[409]\tvalid_0's l1: 0.0721022\n",
      "[410]\tvalid_0's l1: 0.0721017\n",
      "[411]\tvalid_0's l1: 0.0721039\n",
      "[412]\tvalid_0's l1: 0.0721039\n",
      "[413]\tvalid_0's l1: 0.0721051\n",
      "[414]\tvalid_0's l1: 0.0721054\n",
      "[415]\tvalid_0's l1: 0.0721086\n",
      "[416]\tvalid_0's l1: 0.0721097\n",
      "[417]\tvalid_0's l1: 0.0721135\n",
      "[418]\tvalid_0's l1: 0.0721126\n",
      "[419]\tvalid_0's l1: 0.0721134\n",
      "[420]\tvalid_0's l1: 0.0721101\n",
      "[421]\tvalid_0's l1: 0.0721093\n",
      "[422]\tvalid_0's l1: 0.0721105\n",
      "[423]\tvalid_0's l1: 0.0721103\n",
      "[424]\tvalid_0's l1: 0.0721107\n",
      "[425]\tvalid_0's l1: 0.0721098\n",
      "[426]\tvalid_0's l1: 0.0721121\n",
      "[427]\tvalid_0's l1: 0.0721125\n",
      "[428]\tvalid_0's l1: 0.0721109\n",
      "[429]\tvalid_0's l1: 0.0721116\n",
      "[430]\tvalid_0's l1: 0.0721109\n",
      "[431]\tvalid_0's l1: 0.0721103\n",
      "[432]\tvalid_0's l1: 0.0721107\n",
      "[433]\tvalid_0's l1: 0.0721122\n",
      "[434]\tvalid_0's l1: 0.0721128\n",
      "[435]\tvalid_0's l1: 0.0721125\n",
      "[436]\tvalid_0's l1: 0.072112\n",
      "[437]\tvalid_0's l1: 0.0721109\n",
      "[438]\tvalid_0's l1: 0.0721115\n",
      "[439]\tvalid_0's l1: 0.0721143\n",
      "[440]\tvalid_0's l1: 0.072113\n",
      "[441]\tvalid_0's l1: 0.0721123\n",
      "[442]\tvalid_0's l1: 0.0721118\n",
      "[443]\tvalid_0's l1: 0.072109\n",
      "[444]\tvalid_0's l1: 0.0721063\n",
      "[445]\tvalid_0's l1: 0.0721096\n",
      "[446]\tvalid_0's l1: 0.0721098\n",
      "[447]\tvalid_0's l1: 0.0721113\n",
      "[448]\tvalid_0's l1: 0.07211\n",
      "[449]\tvalid_0's l1: 0.0721103\n",
      "[450]\tvalid_0's l1: 0.0721112\n",
      "[451]\tvalid_0's l1: 0.0721116\n",
      "[452]\tvalid_0's l1: 0.0721118\n",
      "[453]\tvalid_0's l1: 0.0721132\n",
      "[454]\tvalid_0's l1: 0.0721154\n",
      "[455]\tvalid_0's l1: 0.0721127\n",
      "[456]\tvalid_0's l1: 0.0721165\n",
      "[457]\tvalid_0's l1: 0.0721154\n",
      "[458]\tvalid_0's l1: 0.0721126\n",
      "[459]\tvalid_0's l1: 0.0721112\n",
      "[460]\tvalid_0's l1: 0.0721121\n",
      "[461]\tvalid_0's l1: 0.072112\n",
      "[462]\tvalid_0's l1: 0.0721128\n",
      "[463]\tvalid_0's l1: 0.0721134\n",
      "[464]\tvalid_0's l1: 0.072113\n",
      "[465]\tvalid_0's l1: 0.0721148\n",
      "[466]\tvalid_0's l1: 0.0721157\n",
      "[467]\tvalid_0's l1: 0.0721163\n",
      "[468]\tvalid_0's l1: 0.0721164\n",
      "[469]\tvalid_0's l1: 0.0721137\n",
      "[470]\tvalid_0's l1: 0.0721143\n",
      "[471]\tvalid_0's l1: 0.0721154\n",
      "[472]\tvalid_0's l1: 0.0721181\n",
      "[473]\tvalid_0's l1: 0.0721203\n",
      "[474]\tvalid_0's l1: 0.0721211\n",
      "[475]\tvalid_0's l1: 0.072123\n",
      "[476]\tvalid_0's l1: 0.0721234\n",
      "[477]\tvalid_0's l1: 0.072126\n",
      "[478]\tvalid_0's l1: 0.072127\n",
      "[479]\tvalid_0's l1: 0.0721279\n",
      "[480]\tvalid_0's l1: 0.0721258\n",
      "[481]\tvalid_0's l1: 0.0721242\n",
      "[482]\tvalid_0's l1: 0.072124\n",
      "[483]\tvalid_0's l1: 0.0721251\n",
      "[484]\tvalid_0's l1: 0.0721232\n",
      "[485]\tvalid_0's l1: 0.0721256\n",
      "[486]\tvalid_0's l1: 0.0721246\n",
      "[487]\tvalid_0's l1: 0.0721243\n",
      "[488]\tvalid_0's l1: 0.0721276\n",
      "[489]\tvalid_0's l1: 0.0721275\n",
      "[490]\tvalid_0's l1: 0.072126\n",
      "[491]\tvalid_0's l1: 0.0721256\n",
      "[492]\tvalid_0's l1: 0.0721274\n",
      "[493]\tvalid_0's l1: 0.0721281\n",
      "[494]\tvalid_0's l1: 0.0721291\n",
      "[495]\tvalid_0's l1: 0.0721324\n",
      "[496]\tvalid_0's l1: 0.0721324\n",
      "[497]\tvalid_0's l1: 0.0721329\n",
      "[498]\tvalid_0's l1: 0.0721338\n",
      "[499]\tvalid_0's l1: 0.072134\n",
      "[500]\tvalid_0's l1: 0.0721366\n"
     ]
    }
   ],
   "source": [
    "# Fit the model \n",
    "watchlist = [d_valid]\n",
    "clf = lgb.train(params, d_train, 500, watchlist)"
   ]
  },
  {
   "cell_type": "code",
   "execution_count": 7,
   "metadata": {
    "collapsed": false
   },
   "outputs": [
    {
     "data": {
      "text/plain": [
       "[('training', 'l1', 0.067633289585609088, False)]"
      ]
     },
     "execution_count": 7,
     "metadata": {},
     "output_type": "execute_result"
    }
   ],
   "source": [
    "clf.eval_train()"
   ]
  },
  {
   "cell_type": "markdown",
   "metadata": {},
   "source": [
    "### Start Feature Importance Analysis  \n",
    "\n",
    "Feature importance can help us understand the important variables for the model "
   ]
  },
  {
   "cell_type": "code",
   "execution_count": 8,
   "metadata": {
    "collapsed": false
   },
   "outputs": [
    {
     "data": {
      "text/html": [
       "<div>\n",
       "<table border=\"1\" class=\"dataframe\">\n",
       "  <thead>\n",
       "    <tr style=\"text-align: right;\">\n",
       "      <th></th>\n",
       "      <th>LGBM number</th>\n",
       "    </tr>\n",
       "  </thead>\n",
       "  <tbody>\n",
       "    <tr>\n",
       "      <th>airconditioningtypeid</th>\n",
       "      <td>35</td>\n",
       "    </tr>\n",
       "    <tr>\n",
       "      <th>architecturalstyletypeid</th>\n",
       "      <td>0</td>\n",
       "    </tr>\n",
       "    <tr>\n",
       "      <th>basementsqft</th>\n",
       "      <td>0</td>\n",
       "    </tr>\n",
       "    <tr>\n",
       "      <th>bathroomcnt</th>\n",
       "      <td>337</td>\n",
       "    </tr>\n",
       "    <tr>\n",
       "      <th>bedroomcnt</th>\n",
       "      <td>537</td>\n",
       "    </tr>\n",
       "  </tbody>\n",
       "</table>\n",
       "</div>"
      ],
      "text/plain": [
       "                          LGBM number\n",
       "airconditioningtypeid              35\n",
       "architecturalstyletypeid            0\n",
       "basementsqft                        0\n",
       "bathroomcnt                       337\n",
       "bedroomcnt                        537"
      ]
     },
     "execution_count": 8,
     "metadata": {},
     "output_type": "execute_result"
    }
   ],
   "source": [
    "feature_importance1 = pd.DataFrame(data = clf.feature_importance().T, index = train_columns, columns={\"LGBM number\"})\n",
    "feature_importance1.head()"
   ]
  },
  {
   "cell_type": "code",
   "execution_count": 9,
   "metadata": {
    "collapsed": false
   },
   "outputs": [
    {
     "name": "stdout",
     "output_type": "stream",
     "text": [
      "13\n"
     ]
    },
    {
     "data": {
      "text/html": [
       "<div>\n",
       "<table border=\"1\" class=\"dataframe\">\n",
       "  <thead>\n",
       "    <tr style=\"text-align: right;\">\n",
       "      <th></th>\n",
       "      <th>LGBM number</th>\n",
       "    </tr>\n",
       "  </thead>\n",
       "  <tbody>\n",
       "    <tr>\n",
       "      <th>architecturalstyletypeid</th>\n",
       "      <td>0</td>\n",
       "    </tr>\n",
       "    <tr>\n",
       "      <th>basementsqft</th>\n",
       "      <td>0</td>\n",
       "    </tr>\n",
       "    <tr>\n",
       "      <th>buildingclasstypeid</th>\n",
       "      <td>0</td>\n",
       "    </tr>\n",
       "    <tr>\n",
       "      <th>decktypeid</th>\n",
       "      <td>0</td>\n",
       "    </tr>\n",
       "    <tr>\n",
       "      <th>finishedsquarefeet13</th>\n",
       "      <td>0</td>\n",
       "    </tr>\n",
       "    <tr>\n",
       "      <th>longitude</th>\n",
       "      <td>0</td>\n",
       "    </tr>\n",
       "    <tr>\n",
       "      <th>poolsizesum</th>\n",
       "      <td>0</td>\n",
       "    </tr>\n",
       "    <tr>\n",
       "      <th>storytypeid</th>\n",
       "      <td>0</td>\n",
       "    </tr>\n",
       "    <tr>\n",
       "      <th>typeconstructiontypeid</th>\n",
       "      <td>0</td>\n",
       "    </tr>\n",
       "    <tr>\n",
       "      <th>yardbuildingsqft26</th>\n",
       "      <td>0</td>\n",
       "    </tr>\n",
       "    <tr>\n",
       "      <th>fireplaceflag</th>\n",
       "      <td>0</td>\n",
       "    </tr>\n",
       "    <tr>\n",
       "      <th>assessmentyear</th>\n",
       "      <td>0</td>\n",
       "    </tr>\n",
       "    <tr>\n",
       "      <th>taxdelinquencyflag</th>\n",
       "      <td>0</td>\n",
       "    </tr>\n",
       "  </tbody>\n",
       "</table>\n",
       "</div>"
      ],
      "text/plain": [
       "                          LGBM number\n",
       "architecturalstyletypeid            0\n",
       "basementsqft                        0\n",
       "buildingclasstypeid                 0\n",
       "decktypeid                          0\n",
       "finishedsquarefeet13                0\n",
       "longitude                           0\n",
       "poolsizesum                         0\n",
       "storytypeid                         0\n",
       "typeconstructiontypeid              0\n",
       "yardbuildingsqft26                  0\n",
       "fireplaceflag                       0\n",
       "assessmentyear                      0\n",
       "taxdelinquencyflag                  0"
      ]
     },
     "execution_count": 9,
     "metadata": {},
     "output_type": "execute_result"
    }
   ],
   "source": [
    "# See which features have 0 importance \n",
    "print(len(feature_importance1[feature_importance1[\"LGBM number\"] == 0]))\n",
    "feature_importance1[feature_importance1[\"LGBM number\"]  == 0]"
   ]
  },
  {
   "cell_type": "code",
   "execution_count": 10,
   "metadata": {
    "collapsed": false
   },
   "outputs": [
    {
     "data": {
      "text/html": [
       "<div>\n",
       "<table border=\"1\" class=\"dataframe\">\n",
       "  <thead>\n",
       "    <tr style=\"text-align: right;\">\n",
       "      <th></th>\n",
       "      <th>LGBM number</th>\n",
       "    </tr>\n",
       "  </thead>\n",
       "  <tbody>\n",
       "    <tr>\n",
       "      <th>airconditioningtypeid</th>\n",
       "      <td>35</td>\n",
       "    </tr>\n",
       "    <tr>\n",
       "      <th>bathroomcnt</th>\n",
       "      <td>337</td>\n",
       "    </tr>\n",
       "    <tr>\n",
       "      <th>bedroomcnt</th>\n",
       "      <td>537</td>\n",
       "    </tr>\n",
       "    <tr>\n",
       "      <th>buildingqualitytypeid</th>\n",
       "      <td>296</td>\n",
       "    </tr>\n",
       "    <tr>\n",
       "      <th>calculatedbathnbr</th>\n",
       "      <td>311</td>\n",
       "    </tr>\n",
       "    <tr>\n",
       "      <th>finishedfloor1squarefeet</th>\n",
       "      <td>94</td>\n",
       "    </tr>\n",
       "    <tr>\n",
       "      <th>calculatedfinishedsquarefeet</th>\n",
       "      <td>1854</td>\n",
       "    </tr>\n",
       "    <tr>\n",
       "      <th>finishedsquarefeet12</th>\n",
       "      <td>2128</td>\n",
       "    </tr>\n",
       "    <tr>\n",
       "      <th>finishedsquarefeet15</th>\n",
       "      <td>354</td>\n",
       "    </tr>\n",
       "    <tr>\n",
       "      <th>finishedsquarefeet50</th>\n",
       "      <td>82</td>\n",
       "    </tr>\n",
       "    <tr>\n",
       "      <th>finishedsquarefeet6</th>\n",
       "      <td>19</td>\n",
       "    </tr>\n",
       "    <tr>\n",
       "      <th>fips</th>\n",
       "      <td>6</td>\n",
       "    </tr>\n",
       "    <tr>\n",
       "      <th>fireplacecnt</th>\n",
       "      <td>8</td>\n",
       "    </tr>\n",
       "    <tr>\n",
       "      <th>fullbathcnt</th>\n",
       "      <td>153</td>\n",
       "    </tr>\n",
       "    <tr>\n",
       "      <th>garagecarcnt</th>\n",
       "      <td>26</td>\n",
       "    </tr>\n",
       "    <tr>\n",
       "      <th>garagetotalsqft</th>\n",
       "      <td>322</td>\n",
       "    </tr>\n",
       "    <tr>\n",
       "      <th>hashottuborspa</th>\n",
       "      <td>121</td>\n",
       "    </tr>\n",
       "    <tr>\n",
       "      <th>heatingorsystemtypeid</th>\n",
       "      <td>408</td>\n",
       "    </tr>\n",
       "    <tr>\n",
       "      <th>latitude</th>\n",
       "      <td>1235</td>\n",
       "    </tr>\n",
       "    <tr>\n",
       "      <th>lotsizesquarefeet</th>\n",
       "      <td>1636</td>\n",
       "    </tr>\n",
       "    <tr>\n",
       "      <th>poolcnt</th>\n",
       "      <td>477</td>\n",
       "    </tr>\n",
       "    <tr>\n",
       "      <th>pooltypeid10</th>\n",
       "      <td>1</td>\n",
       "    </tr>\n",
       "    <tr>\n",
       "      <th>pooltypeid2</th>\n",
       "      <td>42</td>\n",
       "    </tr>\n",
       "    <tr>\n",
       "      <th>pooltypeid7</th>\n",
       "      <td>240</td>\n",
       "    </tr>\n",
       "    <tr>\n",
       "      <th>propertylandusetypeid</th>\n",
       "      <td>254</td>\n",
       "    </tr>\n",
       "    <tr>\n",
       "      <th>rawcensustractandblock</th>\n",
       "      <td>1276</td>\n",
       "    </tr>\n",
       "    <tr>\n",
       "      <th>regionidcity</th>\n",
       "      <td>887</td>\n",
       "    </tr>\n",
       "    <tr>\n",
       "      <th>regionidcounty</th>\n",
       "      <td>66</td>\n",
       "    </tr>\n",
       "    <tr>\n",
       "      <th>regionidneighborhood</th>\n",
       "      <td>1296</td>\n",
       "    </tr>\n",
       "    <tr>\n",
       "      <th>regionidzip</th>\n",
       "      <td>1685</td>\n",
       "    </tr>\n",
       "    <tr>\n",
       "      <th>roomcnt</th>\n",
       "      <td>144</td>\n",
       "    </tr>\n",
       "    <tr>\n",
       "      <th>threequarterbathnbr</th>\n",
       "      <td>14</td>\n",
       "    </tr>\n",
       "    <tr>\n",
       "      <th>unitcnt</th>\n",
       "      <td>126</td>\n",
       "    </tr>\n",
       "    <tr>\n",
       "      <th>yardbuildingsqft17</th>\n",
       "      <td>10</td>\n",
       "    </tr>\n",
       "    <tr>\n",
       "      <th>yearbuilt</th>\n",
       "      <td>1758</td>\n",
       "    </tr>\n",
       "    <tr>\n",
       "      <th>numberofstories</th>\n",
       "      <td>87</td>\n",
       "    </tr>\n",
       "    <tr>\n",
       "      <th>structuretaxvaluedollarcnt</th>\n",
       "      <td>1727</td>\n",
       "    </tr>\n",
       "    <tr>\n",
       "      <th>taxvaluedollarcnt</th>\n",
       "      <td>1453</td>\n",
       "    </tr>\n",
       "    <tr>\n",
       "      <th>landtaxvaluedollarcnt</th>\n",
       "      <td>978</td>\n",
       "    </tr>\n",
       "    <tr>\n",
       "      <th>taxamount</th>\n",
       "      <td>1281</td>\n",
       "    </tr>\n",
       "    <tr>\n",
       "      <th>taxdelinquencyyear</th>\n",
       "      <td>107</td>\n",
       "    </tr>\n",
       "    <tr>\n",
       "      <th>censustractandblock</th>\n",
       "      <td>629</td>\n",
       "    </tr>\n",
       "  </tbody>\n",
       "</table>\n",
       "</div>"
      ],
      "text/plain": [
       "                              LGBM number\n",
       "airconditioningtypeid                  35\n",
       "bathroomcnt                           337\n",
       "bedroomcnt                            537\n",
       "buildingqualitytypeid                 296\n",
       "calculatedbathnbr                     311\n",
       "finishedfloor1squarefeet               94\n",
       "calculatedfinishedsquarefeet         1854\n",
       "finishedsquarefeet12                 2128\n",
       "finishedsquarefeet15                  354\n",
       "finishedsquarefeet50                   82\n",
       "finishedsquarefeet6                    19\n",
       "fips                                    6\n",
       "fireplacecnt                            8\n",
       "fullbathcnt                           153\n",
       "garagecarcnt                           26\n",
       "garagetotalsqft                       322\n",
       "hashottuborspa                        121\n",
       "heatingorsystemtypeid                 408\n",
       "latitude                             1235\n",
       "lotsizesquarefeet                    1636\n",
       "poolcnt                               477\n",
       "pooltypeid10                            1\n",
       "pooltypeid2                            42\n",
       "pooltypeid7                           240\n",
       "propertylandusetypeid                 254\n",
       "rawcensustractandblock               1276\n",
       "regionidcity                          887\n",
       "regionidcounty                         66\n",
       "regionidneighborhood                 1296\n",
       "regionidzip                          1685\n",
       "roomcnt                               144\n",
       "threequarterbathnbr                    14\n",
       "unitcnt                               126\n",
       "yardbuildingsqft17                     10\n",
       "yearbuilt                            1758\n",
       "numberofstories                        87\n",
       "structuretaxvaluedollarcnt           1727\n",
       "taxvaluedollarcnt                    1453\n",
       "landtaxvaluedollarcnt                 978\n",
       "taxamount                            1281\n",
       "taxdelinquencyyear                    107\n",
       "censustractandblock                   629"
      ]
     },
     "execution_count": 10,
     "metadata": {},
     "output_type": "execute_result"
    }
   ],
   "source": [
    "feature_importance1[feature_importance1[\"LGBM number\"] != 0]"
   ]
  },
  {
   "cell_type": "markdown",
   "metadata": {},
   "source": [
    "We have a large variance of feature importances. The higher the better but we may want to get rid of the low importance variables for stability.  \n",
    "More variables could lead to better performance at the cost of more variance in the outcome. In this case we may not want as much variance in our outcome because the test set is so much larger than the training set.  \n",
    "\n",
    "First let's calculate the feature importance ratio for each of the variables. "
   ]
  },
  {
   "cell_type": "code",
   "execution_count": 11,
   "metadata": {
    "collapsed": false
   },
   "outputs": [
    {
     "data": {
      "text/html": [
       "<div>\n",
       "<table border=\"1\" class=\"dataframe\">\n",
       "  <thead>\n",
       "    <tr style=\"text-align: right;\">\n",
       "      <th></th>\n",
       "      <th>LGBM number</th>\n",
       "      <th>feature importance ratio</th>\n",
       "    </tr>\n",
       "  </thead>\n",
       "  <tbody>\n",
       "    <tr>\n",
       "      <th>airconditioningtypeid</th>\n",
       "      <td>35</td>\n",
       "      <td>0.001429</td>\n",
       "    </tr>\n",
       "    <tr>\n",
       "      <th>architecturalstyletypeid</th>\n",
       "      <td>0</td>\n",
       "      <td>0.000000</td>\n",
       "    </tr>\n",
       "    <tr>\n",
       "      <th>basementsqft</th>\n",
       "      <td>0</td>\n",
       "      <td>0.000000</td>\n",
       "    </tr>\n",
       "    <tr>\n",
       "      <th>bathroomcnt</th>\n",
       "      <td>337</td>\n",
       "      <td>0.013755</td>\n",
       "    </tr>\n",
       "    <tr>\n",
       "      <th>bedroomcnt</th>\n",
       "      <td>537</td>\n",
       "      <td>0.021918</td>\n",
       "    </tr>\n",
       "  </tbody>\n",
       "</table>\n",
       "</div>"
      ],
      "text/plain": [
       "                          LGBM number  feature importance ratio\n",
       "airconditioningtypeid              35                  0.001429\n",
       "architecturalstyletypeid            0                  0.000000\n",
       "basementsqft                        0                  0.000000\n",
       "bathroomcnt                       337                  0.013755\n",
       "bedroomcnt                        537                  0.021918"
      ]
     },
     "execution_count": 11,
     "metadata": {},
     "output_type": "execute_result"
    }
   ],
   "source": [
    "feat_imp_sum = feature_importance1[\"LGBM number\"].sum()\n",
    "feature_importance1[\"feature importance ratio\"] = feature_importance1[\"LGBM number\"].div(feat_imp_sum,axis = 0)\n",
    "feature_importance1.head()"
   ]
  },
  {
   "cell_type": "code",
   "execution_count": 12,
   "metadata": {
    "collapsed": false
   },
   "outputs": [
    {
     "data": {
      "text/html": [
       "<div>\n",
       "<table border=\"1\" class=\"dataframe\">\n",
       "  <thead>\n",
       "    <tr style=\"text-align: right;\">\n",
       "      <th></th>\n",
       "      <th>LGBM number</th>\n",
       "      <th>feature importance ratio</th>\n",
       "    </tr>\n",
       "  </thead>\n",
       "  <tbody>\n",
       "    <tr>\n",
       "      <th>finishedsquarefeet12</th>\n",
       "      <td>2128</td>\n",
       "      <td>0.086857</td>\n",
       "    </tr>\n",
       "    <tr>\n",
       "      <th>calculatedfinishedsquarefeet</th>\n",
       "      <td>1854</td>\n",
       "      <td>0.075673</td>\n",
       "    </tr>\n",
       "    <tr>\n",
       "      <th>yearbuilt</th>\n",
       "      <td>1758</td>\n",
       "      <td>0.071755</td>\n",
       "    </tr>\n",
       "    <tr>\n",
       "      <th>structuretaxvaluedollarcnt</th>\n",
       "      <td>1727</td>\n",
       "      <td>0.070490</td>\n",
       "    </tr>\n",
       "    <tr>\n",
       "      <th>regionidzip</th>\n",
       "      <td>1685</td>\n",
       "      <td>0.068776</td>\n",
       "    </tr>\n",
       "    <tr>\n",
       "      <th>lotsizesquarefeet</th>\n",
       "      <td>1636</td>\n",
       "      <td>0.066776</td>\n",
       "    </tr>\n",
       "    <tr>\n",
       "      <th>taxvaluedollarcnt</th>\n",
       "      <td>1453</td>\n",
       "      <td>0.059306</td>\n",
       "    </tr>\n",
       "    <tr>\n",
       "      <th>regionidneighborhood</th>\n",
       "      <td>1296</td>\n",
       "      <td>0.052898</td>\n",
       "    </tr>\n",
       "    <tr>\n",
       "      <th>taxamount</th>\n",
       "      <td>1281</td>\n",
       "      <td>0.052286</td>\n",
       "    </tr>\n",
       "    <tr>\n",
       "      <th>rawcensustractandblock</th>\n",
       "      <td>1276</td>\n",
       "      <td>0.052082</td>\n",
       "    </tr>\n",
       "    <tr>\n",
       "      <th>latitude</th>\n",
       "      <td>1235</td>\n",
       "      <td>0.050408</td>\n",
       "    </tr>\n",
       "    <tr>\n",
       "      <th>landtaxvaluedollarcnt</th>\n",
       "      <td>978</td>\n",
       "      <td>0.039918</td>\n",
       "    </tr>\n",
       "    <tr>\n",
       "      <th>regionidcity</th>\n",
       "      <td>887</td>\n",
       "      <td>0.036204</td>\n",
       "    </tr>\n",
       "    <tr>\n",
       "      <th>censustractandblock</th>\n",
       "      <td>629</td>\n",
       "      <td>0.025673</td>\n",
       "    </tr>\n",
       "    <tr>\n",
       "      <th>bedroomcnt</th>\n",
       "      <td>537</td>\n",
       "      <td>0.021918</td>\n",
       "    </tr>\n",
       "    <tr>\n",
       "      <th>poolcnt</th>\n",
       "      <td>477</td>\n",
       "      <td>0.019469</td>\n",
       "    </tr>\n",
       "    <tr>\n",
       "      <th>heatingorsystemtypeid</th>\n",
       "      <td>408</td>\n",
       "      <td>0.016653</td>\n",
       "    </tr>\n",
       "    <tr>\n",
       "      <th>finishedsquarefeet15</th>\n",
       "      <td>354</td>\n",
       "      <td>0.014449</td>\n",
       "    </tr>\n",
       "    <tr>\n",
       "      <th>bathroomcnt</th>\n",
       "      <td>337</td>\n",
       "      <td>0.013755</td>\n",
       "    </tr>\n",
       "    <tr>\n",
       "      <th>garagetotalsqft</th>\n",
       "      <td>322</td>\n",
       "      <td>0.013143</td>\n",
       "    </tr>\n",
       "    <tr>\n",
       "      <th>calculatedbathnbr</th>\n",
       "      <td>311</td>\n",
       "      <td>0.012694</td>\n",
       "    </tr>\n",
       "    <tr>\n",
       "      <th>buildingqualitytypeid</th>\n",
       "      <td>296</td>\n",
       "      <td>0.012082</td>\n",
       "    </tr>\n",
       "    <tr>\n",
       "      <th>propertylandusetypeid</th>\n",
       "      <td>254</td>\n",
       "      <td>0.010367</td>\n",
       "    </tr>\n",
       "    <tr>\n",
       "      <th>pooltypeid7</th>\n",
       "      <td>240</td>\n",
       "      <td>0.009796</td>\n",
       "    </tr>\n",
       "    <tr>\n",
       "      <th>fullbathcnt</th>\n",
       "      <td>153</td>\n",
       "      <td>0.006245</td>\n",
       "    </tr>\n",
       "    <tr>\n",
       "      <th>roomcnt</th>\n",
       "      <td>144</td>\n",
       "      <td>0.005878</td>\n",
       "    </tr>\n",
       "    <tr>\n",
       "      <th>unitcnt</th>\n",
       "      <td>126</td>\n",
       "      <td>0.005143</td>\n",
       "    </tr>\n",
       "    <tr>\n",
       "      <th>hashottuborspa</th>\n",
       "      <td>121</td>\n",
       "      <td>0.004939</td>\n",
       "    </tr>\n",
       "    <tr>\n",
       "      <th>taxdelinquencyyear</th>\n",
       "      <td>107</td>\n",
       "      <td>0.004367</td>\n",
       "    </tr>\n",
       "    <tr>\n",
       "      <th>finishedfloor1squarefeet</th>\n",
       "      <td>94</td>\n",
       "      <td>0.003837</td>\n",
       "    </tr>\n",
       "    <tr>\n",
       "      <th>numberofstories</th>\n",
       "      <td>87</td>\n",
       "      <td>0.003551</td>\n",
       "    </tr>\n",
       "    <tr>\n",
       "      <th>finishedsquarefeet50</th>\n",
       "      <td>82</td>\n",
       "      <td>0.003347</td>\n",
       "    </tr>\n",
       "    <tr>\n",
       "      <th>regionidcounty</th>\n",
       "      <td>66</td>\n",
       "      <td>0.002694</td>\n",
       "    </tr>\n",
       "    <tr>\n",
       "      <th>pooltypeid2</th>\n",
       "      <td>42</td>\n",
       "      <td>0.001714</td>\n",
       "    </tr>\n",
       "    <tr>\n",
       "      <th>airconditioningtypeid</th>\n",
       "      <td>35</td>\n",
       "      <td>0.001429</td>\n",
       "    </tr>\n",
       "    <tr>\n",
       "      <th>garagecarcnt</th>\n",
       "      <td>26</td>\n",
       "      <td>0.001061</td>\n",
       "    </tr>\n",
       "    <tr>\n",
       "      <th>finishedsquarefeet6</th>\n",
       "      <td>19</td>\n",
       "      <td>0.000776</td>\n",
       "    </tr>\n",
       "    <tr>\n",
       "      <th>threequarterbathnbr</th>\n",
       "      <td>14</td>\n",
       "      <td>0.000571</td>\n",
       "    </tr>\n",
       "    <tr>\n",
       "      <th>yardbuildingsqft17</th>\n",
       "      <td>10</td>\n",
       "      <td>0.000408</td>\n",
       "    </tr>\n",
       "    <tr>\n",
       "      <th>fireplacecnt</th>\n",
       "      <td>8</td>\n",
       "      <td>0.000327</td>\n",
       "    </tr>\n",
       "    <tr>\n",
       "      <th>fips</th>\n",
       "      <td>6</td>\n",
       "      <td>0.000245</td>\n",
       "    </tr>\n",
       "    <tr>\n",
       "      <th>pooltypeid10</th>\n",
       "      <td>1</td>\n",
       "      <td>0.000041</td>\n",
       "    </tr>\n",
       "    <tr>\n",
       "      <th>typeconstructiontypeid</th>\n",
       "      <td>0</td>\n",
       "      <td>0.000000</td>\n",
       "    </tr>\n",
       "    <tr>\n",
       "      <th>yardbuildingsqft26</th>\n",
       "      <td>0</td>\n",
       "      <td>0.000000</td>\n",
       "    </tr>\n",
       "    <tr>\n",
       "      <th>storytypeid</th>\n",
       "      <td>0</td>\n",
       "      <td>0.000000</td>\n",
       "    </tr>\n",
       "    <tr>\n",
       "      <th>architecturalstyletypeid</th>\n",
       "      <td>0</td>\n",
       "      <td>0.000000</td>\n",
       "    </tr>\n",
       "    <tr>\n",
       "      <th>fireplaceflag</th>\n",
       "      <td>0</td>\n",
       "      <td>0.000000</td>\n",
       "    </tr>\n",
       "    <tr>\n",
       "      <th>longitude</th>\n",
       "      <td>0</td>\n",
       "      <td>0.000000</td>\n",
       "    </tr>\n",
       "    <tr>\n",
       "      <th>finishedsquarefeet13</th>\n",
       "      <td>0</td>\n",
       "      <td>0.000000</td>\n",
       "    </tr>\n",
       "    <tr>\n",
       "      <th>assessmentyear</th>\n",
       "      <td>0</td>\n",
       "      <td>0.000000</td>\n",
       "    </tr>\n",
       "    <tr>\n",
       "      <th>decktypeid</th>\n",
       "      <td>0</td>\n",
       "      <td>0.000000</td>\n",
       "    </tr>\n",
       "    <tr>\n",
       "      <th>buildingclasstypeid</th>\n",
       "      <td>0</td>\n",
       "      <td>0.000000</td>\n",
       "    </tr>\n",
       "    <tr>\n",
       "      <th>taxdelinquencyflag</th>\n",
       "      <td>0</td>\n",
       "      <td>0.000000</td>\n",
       "    </tr>\n",
       "    <tr>\n",
       "      <th>basementsqft</th>\n",
       "      <td>0</td>\n",
       "      <td>0.000000</td>\n",
       "    </tr>\n",
       "    <tr>\n",
       "      <th>poolsizesum</th>\n",
       "      <td>0</td>\n",
       "      <td>0.000000</td>\n",
       "    </tr>\n",
       "  </tbody>\n",
       "</table>\n",
       "</div>"
      ],
      "text/plain": [
       "                              LGBM number  feature importance ratio\n",
       "finishedsquarefeet12                 2128                  0.086857\n",
       "calculatedfinishedsquarefeet         1854                  0.075673\n",
       "yearbuilt                            1758                  0.071755\n",
       "structuretaxvaluedollarcnt           1727                  0.070490\n",
       "regionidzip                          1685                  0.068776\n",
       "lotsizesquarefeet                    1636                  0.066776\n",
       "taxvaluedollarcnt                    1453                  0.059306\n",
       "regionidneighborhood                 1296                  0.052898\n",
       "taxamount                            1281                  0.052286\n",
       "rawcensustractandblock               1276                  0.052082\n",
       "latitude                             1235                  0.050408\n",
       "landtaxvaluedollarcnt                 978                  0.039918\n",
       "regionidcity                          887                  0.036204\n",
       "censustractandblock                   629                  0.025673\n",
       "bedroomcnt                            537                  0.021918\n",
       "poolcnt                               477                  0.019469\n",
       "heatingorsystemtypeid                 408                  0.016653\n",
       "finishedsquarefeet15                  354                  0.014449\n",
       "bathroomcnt                           337                  0.013755\n",
       "garagetotalsqft                       322                  0.013143\n",
       "calculatedbathnbr                     311                  0.012694\n",
       "buildingqualitytypeid                 296                  0.012082\n",
       "propertylandusetypeid                 254                  0.010367\n",
       "pooltypeid7                           240                  0.009796\n",
       "fullbathcnt                           153                  0.006245\n",
       "roomcnt                               144                  0.005878\n",
       "unitcnt                               126                  0.005143\n",
       "hashottuborspa                        121                  0.004939\n",
       "taxdelinquencyyear                    107                  0.004367\n",
       "finishedfloor1squarefeet               94                  0.003837\n",
       "numberofstories                        87                  0.003551\n",
       "finishedsquarefeet50                   82                  0.003347\n",
       "regionidcounty                         66                  0.002694\n",
       "pooltypeid2                            42                  0.001714\n",
       "airconditioningtypeid                  35                  0.001429\n",
       "garagecarcnt                           26                  0.001061\n",
       "finishedsquarefeet6                    19                  0.000776\n",
       "threequarterbathnbr                    14                  0.000571\n",
       "yardbuildingsqft17                     10                  0.000408\n",
       "fireplacecnt                            8                  0.000327\n",
       "fips                                    6                  0.000245\n",
       "pooltypeid10                            1                  0.000041\n",
       "typeconstructiontypeid                  0                  0.000000\n",
       "yardbuildingsqft26                      0                  0.000000\n",
       "storytypeid                             0                  0.000000\n",
       "architecturalstyletypeid                0                  0.000000\n",
       "fireplaceflag                           0                  0.000000\n",
       "longitude                               0                  0.000000\n",
       "finishedsquarefeet13                    0                  0.000000\n",
       "assessmentyear                          0                  0.000000\n",
       "decktypeid                              0                  0.000000\n",
       "buildingclasstypeid                     0                  0.000000\n",
       "taxdelinquencyflag                      0                  0.000000\n",
       "basementsqft                            0                  0.000000\n",
       "poolsizesum                             0                  0.000000"
      ]
     },
     "execution_count": 12,
     "metadata": {},
     "output_type": "execute_result"
    }
   ],
   "source": [
    "feature_importance1.sort_values([\"feature importance ratio\"], ascending=False)"
   ]
  },
  {
   "cell_type": "markdown",
   "metadata": {},
   "source": [
    "Interesting that the variable with the most importance about 8% of the total.  \n",
    "There are a lot of values with very low feature importance as well.  \n",
    "Let's arbitrarily take out the variables with less than 1% of the feature importance "
   ]
  },
  {
   "cell_type": "code",
   "execution_count": 13,
   "metadata": {
    "collapsed": false
   },
   "outputs": [
    {
     "data": {
      "text/plain": [
       "27"
      ]
     },
     "execution_count": 13,
     "metadata": {},
     "output_type": "execute_result"
    }
   ],
   "source": [
    "# Number of features with relative ratio greater than 1% \n",
    "len(feature_importance1[feature_importance1[\"feature importance ratio\"] > 0.005])"
   ]
  },
  {
   "cell_type": "code",
   "execution_count": 14,
   "metadata": {
    "collapsed": false
   },
   "outputs": [
    {
     "data": {
      "text/html": [
       "<div>\n",
       "<table border=\"1\" class=\"dataframe\">\n",
       "  <thead>\n",
       "    <tr style=\"text-align: right;\">\n",
       "      <th></th>\n",
       "      <th>LGBM number</th>\n",
       "      <th>feature importance ratio</th>\n",
       "    </tr>\n",
       "  </thead>\n",
       "  <tbody>\n",
       "    <tr>\n",
       "      <th>bathroomcnt</th>\n",
       "      <td>337</td>\n",
       "      <td>0.013755</td>\n",
       "    </tr>\n",
       "    <tr>\n",
       "      <th>bedroomcnt</th>\n",
       "      <td>537</td>\n",
       "      <td>0.021918</td>\n",
       "    </tr>\n",
       "    <tr>\n",
       "      <th>buildingqualitytypeid</th>\n",
       "      <td>296</td>\n",
       "      <td>0.012082</td>\n",
       "    </tr>\n",
       "    <tr>\n",
       "      <th>calculatedbathnbr</th>\n",
       "      <td>311</td>\n",
       "      <td>0.012694</td>\n",
       "    </tr>\n",
       "    <tr>\n",
       "      <th>calculatedfinishedsquarefeet</th>\n",
       "      <td>1854</td>\n",
       "      <td>0.075673</td>\n",
       "    </tr>\n",
       "    <tr>\n",
       "      <th>finishedsquarefeet12</th>\n",
       "      <td>2128</td>\n",
       "      <td>0.086857</td>\n",
       "    </tr>\n",
       "    <tr>\n",
       "      <th>finishedsquarefeet15</th>\n",
       "      <td>354</td>\n",
       "      <td>0.014449</td>\n",
       "    </tr>\n",
       "    <tr>\n",
       "      <th>fullbathcnt</th>\n",
       "      <td>153</td>\n",
       "      <td>0.006245</td>\n",
       "    </tr>\n",
       "    <tr>\n",
       "      <th>garagetotalsqft</th>\n",
       "      <td>322</td>\n",
       "      <td>0.013143</td>\n",
       "    </tr>\n",
       "    <tr>\n",
       "      <th>heatingorsystemtypeid</th>\n",
       "      <td>408</td>\n",
       "      <td>0.016653</td>\n",
       "    </tr>\n",
       "    <tr>\n",
       "      <th>latitude</th>\n",
       "      <td>1235</td>\n",
       "      <td>0.050408</td>\n",
       "    </tr>\n",
       "    <tr>\n",
       "      <th>lotsizesquarefeet</th>\n",
       "      <td>1636</td>\n",
       "      <td>0.066776</td>\n",
       "    </tr>\n",
       "    <tr>\n",
       "      <th>poolcnt</th>\n",
       "      <td>477</td>\n",
       "      <td>0.019469</td>\n",
       "    </tr>\n",
       "    <tr>\n",
       "      <th>pooltypeid7</th>\n",
       "      <td>240</td>\n",
       "      <td>0.009796</td>\n",
       "    </tr>\n",
       "    <tr>\n",
       "      <th>propertylandusetypeid</th>\n",
       "      <td>254</td>\n",
       "      <td>0.010367</td>\n",
       "    </tr>\n",
       "    <tr>\n",
       "      <th>rawcensustractandblock</th>\n",
       "      <td>1276</td>\n",
       "      <td>0.052082</td>\n",
       "    </tr>\n",
       "    <tr>\n",
       "      <th>regionidcity</th>\n",
       "      <td>887</td>\n",
       "      <td>0.036204</td>\n",
       "    </tr>\n",
       "    <tr>\n",
       "      <th>regionidneighborhood</th>\n",
       "      <td>1296</td>\n",
       "      <td>0.052898</td>\n",
       "    </tr>\n",
       "    <tr>\n",
       "      <th>regionidzip</th>\n",
       "      <td>1685</td>\n",
       "      <td>0.068776</td>\n",
       "    </tr>\n",
       "    <tr>\n",
       "      <th>roomcnt</th>\n",
       "      <td>144</td>\n",
       "      <td>0.005878</td>\n",
       "    </tr>\n",
       "    <tr>\n",
       "      <th>unitcnt</th>\n",
       "      <td>126</td>\n",
       "      <td>0.005143</td>\n",
       "    </tr>\n",
       "    <tr>\n",
       "      <th>yearbuilt</th>\n",
       "      <td>1758</td>\n",
       "      <td>0.071755</td>\n",
       "    </tr>\n",
       "    <tr>\n",
       "      <th>structuretaxvaluedollarcnt</th>\n",
       "      <td>1727</td>\n",
       "      <td>0.070490</td>\n",
       "    </tr>\n",
       "    <tr>\n",
       "      <th>taxvaluedollarcnt</th>\n",
       "      <td>1453</td>\n",
       "      <td>0.059306</td>\n",
       "    </tr>\n",
       "    <tr>\n",
       "      <th>landtaxvaluedollarcnt</th>\n",
       "      <td>978</td>\n",
       "      <td>0.039918</td>\n",
       "    </tr>\n",
       "    <tr>\n",
       "      <th>taxamount</th>\n",
       "      <td>1281</td>\n",
       "      <td>0.052286</td>\n",
       "    </tr>\n",
       "    <tr>\n",
       "      <th>censustractandblock</th>\n",
       "      <td>629</td>\n",
       "      <td>0.025673</td>\n",
       "    </tr>\n",
       "  </tbody>\n",
       "</table>\n",
       "</div>"
      ],
      "text/plain": [
       "                              LGBM number  feature importance ratio\n",
       "bathroomcnt                           337                  0.013755\n",
       "bedroomcnt                            537                  0.021918\n",
       "buildingqualitytypeid                 296                  0.012082\n",
       "calculatedbathnbr                     311                  0.012694\n",
       "calculatedfinishedsquarefeet         1854                  0.075673\n",
       "finishedsquarefeet12                 2128                  0.086857\n",
       "finishedsquarefeet15                  354                  0.014449\n",
       "fullbathcnt                           153                  0.006245\n",
       "garagetotalsqft                       322                  0.013143\n",
       "heatingorsystemtypeid                 408                  0.016653\n",
       "latitude                             1235                  0.050408\n",
       "lotsizesquarefeet                    1636                  0.066776\n",
       "poolcnt                               477                  0.019469\n",
       "pooltypeid7                           240                  0.009796\n",
       "propertylandusetypeid                 254                  0.010367\n",
       "rawcensustractandblock               1276                  0.052082\n",
       "regionidcity                          887                  0.036204\n",
       "regionidneighborhood                 1296                  0.052898\n",
       "regionidzip                          1685                  0.068776\n",
       "roomcnt                               144                  0.005878\n",
       "unitcnt                               126                  0.005143\n",
       "yearbuilt                            1758                  0.071755\n",
       "structuretaxvaluedollarcnt           1727                  0.070490\n",
       "taxvaluedollarcnt                    1453                  0.059306\n",
       "landtaxvaluedollarcnt                 978                  0.039918\n",
       "taxamount                            1281                  0.052286\n",
       "censustractandblock                   629                  0.025673"
      ]
     },
     "execution_count": 14,
     "metadata": {},
     "output_type": "execute_result"
    }
   ],
   "source": [
    "feature_importance1[feature_importance1[\"feature importance ratio\"] > 0.005]"
   ]
  },
  {
   "cell_type": "code",
   "execution_count": 15,
   "metadata": {
    "collapsed": false
   },
   "outputs": [],
   "source": [
    "low_feat_imp_variables = feature_importance1[feature_importance1[\"feature importance ratio\"] < 0.005].index\n",
    "# add low feature importance variables to the identifiers (and other variables we don't want in ) \n",
    "drop_cols2 = low_feat_imp_variables.append(pd.Index(drop_cols1))"
   ]
  },
  {
   "cell_type": "code",
   "execution_count": 16,
   "metadata": {
    "collapsed": false
   },
   "outputs": [
    {
     "data": {
      "text/plain": [
       "(90275, 27)"
      ]
     },
     "execution_count": 16,
     "metadata": {},
     "output_type": "execute_result"
    }
   ],
   "source": [
    "# Make a new training dataset (from original imported dataset )\n",
    "x_train1 = df_train.drop(drop_cols2, axis = 1)\n",
    "x_train1.shape"
   ]
  },
  {
   "cell_type": "code",
   "execution_count": 17,
   "metadata": {
    "collapsed": false
   },
   "outputs": [],
   "source": [
    "train_columns = x_train1.columns\n",
    "y_train =  df_train['logerror'].values\n",
    "# Not sure what this loop does \n",
    "for c in x_train1.dtypes[x_train1.dtypes == object].index.values:\n",
    "    x_train1[c] = (x_train1[c] == True)\n",
    "\n",
    "#del df_train; gc.collect()\n",
    "\n",
    "#Recreate the training and test datasets with only the new columns we want \n",
    "split = 90000\n",
    "x_train2, y_train2, x_valid2, y_valid2 = x_train1[:split], y_train[:split], x_train1[split:], y_train[split:]\n",
    "x_train2 = x_train2.values.astype(np.float32, copy=False)\n",
    "x_valid2 = x_valid2.values.astype(np.float32, copy=False)\n",
    "\n",
    "d_train2 = lgb.Dataset(x_train2, label=y_train2)\n",
    "d_valid2 = lgb.Dataset(x_valid2, label=y_valid2)"
   ]
  },
  {
   "cell_type": "code",
   "execution_count": 18,
   "metadata": {
    "collapsed": false
   },
   "outputs": [
    {
     "data": {
      "text/plain": [
       "(90000, 27)"
      ]
     },
     "execution_count": 18,
     "metadata": {},
     "output_type": "execute_result"
    }
   ],
   "source": [
    "x_train2.shape"
   ]
  },
  {
   "cell_type": "code",
   "execution_count": 19,
   "metadata": {
    "collapsed": false
   },
   "outputs": [
    {
     "data": {
      "text/plain": [
       "(90275,)"
      ]
     },
     "execution_count": 19,
     "metadata": {},
     "output_type": "execute_result"
    }
   ],
   "source": [
    "y_train.shape"
   ]
  },
  {
   "cell_type": "code",
   "execution_count": 20,
   "metadata": {
    "collapsed": false
   },
   "outputs": [
    {
     "name": "stdout",
     "output_type": "stream",
     "text": [
      "(275,)\n",
      "(275, 27)\n"
     ]
    }
   ],
   "source": [
    "print(y_valid2.shape)\n",
    "print(x_valid2.shape)"
   ]
  },
  {
   "cell_type": "code",
   "execution_count": 21,
   "metadata": {
    "collapsed": false
   },
   "outputs": [
    {
     "name": "stdout",
     "output_type": "stream",
     "text": [
      "(90000, 27)\n",
      "(90000,)\n"
     ]
    }
   ],
   "source": [
    "print(x_train2.shape)\n",
    "print(y_train2.shape)"
   ]
  },
  {
   "cell_type": "code",
   "execution_count": 22,
   "metadata": {
    "collapsed": false
   },
   "outputs": [
    {
     "name": "stdout",
     "output_type": "stream",
     "text": [
      "[1]\tvalid_0's l1: 0.07213\n",
      "[2]\tvalid_0's l1: 0.0721292\n",
      "[3]\tvalid_0's l1: 0.0721292\n",
      "[4]\tvalid_0's l1: 0.0721272\n",
      "[5]\tvalid_0's l1: 0.0721263\n",
      "[6]\tvalid_0's l1: 0.0721235\n",
      "[7]\tvalid_0's l1: 0.0721218\n",
      "[8]\tvalid_0's l1: 0.0721227\n",
      "[9]\tvalid_0's l1: 0.0721227\n",
      "[10]\tvalid_0's l1: 0.0721228\n",
      "[11]\tvalid_0's l1: 0.0721236\n",
      "[12]\tvalid_0's l1: 0.0721248\n",
      "[13]\tvalid_0's l1: 0.0721246\n",
      "[14]\tvalid_0's l1: 0.0721254\n",
      "[15]\tvalid_0's l1: 0.0721261\n",
      "[16]\tvalid_0's l1: 0.0721257\n",
      "[17]\tvalid_0's l1: 0.072123\n",
      "[18]\tvalid_0's l1: 0.0721232\n",
      "[19]\tvalid_0's l1: 0.072125\n",
      "[20]\tvalid_0's l1: 0.072126\n",
      "[21]\tvalid_0's l1: 0.0721282\n",
      "[22]\tvalid_0's l1: 0.0721272\n",
      "[23]\tvalid_0's l1: 0.0721248\n",
      "[24]\tvalid_0's l1: 0.0721234\n",
      "[25]\tvalid_0's l1: 0.0721178\n",
      "[26]\tvalid_0's l1: 0.0721167\n",
      "[27]\tvalid_0's l1: 0.0721177\n",
      "[28]\tvalid_0's l1: 0.0721196\n",
      "[29]\tvalid_0's l1: 0.0721175\n",
      "[30]\tvalid_0's l1: 0.0721183\n",
      "[31]\tvalid_0's l1: 0.0721178\n",
      "[32]\tvalid_0's l1: 0.0721173\n",
      "[33]\tvalid_0's l1: 0.0721145\n",
      "[34]\tvalid_0's l1: 0.0721131\n",
      "[35]\tvalid_0's l1: 0.0721139\n",
      "[36]\tvalid_0's l1: 0.0721127\n",
      "[37]\tvalid_0's l1: 0.0721142\n",
      "[38]\tvalid_0's l1: 0.0721148\n",
      "[39]\tvalid_0's l1: 0.0721134\n",
      "[40]\tvalid_0's l1: 0.0721145\n",
      "[41]\tvalid_0's l1: 0.072114\n",
      "[42]\tvalid_0's l1: 0.0721147\n",
      "[43]\tvalid_0's l1: 0.0721149\n",
      "[44]\tvalid_0's l1: 0.0721167\n",
      "[45]\tvalid_0's l1: 0.0721158\n",
      "[46]\tvalid_0's l1: 0.0721178\n",
      "[47]\tvalid_0's l1: 0.072116\n",
      "[48]\tvalid_0's l1: 0.0721148\n",
      "[49]\tvalid_0's l1: 0.0721164\n",
      "[50]\tvalid_0's l1: 0.0721174\n",
      "[51]\tvalid_0's l1: 0.0721156\n",
      "[52]\tvalid_0's l1: 0.0721165\n",
      "[53]\tvalid_0's l1: 0.0721154\n",
      "[54]\tvalid_0's l1: 0.072113\n",
      "[55]\tvalid_0's l1: 0.072115\n",
      "[56]\tvalid_0's l1: 0.0721119\n",
      "[57]\tvalid_0's l1: 0.072111\n",
      "[58]\tvalid_0's l1: 0.0721128\n",
      "[59]\tvalid_0's l1: 0.0721129\n",
      "[60]\tvalid_0's l1: 0.0721134\n",
      "[61]\tvalid_0's l1: 0.0721132\n",
      "[62]\tvalid_0's l1: 0.072112\n",
      "[63]\tvalid_0's l1: 0.0721084\n",
      "[64]\tvalid_0's l1: 0.0721082\n",
      "[65]\tvalid_0's l1: 0.0721089\n",
      "[66]\tvalid_0's l1: 0.0721103\n",
      "[67]\tvalid_0's l1: 0.0721064\n",
      "[68]\tvalid_0's l1: 0.0721067\n",
      "[69]\tvalid_0's l1: 0.0721086\n",
      "[70]\tvalid_0's l1: 0.0721045\n",
      "[71]\tvalid_0's l1: 0.0721017\n",
      "[72]\tvalid_0's l1: 0.0720989\n",
      "[73]\tvalid_0's l1: 0.072099\n",
      "[74]\tvalid_0's l1: 0.0720988\n",
      "[75]\tvalid_0's l1: 0.0720995\n",
      "[76]\tvalid_0's l1: 0.0721032\n",
      "[77]\tvalid_0's l1: 0.0721024\n",
      "[78]\tvalid_0's l1: 0.0720989\n",
      "[79]\tvalid_0's l1: 0.072096\n",
      "[80]\tvalid_0's l1: 0.0720977\n",
      "[81]\tvalid_0's l1: 0.0721004\n",
      "[82]\tvalid_0's l1: 0.0720982\n",
      "[83]\tvalid_0's l1: 0.0720996\n",
      "[84]\tvalid_0's l1: 0.0721013\n",
      "[85]\tvalid_0's l1: 0.0720983\n",
      "[86]\tvalid_0's l1: 0.0720954\n",
      "[87]\tvalid_0's l1: 0.0720938\n",
      "[88]\tvalid_0's l1: 0.0720927\n",
      "[89]\tvalid_0's l1: 0.0720951\n",
      "[90]\tvalid_0's l1: 0.0720974\n",
      "[91]\tvalid_0's l1: 0.0720959\n",
      "[92]\tvalid_0's l1: 0.0720978\n",
      "[93]\tvalid_0's l1: 0.0720994\n",
      "[94]\tvalid_0's l1: 0.0720987\n",
      "[95]\tvalid_0's l1: 0.0720944\n",
      "[96]\tvalid_0's l1: 0.0720914\n",
      "[97]\tvalid_0's l1: 0.0720895\n",
      "[98]\tvalid_0's l1: 0.0720874\n",
      "[99]\tvalid_0's l1: 0.0720866\n",
      "[100]\tvalid_0's l1: 0.0720876\n",
      "[101]\tvalid_0's l1: 0.0720832\n",
      "[102]\tvalid_0's l1: 0.0720834\n",
      "[103]\tvalid_0's l1: 0.0720836\n",
      "[104]\tvalid_0's l1: 0.0720824\n",
      "[105]\tvalid_0's l1: 0.0720815\n",
      "[106]\tvalid_0's l1: 0.0720835\n",
      "[107]\tvalid_0's l1: 0.0720834\n",
      "[108]\tvalid_0's l1: 0.0720834\n",
      "[109]\tvalid_0's l1: 0.0720828\n",
      "[110]\tvalid_0's l1: 0.0720841\n",
      "[111]\tvalid_0's l1: 0.072084\n",
      "[112]\tvalid_0's l1: 0.0720825\n",
      "[113]\tvalid_0's l1: 0.0720787\n",
      "[114]\tvalid_0's l1: 0.0720808\n",
      "[115]\tvalid_0's l1: 0.0720823\n",
      "[116]\tvalid_0's l1: 0.0720812\n",
      "[117]\tvalid_0's l1: 0.0720815\n",
      "[118]\tvalid_0's l1: 0.0720813\n",
      "[119]\tvalid_0's l1: 0.0720818\n",
      "[120]\tvalid_0's l1: 0.0720852\n",
      "[121]\tvalid_0's l1: 0.0720841\n",
      "[122]\tvalid_0's l1: 0.0720854\n",
      "[123]\tvalid_0's l1: 0.0720862\n",
      "[124]\tvalid_0's l1: 0.0720853\n",
      "[125]\tvalid_0's l1: 0.0720837\n",
      "[126]\tvalid_0's l1: 0.0720831\n",
      "[127]\tvalid_0's l1: 0.0720838\n",
      "[128]\tvalid_0's l1: 0.072083\n",
      "[129]\tvalid_0's l1: 0.0720836\n",
      "[130]\tvalid_0's l1: 0.0720858\n",
      "[131]\tvalid_0's l1: 0.0720879\n",
      "[132]\tvalid_0's l1: 0.0720844\n",
      "[133]\tvalid_0's l1: 0.072083\n",
      "[134]\tvalid_0's l1: 0.0720833\n",
      "[135]\tvalid_0's l1: 0.0720834\n",
      "[136]\tvalid_0's l1: 0.0720828\n",
      "[137]\tvalid_0's l1: 0.0720833\n",
      "[138]\tvalid_0's l1: 0.0720842\n",
      "[139]\tvalid_0's l1: 0.0720827\n",
      "[140]\tvalid_0's l1: 0.0720823\n",
      "[141]\tvalid_0's l1: 0.072081\n",
      "[142]\tvalid_0's l1: 0.0720821\n",
      "[143]\tvalid_0's l1: 0.0720833\n",
      "[144]\tvalid_0's l1: 0.0720831\n",
      "[145]\tvalid_0's l1: 0.0720828\n",
      "[146]\tvalid_0's l1: 0.0720831\n",
      "[147]\tvalid_0's l1: 0.0720851\n",
      "[148]\tvalid_0's l1: 0.0720836\n",
      "[149]\tvalid_0's l1: 0.0720816\n",
      "[150]\tvalid_0's l1: 0.072079\n",
      "[151]\tvalid_0's l1: 0.072079\n",
      "[152]\tvalid_0's l1: 0.0720778\n",
      "[153]\tvalid_0's l1: 0.0720791\n",
      "[154]\tvalid_0's l1: 0.0720801\n",
      "[155]\tvalid_0's l1: 0.072079\n",
      "[156]\tvalid_0's l1: 0.0720785\n",
      "[157]\tvalid_0's l1: 0.0720804\n",
      "[158]\tvalid_0's l1: 0.0720811\n",
      "[159]\tvalid_0's l1: 0.0720814\n",
      "[160]\tvalid_0's l1: 0.0720817\n",
      "[161]\tvalid_0's l1: 0.0720828\n",
      "[162]\tvalid_0's l1: 0.0720829\n",
      "[163]\tvalid_0's l1: 0.0720815\n",
      "[164]\tvalid_0's l1: 0.0720799\n",
      "[165]\tvalid_0's l1: 0.0720794\n",
      "[166]\tvalid_0's l1: 0.0720771\n",
      "[167]\tvalid_0's l1: 0.0720764\n",
      "[168]\tvalid_0's l1: 0.0720782\n",
      "[169]\tvalid_0's l1: 0.0720763\n",
      "[170]\tvalid_0's l1: 0.0720741\n",
      "[171]\tvalid_0's l1: 0.0720767\n",
      "[172]\tvalid_0's l1: 0.0720773\n",
      "[173]\tvalid_0's l1: 0.0720802\n",
      "[174]\tvalid_0's l1: 0.0720823\n",
      "[175]\tvalid_0's l1: 0.0720838\n",
      "[176]\tvalid_0's l1: 0.0720818\n",
      "[177]\tvalid_0's l1: 0.0720851\n",
      "[178]\tvalid_0's l1: 0.0720857\n",
      "[179]\tvalid_0's l1: 0.0720888\n",
      "[180]\tvalid_0's l1: 0.0720896\n",
      "[181]\tvalid_0's l1: 0.0720915\n",
      "[182]\tvalid_0's l1: 0.0720932\n",
      "[183]\tvalid_0's l1: 0.0720935\n",
      "[184]\tvalid_0's l1: 0.0720963\n",
      "[185]\tvalid_0's l1: 0.0720951\n",
      "[186]\tvalid_0's l1: 0.0720945\n",
      "[187]\tvalid_0's l1: 0.0720925\n",
      "[188]\tvalid_0's l1: 0.0720951\n",
      "[189]\tvalid_0's l1: 0.0720993\n",
      "[190]\tvalid_0's l1: 0.0720984\n",
      "[191]\tvalid_0's l1: 0.072099\n",
      "[192]\tvalid_0's l1: 0.0720999\n",
      "[193]\tvalid_0's l1: 0.0721009\n",
      "[194]\tvalid_0's l1: 0.0721011\n",
      "[195]\tvalid_0's l1: 0.0721003\n",
      "[196]\tvalid_0's l1: 0.0721002\n",
      "[197]\tvalid_0's l1: 0.0721014\n",
      "[198]\tvalid_0's l1: 0.0721007\n",
      "[199]\tvalid_0's l1: 0.0721003\n",
      "[200]\tvalid_0's l1: 0.0720995\n",
      "[201]\tvalid_0's l1: 0.0720983\n",
      "[202]\tvalid_0's l1: 0.0721019\n",
      "[203]\tvalid_0's l1: 0.0721036\n",
      "[204]\tvalid_0's l1: 0.0721052\n",
      "[205]\tvalid_0's l1: 0.072106\n",
      "[206]\tvalid_0's l1: 0.0721078\n",
      "[207]\tvalid_0's l1: 0.0721088\n",
      "[208]\tvalid_0's l1: 0.0721085\n",
      "[209]\tvalid_0's l1: 0.0721041\n",
      "[210]\tvalid_0's l1: 0.0721034\n",
      "[211]\tvalid_0's l1: 0.0721033\n",
      "[212]\tvalid_0's l1: 0.0721043\n",
      "[213]\tvalid_0's l1: 0.0721052\n",
      "[214]\tvalid_0's l1: 0.0721026\n",
      "[215]\tvalid_0's l1: 0.0721007\n",
      "[216]\tvalid_0's l1: 0.0721029\n",
      "[217]\tvalid_0's l1: 0.0721018\n",
      "[218]\tvalid_0's l1: 0.0721024\n",
      "[219]\tvalid_0's l1: 0.0721\n",
      "[220]\tvalid_0's l1: 0.0720983\n",
      "[221]\tvalid_0's l1: 0.0720991\n",
      "[222]\tvalid_0's l1: 0.0721009\n",
      "[223]\tvalid_0's l1: 0.0721023\n",
      "[224]\tvalid_0's l1: 0.0721017\n",
      "[225]\tvalid_0's l1: 0.0720995\n",
      "[226]\tvalid_0's l1: 0.0721002\n",
      "[227]\tvalid_0's l1: 0.0720982\n",
      "[228]\tvalid_0's l1: 0.072093\n",
      "[229]\tvalid_0's l1: 0.072093\n",
      "[230]\tvalid_0's l1: 0.0720936\n",
      "[231]\tvalid_0's l1: 0.0720912\n",
      "[232]\tvalid_0's l1: 0.0720922\n",
      "[233]\tvalid_0's l1: 0.072089\n",
      "[234]\tvalid_0's l1: 0.0720916\n",
      "[235]\tvalid_0's l1: 0.0720894\n",
      "[236]\tvalid_0's l1: 0.0720884\n",
      "[237]\tvalid_0's l1: 0.0720895\n",
      "[238]\tvalid_0's l1: 0.0720903\n",
      "[239]\tvalid_0's l1: 0.0720883\n",
      "[240]\tvalid_0's l1: 0.0720879\n",
      "[241]\tvalid_0's l1: 0.0720871\n",
      "[242]\tvalid_0's l1: 0.0720872\n",
      "[243]\tvalid_0's l1: 0.0720891\n",
      "[244]\tvalid_0's l1: 0.0720892\n",
      "[245]\tvalid_0's l1: 0.0720877\n",
      "[246]\tvalid_0's l1: 0.0720885\n",
      "[247]\tvalid_0's l1: 0.0720902\n",
      "[248]\tvalid_0's l1: 0.072089\n",
      "[249]\tvalid_0's l1: 0.0720853\n",
      "[250]\tvalid_0's l1: 0.072087\n",
      "[251]\tvalid_0's l1: 0.0720865\n",
      "[252]\tvalid_0's l1: 0.0720877\n",
      "[253]\tvalid_0's l1: 0.0720878\n",
      "[254]\tvalid_0's l1: 0.0720895\n",
      "[255]\tvalid_0's l1: 0.0720889\n",
      "[256]\tvalid_0's l1: 0.0720925\n",
      "[257]\tvalid_0's l1: 0.0720918\n",
      "[258]\tvalid_0's l1: 0.0720916\n",
      "[259]\tvalid_0's l1: 0.0720896\n",
      "[260]\tvalid_0's l1: 0.0720871\n",
      "[261]\tvalid_0's l1: 0.0720851\n",
      "[262]\tvalid_0's l1: 0.0720862\n",
      "[263]\tvalid_0's l1: 0.072084\n",
      "[264]\tvalid_0's l1: 0.0720801\n",
      "[265]\tvalid_0's l1: 0.0720789\n",
      "[266]\tvalid_0's l1: 0.0720825\n",
      "[267]\tvalid_0's l1: 0.0720847\n",
      "[268]\tvalid_0's l1: 0.0720833\n",
      "[269]\tvalid_0's l1: 0.0720811\n",
      "[270]\tvalid_0's l1: 0.0720812\n",
      "[271]\tvalid_0's l1: 0.0720809\n",
      "[272]\tvalid_0's l1: 0.0720796\n",
      "[273]\tvalid_0's l1: 0.0720787\n",
      "[274]\tvalid_0's l1: 0.0720751\n",
      "[275]\tvalid_0's l1: 0.072073\n",
      "[276]\tvalid_0's l1: 0.0720724\n",
      "[277]\tvalid_0's l1: 0.0720727\n",
      "[278]\tvalid_0's l1: 0.0720719\n",
      "[279]\tvalid_0's l1: 0.0720711\n",
      "[280]\tvalid_0's l1: 0.0720718\n",
      "[281]\tvalid_0's l1: 0.0720709\n",
      "[282]\tvalid_0's l1: 0.0720691\n",
      "[283]\tvalid_0's l1: 0.0720714\n",
      "[284]\tvalid_0's l1: 0.0720732\n",
      "[285]\tvalid_0's l1: 0.0720714\n",
      "[286]\tvalid_0's l1: 0.0720722\n",
      "[287]\tvalid_0's l1: 0.0720744\n",
      "[288]\tvalid_0's l1: 0.0720735\n",
      "[289]\tvalid_0's l1: 0.072074\n",
      "[290]\tvalid_0's l1: 0.0720722\n",
      "[291]\tvalid_0's l1: 0.072073\n",
      "[292]\tvalid_0's l1: 0.0720725\n",
      "[293]\tvalid_0's l1: 0.0720726\n",
      "[294]\tvalid_0's l1: 0.072073\n",
      "[295]\tvalid_0's l1: 0.0720736\n",
      "[296]\tvalid_0's l1: 0.0720733\n",
      "[297]\tvalid_0's l1: 0.0720746\n",
      "[298]\tvalid_0's l1: 0.0720721\n",
      "[299]\tvalid_0's l1: 0.07207\n",
      "[300]\tvalid_0's l1: 0.0720695\n",
      "[301]\tvalid_0's l1: 0.0720733\n",
      "[302]\tvalid_0's l1: 0.0720713\n",
      "[303]\tvalid_0's l1: 0.07207\n",
      "[304]\tvalid_0's l1: 0.0720707\n",
      "[305]\tvalid_0's l1: 0.07207\n",
      "[306]\tvalid_0's l1: 0.0720694\n",
      "[307]\tvalid_0's l1: 0.0720681\n",
      "[308]\tvalid_0's l1: 0.0720689\n",
      "[309]\tvalid_0's l1: 0.0720675\n",
      "[310]\tvalid_0's l1: 0.0720695\n",
      "[311]\tvalid_0's l1: 0.0720702\n",
      "[312]\tvalid_0's l1: 0.0720701\n",
      "[313]\tvalid_0's l1: 0.0720709\n",
      "[314]\tvalid_0's l1: 0.0720705\n",
      "[315]\tvalid_0's l1: 0.0720722\n",
      "[316]\tvalid_0's l1: 0.0720725\n",
      "[317]\tvalid_0's l1: 0.0720736\n",
      "[318]\tvalid_0's l1: 0.0720722\n",
      "[319]\tvalid_0's l1: 0.0720721\n",
      "[320]\tvalid_0's l1: 0.072076\n",
      "[321]\tvalid_0's l1: 0.0720803\n",
      "[322]\tvalid_0's l1: 0.0720826\n",
      "[323]\tvalid_0's l1: 0.0720852\n",
      "[324]\tvalid_0's l1: 0.0720866\n",
      "[325]\tvalid_0's l1: 0.0720886\n",
      "[326]\tvalid_0's l1: 0.0720902\n",
      "[327]\tvalid_0's l1: 0.0720934\n",
      "[328]\tvalid_0's l1: 0.072092\n",
      "[329]\tvalid_0's l1: 0.0720928\n",
      "[330]\tvalid_0's l1: 0.072091\n",
      "[331]\tvalid_0's l1: 0.0720914\n",
      "[332]\tvalid_0's l1: 0.0720949\n",
      "[333]\tvalid_0's l1: 0.0720952\n",
      "[334]\tvalid_0's l1: 0.0720948\n",
      "[335]\tvalid_0's l1: 0.0720951\n",
      "[336]\tvalid_0's l1: 0.0720979\n",
      "[337]\tvalid_0's l1: 0.0720995\n",
      "[338]\tvalid_0's l1: 0.072099\n",
      "[339]\tvalid_0's l1: 0.0721016\n",
      "[340]\tvalid_0's l1: 0.0721024\n",
      "[341]\tvalid_0's l1: 0.0721046\n",
      "[342]\tvalid_0's l1: 0.0721021\n",
      "[343]\tvalid_0's l1: 0.0721027\n",
      "[344]\tvalid_0's l1: 0.0721009\n",
      "[345]\tvalid_0's l1: 0.0721024\n",
      "[346]\tvalid_0's l1: 0.0721013\n",
      "[347]\tvalid_0's l1: 0.072103\n",
      "[348]\tvalid_0's l1: 0.0721023\n",
      "[349]\tvalid_0's l1: 0.0721046\n",
      "[350]\tvalid_0's l1: 0.072105\n",
      "[351]\tvalid_0's l1: 0.0721048\n",
      "[352]\tvalid_0's l1: 0.0721075\n",
      "[353]\tvalid_0's l1: 0.0721063\n",
      "[354]\tvalid_0's l1: 0.0721078\n",
      "[355]\tvalid_0's l1: 0.0721091\n",
      "[356]\tvalid_0's l1: 0.0721068\n",
      "[357]\tvalid_0's l1: 0.0721058\n",
      "[358]\tvalid_0's l1: 0.0721068\n",
      "[359]\tvalid_0's l1: 0.0721068\n",
      "[360]\tvalid_0's l1: 0.0721063\n",
      "[361]\tvalid_0's l1: 0.0721074\n",
      "[362]\tvalid_0's l1: 0.0721103\n",
      "[363]\tvalid_0's l1: 0.0721074\n",
      "[364]\tvalid_0's l1: 0.0721058\n",
      "[365]\tvalid_0's l1: 0.0721033\n",
      "[366]\tvalid_0's l1: 0.0721032\n",
      "[367]\tvalid_0's l1: 0.0721036\n",
      "[368]\tvalid_0's l1: 0.0721034\n",
      "[369]\tvalid_0's l1: 0.0721045\n",
      "[370]\tvalid_0's l1: 0.0721058\n",
      "[371]\tvalid_0's l1: 0.0721055\n",
      "[372]\tvalid_0's l1: 0.0721071\n",
      "[373]\tvalid_0's l1: 0.0721055\n",
      "[374]\tvalid_0's l1: 0.0721007\n",
      "[375]\tvalid_0's l1: 0.0720999\n",
      "[376]\tvalid_0's l1: 0.0720998\n",
      "[377]\tvalid_0's l1: 0.0721018\n",
      "[378]\tvalid_0's l1: 0.0721039\n",
      "[379]\tvalid_0's l1: 0.0721046\n",
      "[380]\tvalid_0's l1: 0.0721042\n",
      "[381]\tvalid_0's l1: 0.0721027\n",
      "[382]\tvalid_0's l1: 0.072103\n",
      "[383]\tvalid_0's l1: 0.0721064\n",
      "[384]\tvalid_0's l1: 0.0721073\n",
      "[385]\tvalid_0's l1: 0.0721132\n",
      "[386]\tvalid_0's l1: 0.0721095\n",
      "[387]\tvalid_0's l1: 0.0721101\n",
      "[388]\tvalid_0's l1: 0.0721075\n",
      "[389]\tvalid_0's l1: 0.0721084\n",
      "[390]\tvalid_0's l1: 0.0721097\n",
      "[391]\tvalid_0's l1: 0.0721098\n",
      "[392]\tvalid_0's l1: 0.0721102\n",
      "[393]\tvalid_0's l1: 0.0721106\n",
      "[394]\tvalid_0's l1: 0.0721079\n",
      "[395]\tvalid_0's l1: 0.0721094\n",
      "[396]\tvalid_0's l1: 0.0721082\n",
      "[397]\tvalid_0's l1: 0.0721069\n",
      "[398]\tvalid_0's l1: 0.0721069\n",
      "[399]\tvalid_0's l1: 0.0721067\n",
      "[400]\tvalid_0's l1: 0.0721074\n",
      "[401]\tvalid_0's l1: 0.0721064\n",
      "[402]\tvalid_0's l1: 0.0721045\n",
      "[403]\tvalid_0's l1: 0.0721035\n",
      "[404]\tvalid_0's l1: 0.072107\n",
      "[405]\tvalid_0's l1: 0.0721096\n",
      "[406]\tvalid_0's l1: 0.0721091\n",
      "[407]\tvalid_0's l1: 0.0721115\n",
      "[408]\tvalid_0's l1: 0.0721102\n",
      "[409]\tvalid_0's l1: 0.0721109\n",
      "[410]\tvalid_0's l1: 0.0721117\n",
      "[411]\tvalid_0's l1: 0.0721118\n",
      "[412]\tvalid_0's l1: 0.0721141\n",
      "[413]\tvalid_0's l1: 0.0721169\n",
      "[414]\tvalid_0's l1: 0.0721171\n",
      "[415]\tvalid_0's l1: 0.0721175\n",
      "[416]\tvalid_0's l1: 0.0721213\n",
      "[417]\tvalid_0's l1: 0.0721203\n",
      "[418]\tvalid_0's l1: 0.0721226\n",
      "[419]\tvalid_0's l1: 0.0721201\n",
      "[420]\tvalid_0's l1: 0.0721189\n",
      "[421]\tvalid_0's l1: 0.0721185\n",
      "[422]\tvalid_0's l1: 0.0721172\n",
      "[423]\tvalid_0's l1: 0.0721171\n",
      "[424]\tvalid_0's l1: 0.0721182\n",
      "[425]\tvalid_0's l1: 0.0721202\n",
      "[426]\tvalid_0's l1: 0.0721222\n",
      "[427]\tvalid_0's l1: 0.0721232\n",
      "[428]\tvalid_0's l1: 0.0721247\n",
      "[429]\tvalid_0's l1: 0.0721226\n",
      "[430]\tvalid_0's l1: 0.0721221\n",
      "[431]\tvalid_0's l1: 0.0721209\n",
      "[432]\tvalid_0's l1: 0.07212\n",
      "[433]\tvalid_0's l1: 0.0721218\n",
      "[434]\tvalid_0's l1: 0.0721193\n",
      "[435]\tvalid_0's l1: 0.0721176\n",
      "[436]\tvalid_0's l1: 0.0721184\n",
      "[437]\tvalid_0's l1: 0.0721159\n",
      "[438]\tvalid_0's l1: 0.0721158\n",
      "[439]\tvalid_0's l1: 0.0721143\n",
      "[440]\tvalid_0's l1: 0.0721138\n",
      "[441]\tvalid_0's l1: 0.0721134\n",
      "[442]\tvalid_0's l1: 0.0721151\n",
      "[443]\tvalid_0's l1: 0.072118\n",
      "[444]\tvalid_0's l1: 0.0721183\n",
      "[445]\tvalid_0's l1: 0.072121\n",
      "[446]\tvalid_0's l1: 0.0721215\n",
      "[447]\tvalid_0's l1: 0.0721218\n",
      "[448]\tvalid_0's l1: 0.0721211\n",
      "[449]\tvalid_0's l1: 0.0721199\n",
      "[450]\tvalid_0's l1: 0.0721208\n",
      "[451]\tvalid_0's l1: 0.0721216\n",
      "[452]\tvalid_0's l1: 0.0721197\n",
      "[453]\tvalid_0's l1: 0.0721203\n",
      "[454]\tvalid_0's l1: 0.0721197\n",
      "[455]\tvalid_0's l1: 0.072119\n",
      "[456]\tvalid_0's l1: 0.0721189\n",
      "[457]\tvalid_0's l1: 0.0721198\n",
      "[458]\tvalid_0's l1: 0.0721213\n",
      "[459]\tvalid_0's l1: 0.0721201\n",
      "[460]\tvalid_0's l1: 0.072118\n",
      "[461]\tvalid_0's l1: 0.0721203\n",
      "[462]\tvalid_0's l1: 0.0721211\n",
      "[463]\tvalid_0's l1: 0.0721213\n",
      "[464]\tvalid_0's l1: 0.0721217\n",
      "[465]\tvalid_0's l1: 0.0721209\n",
      "[466]\tvalid_0's l1: 0.0721187\n",
      "[467]\tvalid_0's l1: 0.0721204\n",
      "[468]\tvalid_0's l1: 0.0721219\n",
      "[469]\tvalid_0's l1: 0.0721238\n",
      "[470]\tvalid_0's l1: 0.0721239\n",
      "[471]\tvalid_0's l1: 0.0721231\n",
      "[472]\tvalid_0's l1: 0.0721224\n",
      "[473]\tvalid_0's l1: 0.0721197\n",
      "[474]\tvalid_0's l1: 0.0721195\n",
      "[475]\tvalid_0's l1: 0.072116\n",
      "[476]\tvalid_0's l1: 0.0721166\n",
      "[477]\tvalid_0's l1: 0.0721173\n",
      "[478]\tvalid_0's l1: 0.0721165\n",
      "[479]\tvalid_0's l1: 0.0721184\n",
      "[480]\tvalid_0's l1: 0.0721185\n",
      "[481]\tvalid_0's l1: 0.0721173\n",
      "[482]\tvalid_0's l1: 0.0721187\n",
      "[483]\tvalid_0's l1: 0.0721197\n",
      "[484]\tvalid_0's l1: 0.0721191\n",
      "[485]\tvalid_0's l1: 0.0721218\n",
      "[486]\tvalid_0's l1: 0.0721216\n",
      "[487]\tvalid_0's l1: 0.0721195\n",
      "[488]\tvalid_0's l1: 0.0721194\n",
      "[489]\tvalid_0's l1: 0.0721206\n",
      "[490]\tvalid_0's l1: 0.0721213\n",
      "[491]\tvalid_0's l1: 0.0721211\n",
      "[492]\tvalid_0's l1: 0.0721226\n",
      "[493]\tvalid_0's l1: 0.0721212\n",
      "[494]\tvalid_0's l1: 0.0721207\n",
      "[495]\tvalid_0's l1: 0.072119\n",
      "[496]\tvalid_0's l1: 0.0721189\n",
      "[497]\tvalid_0's l1: 0.0721184\n",
      "[498]\tvalid_0's l1: 0.07212\n",
      "[499]\tvalid_0's l1: 0.0721189\n",
      "[500]\tvalid_0's l1: 0.0721196\n"
     ]
    }
   ],
   "source": [
    "# Train new model with fewer variables \n",
    "watchlist = [d_valid2]\n",
    "clf1 = lgb.train(params, d_train2, 500, watchlist)"
   ]
  },
  {
   "cell_type": "code",
   "execution_count": 23,
   "metadata": {
    "collapsed": false
   },
   "outputs": [
    {
     "data": {
      "text/plain": [
       "[('training', 'l1', 0.067663857295373872, False)]"
      ]
     },
     "execution_count": 23,
     "metadata": {},
     "output_type": "execute_result"
    }
   ],
   "source": [
    "clf1.eval_train()"
   ]
  },
  {
   "cell_type": "markdown",
   "metadata": {},
   "source": [
    "### Let's do some analysis on the model errors "
   ]
  },
  {
   "cell_type": "code",
   "execution_count": 24,
   "metadata": {
    "collapsed": true
   },
   "outputs": [],
   "source": [
    "import matplotlib.pyplot as plt \n",
    "%matplotlib inline \n",
    "import seaborn as sns"
   ]
  },
  {
   "cell_type": "code",
   "execution_count": 25,
   "metadata": {
    "collapsed": false
   },
   "outputs": [
    {
     "name": "stdout",
     "output_type": "stream",
     "text": [
      "Score Quantiles: \n",
      " 0.25   -0.003186\n",
      "0.50    0.000541\n",
      "0.75    0.001536\n",
      "dtype: float64\n",
      "Actual Quantiles: \n",
      " 0.25   -0.0253\n",
      "0.50    0.0060\n",
      "0.75    0.0392\n",
      "dtype: float64\n"
     ]
    }
   ],
   "source": [
    "# Look at the distributions for the output and our predictions \n",
    "scores = pd.Series(clf1.predict(x_train))\n",
    "print(\"Score Quantiles: \\n\", scores.quantile(q = [0.25, 0.5, 0.75]))\n",
    "print(\"Actual Quantiles: \\n\", pd.Series(y_train).quantile(q = [0.25, 0.5, 0.75]))"
   ]
  },
  {
   "cell_type": "code",
   "execution_count": 26,
   "metadata": {
    "collapsed": false
   },
   "outputs": [
    {
     "data": {
      "text/plain": [
       "<matplotlib.text.Text at 0x23524c10b70>"
      ]
     },
     "execution_count": 26,
     "metadata": {},
     "output_type": "execute_result"
    },
    {
     "data": {
      "image/png": "[encoded data removed]",
      "text/plain": [
       "<matplotlib.figure.Figure at 0x23524a81630>"
      ]
     },
     "metadata": {},
     "output_type": "display_data"
    }
   ],
   "source": [
    "plt.hist(scores, bins=30)\n",
    "plt.title(\"Distribution of Predicted Outcomes\")\n",
    "plt.xlabel(\"Model Output\")\n",
    "plt.ylabel(\"Number of occurances\")"
   ]
  },
  {
   "cell_type": "code",
   "execution_count": 27,
   "metadata": {
    "collapsed": false
   },
   "outputs": [
    {
     "data": {
      "text/plain": [
       "<matplotlib.text.Text at 0x23525119c88>"
      ]
     },
     "execution_count": 27,
     "metadata": {},
     "output_type": "execute_result"
    },
    {
     "data": {
      "image/png": "[encoded data removed]",
      "text/plain": [
       "<matplotlib.figure.Figure at 0x23524f085f8>"
      ]
     },
     "metadata": {},
     "output_type": "display_data"
    }
   ],
   "source": [
    "plt.hist(y_train[abs(y_train) < 0.1], bins = 30)\n",
    "plt.title(\"Distribution of Actual\")\n",
    "plt.xlabel(\"Actual value\")\n",
    "plt.ylabel(\"Number of occurances\")"
   ]
  },
  {
   "cell_type": "markdown",
   "metadata": {},
   "source": [
    "Looks like something is going wrong. It could be beacuse we used the default hyper parameters from the previous notebook.  \n",
    "We should try another model with better hyper paramters. "
   ]
  },
  {
   "cell_type": "markdown",
   "metadata": {},
   "source": [
    "### Light GBM Cross Validation  \n",
    "\n",
    "Let's use a grid search and cross validation to find the best set of hyper paramters for the model.  "
   ]
  },
  {
   "cell_type": "code",
   "execution_count": 28,
   "metadata": {
    "collapsed": true
   },
   "outputs": [],
   "source": [
    "# Set parameters that will be the same for all the cross validated models \n",
    "\n",
    "params2 = {}\n",
    "#params2['learning_rate'] = 0.002\n",
    "params2['boosting_type'] = 'gbdt'\n",
    "params2['objective'] = 'regression'\n",
    "params2['metric'] = 'mae'\n",
    "params2['sub_feature'] = 0.5\n",
    "#params2['num_leaves'] = 50\n",
    "#params2['min_data'] = 400\n",
    "params2['min_hessian'] = 1"
   ]
  },
  {
   "cell_type": "code",
   "execution_count": 29,
   "metadata": {
    "collapsed": true
   },
   "outputs": [],
   "source": [
    "# Use the lgbm sci kit learn wrapper (so we can use grid search cv)\n",
    "estimator = lgb.LGBMRegressor(boosting_type='gbdt', objective='regression', metric = 'mae')"
   ]
  },
  {
   "cell_type": "code",
   "execution_count": 30,
   "metadata": {
    "collapsed": true
   },
   "outputs": [],
   "source": [
    "# initial grid for hyper parameters \n",
    "param_grid2 = {\n",
    "    'learning_rate': [0.001, 0.01, 0.1], \n",
    "    'n_estimators': [20, 30, 50, 100], \n",
    "    'num_leaves': [10, 30, 60],\n",
    "    'min_data': [300, 500, 700]\n",
    "}\n",
    "# Signing up for 3*4*3*3 models  = 108 models "
   ]
  },
  {
   "cell_type": "code",
   "execution_count": 31,
   "metadata": {
    "collapsed": false
   },
   "outputs": [],
   "source": [
    "from sklearn.model_selection import GridSearchCV\n"
   ]
  },
  {
   "cell_type": "code",
   "execution_count": 32,
   "metadata": {
    "collapsed": true
   },
   "outputs": [],
   "source": [
    "# Prepare for cross validation \n",
    "gbm_grid = GridSearchCV(estimator, param_grid2, cv = 4)"
   ]
  },
  {
   "cell_type": "code",
   "execution_count": 33,
   "metadata": {
    "collapsed": false
   },
   "outputs": [
    {
     "data": {
      "text/plain": [
       "GridSearchCV(cv=4, error_score='raise',\n",
       "       estimator=LGBMRegressor(boosting_type='gbdt', colsample_bytree=1, learning_rate=0.1,\n",
       "       max_bin=255, max_depth=-1, metric='mae', min_child_samples=10,\n",
       "       min_child_weight=5, min_split_gain=0, n_estimators=10, nthread=-1,\n",
       "       num_leaves=31, objective='regression', reg_alpha=0, reg_lambda=0,\n",
       "       seed=0, silent=True, subsample=1, subsample_for_bin=50000,\n",
       "       subsample_freq=1),\n",
       "       fit_params={}, iid=True, n_jobs=1,\n",
       "       param_grid={'min_data': [300, 500, 700], 'num_leaves': [10, 30, 60], 'n_estimators': [20, 30, 50, 100], 'learning_rate': [0.001, 0.01, 0.1]},\n",
       "       pre_dispatch='2*n_jobs', refit=True, return_train_score=True,\n",
       "       scoring=None, verbose=0)"
      ]
     },
     "execution_count": 33,
     "metadata": {},
     "output_type": "execute_result"
    }
   ],
   "source": [
    "# Fit the gbm model \n",
    "gbm_grid.fit(x_train2, y_train2)\n",
    "#gbm_grid.cv_results_"
   ]
  },
  {
   "cell_type": "code",
   "execution_count": 34,
   "metadata": {
    "collapsed": false
   },
   "outputs": [
    {
     "data": {
      "text/plain": [
       "{'learning_rate': 0.1, 'min_data': 300, 'n_estimators': 30, 'num_leaves': 10}"
      ]
     },
     "execution_count": 34,
     "metadata": {},
     "output_type": "execute_result"
    }
   ],
   "source": [
    "gbm_grid.best_params_"
   ]
  },
  {
   "cell_type": "code",
   "execution_count": 35,
   "metadata": {
    "collapsed": false
   },
   "outputs": [
    {
     "data": {
      "text/plain": [
       "0.007612391081425085"
      ]
     },
     "execution_count": 35,
     "metadata": {},
     "output_type": "execute_result"
    }
   ],
   "source": [
    "gbm_grid.best_score_"
   ]
  },
  {
   "cell_type": "code",
   "execution_count": null,
   "metadata": {
    "collapsed": false
   },
   "outputs": [],
   "source": []
  },
  {
   "cell_type": "code",
   "execution_count": 36,
   "metadata": {
    "collapsed": false
   },
   "outputs": [
    {
     "data": {
      "text/plain": [
       "dict_keys(['split1_train_score', 'std_test_score', 'param_min_data', 'split1_test_score', 'param_learning_rate', 'split3_train_score', 'split0_train_score', 'mean_fit_time', 'std_train_score', 'param_n_estimators', 'param_num_leaves', 'split0_test_score', 'split2_train_score', 'params', 'mean_score_time', 'split2_test_score', 'rank_test_score', 'split3_test_score', 'mean_test_score', 'std_fit_time', 'std_score_time', 'mean_train_score'])"
      ]
     },
     "execution_count": 36,
     "metadata": {},
     "output_type": "execute_result"
    }
   ],
   "source": [
    "gbm_grid.cv_results_.keys() "
   ]
  },
  {
   "cell_type": "code",
   "execution_count": 37,
   "metadata": {
    "collapsed": false
   },
   "outputs": [
    {
     "data": {
      "text/plain": [
       "<matplotlib.text.Text at 0x2352500b7b8>"
      ]
     },
     "execution_count": 37,
     "metadata": {},
     "output_type": "execute_result"
    },
    {
     "data": {
      "image/png": "[encoded data removed]",
      "text/plain": [
       "<matplotlib.figure.Figure at 0x235250263c8>"
      ]
     },
     "metadata": {},
     "output_type": "display_data"
    }
   ],
   "source": [
    "plt.hist(gbm_grid.cv_results_[\"mean_train_score\"], bins = 20) \n",
    "plt.xlabel(\"Mean Train Score\")\n",
    "plt.title(\"Mean Train Score Frequency - Total\")\n",
    "plt.ylabel(\"Frequency\")"
   ]
  },
  {
   "cell_type": "code",
   "execution_count": 38,
   "metadata": {
    "collapsed": false
   },
   "outputs": [
    {
     "data": {
      "text/plain": [
       "<matplotlib.text.Text at 0x235250b30f0>"
      ]
     },
     "execution_count": 38,
     "metadata": {},
     "output_type": "execute_result"
    },
    {
     "data": {
      "image/png": "[encoded data removed]",
      "text/plain": [
       "<matplotlib.figure.Figure at 0x23525080cc0>"
      ]
     },
     "metadata": {},
     "output_type": "display_data"
    }
   ],
   "source": [
    "plt.hist(gbm_grid.cv_results_[\"mean_train_score\"], bins = 20) \n",
    "plt.xlabel(\"Mean Train Score\")\n",
    "plt.title(\"Mean Train Score Frequency - Total\")\n",
    "plt.ylabel(\"Frequency\")"
   ]
  },
  {
   "cell_type": "code",
   "execution_count": 39,
   "metadata": {
    "collapsed": false
   },
   "outputs": [
    {
     "data": {
      "text/plain": [
       "57"
      ]
     },
     "execution_count": 39,
     "metadata": {},
     "output_type": "execute_result"
    }
   ],
   "source": [
    "gbm_grid_score002 = gbm_grid.cv_results_[\"mean_train_score\"][gbm_grid.cv_results_[\"mean_train_score\"] < 0.02]\n",
    "len(gbm_grid.cv_results_[\"mean_train_score\"][gbm_grid.cv_results_[\"mean_train_score\"] < 0.02])"
   ]
  },
  {
   "cell_type": "code",
   "execution_count": 40,
   "metadata": {
    "collapsed": false
   },
   "outputs": [
    {
     "data": {
      "text/plain": [
       "0.00049800613218600742"
      ]
     },
     "execution_count": 40,
     "metadata": {},
     "output_type": "execute_result"
    }
   ],
   "source": [
    "lowest_train_score1 = min(gbm_grid.cv_results_[\"mean_train_score\"])\n",
    "min(gbm_grid.cv_results_[\"mean_train_score\"])"
   ]
  },
  {
   "cell_type": "code",
   "execution_count": 41,
   "metadata": {
    "collapsed": false
   },
   "outputs": [
    {
     "data": {
      "text/plain": [
       "3"
      ]
     },
     "execution_count": 41,
     "metadata": {},
     "output_type": "execute_result"
    }
   ],
   "source": [
    "# Number of scores within 20% of the lowest train score \n",
    "len(gbm_grid.cv_results_[\"mean_train_score\"][gbm_grid.cv_results_[\"mean_train_score\"] < (lowest_train_score1+ 0.20* lowest_train_score1)])"
   ]
  },
  {
   "cell_type": "code",
   "execution_count": 42,
   "metadata": {
    "collapsed": false
   },
   "outputs": [
    {
     "data": {
      "text/plain": [
       "<matplotlib.text.Text at 0x23525119ac8>"
      ]
     },
     "execution_count": 42,
     "metadata": {},
     "output_type": "execute_result"
    },
    {
     "data": {
      "image/png": "[encoded data removed]",
      "text/plain": [
       "<matplotlib.figure.Figure at 0x23525097550>"
      ]
     },
     "metadata": {},
     "output_type": "display_data"
    }
   ],
   "source": [
    "plt.hist(gbm_grid_score002, bins = 20) \n",
    "plt.xlabel(\"Mean Train Score\")\n",
    "plt.title(\"Mean Train Score Frequency - below 0.02\")\n",
    "plt.ylabel(\"Frequency\")"
   ]
  },
  {
   "cell_type": "code",
   "execution_count": 43,
   "metadata": {
    "collapsed": false
   },
   "outputs": [],
   "source": [
    "#gbm_grid.cv_results_[gbm_grid.cv_results_[\"mean_train_score\"] == min(gbm_grid.cv_results_[\"mean_train_score\"])]"
   ]
  },
  {
   "cell_type": "code",
   "execution_count": 44,
   "metadata": {
    "collapsed": false
   },
   "outputs": [
    {
     "name": "stdout",
     "output_type": "stream",
     "text": [
      "split1_train_score  :  [ 0.00046714  0.00046714  0.00046714]\n",
      "std_test_score  :  [ 0.00091336  0.00091336  0.00091336]\n",
      "param_min_data  :  [300 500 700]\n",
      "split1_test_score  :  [-0.0021054 -0.0021054 -0.0021054]\n",
      "param_learning_rate  :  [0.001 0.001 0.001]\n",
      "split3_train_score  :  [ 0.00060603  0.00060603  0.00060603]\n",
      "split0_train_score  :  [ 0.00050766  0.00050766  0.00050766]\n",
      "mean_fit_time  :  [ 0.24817693  0.29596102  0.26494056]\n",
      "std_train_score  :  [  7.11517570e-05   7.11517570e-05   7.11517570e-05]\n",
      "param_n_estimators  :  [20 20 20]\n",
      "param_num_leaves  :  [10 10 10]\n",
      "split0_test_score  :  [ -3.40230076e-05  -3.40230076e-05  -3.40230076e-05]\n",
      "split2_train_score  :  [ 0.00041119  0.00041119  0.00041119]\n",
      "params...\n",
      "mean_score_time  :  [ 0.02426642  0.03102142  0.02826816]\n",
      "split2_test_score  :  [ 0.00019589  0.00019589  0.00019589]\n",
      "rank_test_score  :  [100 100 100]\n",
      "split3_test_score  :  [-0.00105403 -0.00105403 -0.00105403]\n",
      "mean_test_score  :  [-0.00074939 -0.00074939 -0.00074939]\n",
      "std_fit_time  :  [ 0.00632888  0.03323772  0.03570296]\n",
      "std_score_time  :  [ 0.00192185  0.00543521  0.00687164]\n",
      "mean_train_score  :  [ 0.00049801  0.00049801  0.00049801]\n"
     ]
    }
   ],
   "source": [
    "for key_name in gbm_grid.cv_results_.keys():\n",
    "    if key_name == 'params':\n",
    "        print(\"params...\")\n",
    "    else:\n",
    "        key_value = gbm_grid.cv_results_[key_name][gbm_grid.cv_results_[\"mean_train_score\"] == min(gbm_grid.cv_results_[\"mean_train_score\"])]\n",
    "        print(key_name, \" : \", key_value )"
   ]
  },
  {
   "cell_type": "code",
   "execution_count": 45,
   "metadata": {
    "collapsed": false
   },
   "outputs": [
    {
     "name": "stdout",
     "output_type": "stream",
     "text": [
      "Test Value:  0.00761239108143\n",
      "min_data  :  [300 500 700]\n",
      "num_leaves  :  [10 10 10]\n",
      "n_estimators  :  [30 30 30]\n",
      "learning_rate  :  [0.1 0.1 0.1]\n"
     ]
    }
   ],
   "source": [
    "test_value = max(gbm_grid.cv_results_[\"mean_test_score\"])\n",
    "print(\"Test Value: \",test_value)\n",
    "for key_name in param_grid2.keys():\n",
    "    new_key_name = 'param_'+ key_name\n",
    "    key_value = gbm_grid.cv_results_[new_key_name][gbm_grid.cv_results_[\"mean_test_score\"] == test_value]\n",
    "    print(key_name, \" : \", key_value )"
   ]
  },
  {
   "cell_type": "code",
   "execution_count": 46,
   "metadata": {
    "collapsed": false
   },
   "outputs": [
    {
     "data": {
      "text/plain": [
       "{'learning_rate': [0.001, 0.01, 0.1],\n",
       " 'min_data': [300, 500, 700],\n",
       " 'n_estimators': [20, 30, 50, 100],\n",
       " 'num_leaves': [10, 30, 60]}"
      ]
     },
     "execution_count": 46,
     "metadata": {},
     "output_type": "execute_result"
    }
   ],
   "source": [
    "param_grid2\n"
   ]
  },
  {
   "cell_type": "code",
   "execution_count": 47,
   "metadata": {
    "collapsed": false
   },
   "outputs": [
    {
     "data": {
      "text/plain": [
       "{'learning_rate': 0.1, 'min_data': 300, 'n_estimators': 30, 'num_leaves': 10}"
      ]
     },
     "execution_count": 47,
     "metadata": {},
     "output_type": "execute_result"
    }
   ],
   "source": [
    "gbm_grid.best_params_"
   ]
  },
  {
   "cell_type": "code",
   "execution_count": null,
   "metadata": {
    "collapsed": false
   },
   "outputs": [],
   "source": []
  },
  {
   "cell_type": "code",
   "execution_count": null,
   "metadata": {
    "collapsed": true
   },
   "outputs": [],
   "source": [
    "# Finer grid based on previous values \n",
    "param_grid3 = {\n",
    "    'learning_rate': [0.05, 0.1, 0.15], \n",
    "    'n_estimators': [125, 175, 250], \n",
    "    'num_leaves': [13,15, 20], \n",
    "    'min_data': [150, 225, 300]\n",
    "}"
   ]
  },
  {
   "cell_type": "code",
   "execution_count": null,
   "metadata": {
    "collapsed": false
   },
   "outputs": [],
   "source": [
    "gbm_grid3 = GridSearchCV(estimator, param_grid3, cv = 5)\n",
    "gbm_grid3.fit(x_train2, y_train2)\n",
    "#gbm_grid.cv_results_"
   ]
  },
  {
   "cell_type": "code",
   "execution_count": null,
   "metadata": {
    "collapsed": false
   },
   "outputs": [],
   "source": [
    "gbm_grid3.cv_results_.keys() "
   ]
  },
  {
   "cell_type": "code",
   "execution_count": null,
   "metadata": {
    "collapsed": false
   },
   "outputs": [],
   "source": [
    "print(\"Refined Grid Best Details\")\n",
    "print(gbm_grid3.best_params_)\n",
    "print(gbm_grid3.best_score_) "
   ]
  },
  {
   "cell_type": "raw",
   "metadata": {},
   "source": [
    "Refined Grid Best Details\n",
    "{'n_estimators': 175, 'min_data': 225, 'num_leaves': 15, 'learning_rate': 0.1}\n",
    "0.0201073083654"
   ]
  },
  {
   "cell_type": "code",
   "execution_count": null,
   "metadata": {
    "collapsed": false
   },
   "outputs": [],
   "source": [
    "print(\"First Grid Best Details\")\n",
    "print(gbm_grid.best_params_)\n",
    "print(gbm_grid.best_score_) "
   ]
  },
  {
   "cell_type": "raw",
   "metadata": {},
   "source": [
    "First Grid Best Details\n",
    "{'n_estimators': 100, 'min_data': 300, 'num_leaves': 30, 'learning_rate': 0.1}\n",
    "0.0201114748946"
   ]
  },
  {
   "cell_type": "code",
   "execution_count": null,
   "metadata": {
    "collapsed": false
   },
   "outputs": [],
   "source": [
    "min(gbm_grid3.cv_results_['mean_train_score'])"
   ]
  },
  {
   "cell_type": "code",
   "execution_count": null,
   "metadata": {
    "collapsed": false
   },
   "outputs": [],
   "source": [
    "#print(\"Mean: \", gbm_grid3.cv_results_['mean_train_score'])\n",
    "#print(\"Std: \", gbm_grid3.cv_results_['std_train_score'])\n",
    "len(gbm_grid3.cv_results_['mean_train_score'])"
   ]
  },
  {
   "cell_type": "code",
   "execution_count": null,
   "metadata": {
    "collapsed": false
   },
   "outputs": [],
   "source": [
    "gbm_grid3.cv_results_.keys()"
   ]
  },
  {
   "cell_type": "code",
   "execution_count": null,
   "metadata": {
    "collapsed": false
   },
   "outputs": [],
   "source": [
    "min(gbm_grid3.cv_results_['mean_train_score'])"
   ]
  },
  {
   "cell_type": "code",
   "execution_count": null,
   "metadata": {
    "collapsed": true
   },
   "outputs": [],
   "source": []
  },
  {
   "cell_type": "code",
   "execution_count": null,
   "metadata": {
    "collapsed": false
   },
   "outputs": [],
   "source": [
    "best_params = {}\n",
    "\n",
    "best_params['learning_rate'] = 0.0001\n",
    "best_params['boosting_type'] = 'gbdt'\n",
    "best_params['objective'] = 'regression'\n",
    "best_params['metric'] = 'mae'\n",
    "best_params['sub_feature'] = 0.5\n",
    "best_params['num_leaves'] = 30\n",
    "best_params['min_data'] = 300\n",
    "best_params['min_hessian'] = 1"
   ]
  },
  {
   "cell_type": "code",
   "execution_count": null,
   "metadata": {
    "collapsed": true
   },
   "outputs": [],
   "source": [
    "x_train_best = df_train.drop(drop_cols2, axis=1)\n",
    "y_train_best = df_train['logerror'].values\n",
    "DS_best = lgb.Dataset(x_train_best, label=y_train_best)\n"
   ]
  },
  {
   "cell_type": "code",
   "execution_count": null,
   "metadata": {
    "collapsed": false
   },
   "outputs": [],
   "source": [
    "clf_best = lgb.train(best_params, DS_best, 1000)"
   ]
  },
  {
   "cell_type": "code",
   "execution_count": null,
   "metadata": {
    "collapsed": false
   },
   "outputs": [],
   "source": [
    "clf_best.eval_train()"
   ]
  },
  {
   "cell_type": "code",
   "execution_count": null,
   "metadata": {
    "collapsed": false
   },
   "outputs": [],
   "source": [
    "final_x_variables = x_train_best.columns\n"
   ]
  },
  {
   "cell_type": "code",
   "execution_count": null,
   "metadata": {
    "collapsed": false
   },
   "outputs": [],
   "source": [
    "\n",
    "print(\"Prepare for the prediction ...\")\n",
    "sample = pd.read_csv(\"sample_submission.csv\")\n",
    "sample['parcelid'] = sample['ParcelId']\n",
    "df_test = sample.merge(prop, on='parcelid', how='left')\n",
    "#del sample, prop; gc.collect()\n",
    "x_test = df_test[final_x_variables]\n",
    "del df_test; gc.collect()\n",
    "for c in x_test.dtypes[x_test.dtypes == object].index.values:\n",
    "    x_test[c] = (x_test[c] == True)\n",
    "x_test = x_test.values.astype(np.float32, copy=False)\n"
   ]
  },
  {
   "cell_type": "code",
   "execution_count": null,
   "metadata": {
    "collapsed": false
   },
   "outputs": [],
   "source": [
    "print(\"Start prediction ...\")\n",
    "# num_threads > 1 will predict very slow in kernal\n",
    "clf.reset_parameter({\"num_threads\":1})\n",
    "p_test = clf_best.predict(x_test, num_iteration= clf1.best_iteration)\n",
    "\n",
    "#del x_test; gc.collect()\n",
    "\n",
    "print(\"Start write result ...\")\n",
    "sub = pd.read_csv(\"sample_submission.csv\")\n",
    "for c in sub.columns[sub.columns != 'ParcelId']:\n",
    "    sub[c] = p_test\n",
    "\n",
    "sub.to_csv('lgb_starter3.csv', index=False, float_format='%.4f')"
   ]
  },
  {
   "cell_type": "code",
   "execution_count": null,
   "metadata": {
    "collapsed": true
   },
   "outputs": [],
   "source": []
  }
 ],
 "metadata": {
  "anaconda-cloud": {},
  "kernelspec": {
   "display_name": "Python [Root]",
   "language": "python",
   "name": "Python [Root]"
  },
  "language_info": {
   "codemirror_mode": {
    "name": "ipython",
    "version": 3
   },
   "file_extension": ".py",
   "mimetype": "text/x-python",
   "name": "python",
   "nbconvert_exporter": "python",
   "pygments_lexer": "ipython3",
   "version": "3.5.2"
  }
 },
 "nbformat": 4,
 "nbformat_minor": 0
}
