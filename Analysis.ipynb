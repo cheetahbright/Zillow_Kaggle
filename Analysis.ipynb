{
 "cells": [
  {
   "cell_type": "code",
   "execution_count": 1,
   "metadata": {
    "collapsed": true
   },
   "outputs": [],
   "source": [
    "import numpy as np \n",
    "import pandas as pd \n",
    "import matplotlib.pyplot as plt\n",
    "import pprint as pp\n",
    "%matplotlib inline\n",
    "import gc "
   ]
  },
  {
   "cell_type": "raw",
   "metadata": {},
   "source": [
    "prop.shape\n",
    "good_import_cols = pd.Series(range(0,57))\n",
    "good_import_cols = good_import_cols.drop([22,32,34,49,55])\n"
   ]
  },
  {
   "cell_type": "code",
   "execution_count": 2,
   "metadata": {
    "collapsed": false
   },
   "outputs": [
    {
     "name": "stderr",
     "output_type": "stream",
     "text": [
      "C:\\Users\\board\\Anaconda3\\lib\\site-packages\\IPython\\core\\interactiveshell.py:2723: DtypeWarning: Columns (22,32,34,49,55) have mixed types. Specify dtype option on import or set low_memory=False.\n",
      "  interactivity=interactivity, compiler=compiler, result=result)\n"
     ]
    }
   ],
   "source": [
    "train_df_raw= pd.read_csv(\"train_2016_v2.csv\", parse_dates=[\"transactiondate\"])\n",
    "prop = pd.read_csv(\"properties_2016.csv\") #, usecols=good_import_cols)"
   ]
  },
  {
   "cell_type": "markdown",
   "metadata": {},
   "source": [
    "I was getting the error message:  \n",
    "C:\\Users\\board\\Anaconda3\\lib\\site-packages\\IPython\\core\\interactiveshell.py:2723: DtypeWarning: Columns (22,32,34,49,55) have mixed types. Specify dtype option on import or set low_memory=False.\n",
    "  interactivity=interactivity, compiler=compiler, result=result)"
   ]
  },
  {
   "cell_type": "raw",
   "metadata": {
    "collapsed": false
   },
   "source": [
    "pd.options.display.max_columns = 70\n",
    "pd.options.display.max_rows = 70"
   ]
  },
  {
   "cell_type": "markdown",
   "metadata": {
    "collapsed": true
   },
   "source": [
    "### Remove and Impute Nulls "
   ]
  },
  {
   "cell_type": "code",
   "execution_count": 3,
   "metadata": {
    "collapsed": false
   },
   "outputs": [
    {
     "data": {
      "text/html": [
       "<div>\n",
       "<table border=\"1\" class=\"dataframe\">\n",
       "  <thead>\n",
       "    <tr style=\"text-align: right;\">\n",
       "      <th></th>\n",
       "      <th>column_name</th>\n",
       "      <th>missing_count</th>\n",
       "      <th>missing_ratio</th>\n",
       "    </tr>\n",
       "  </thead>\n",
       "  <tbody>\n",
       "    <tr>\n",
       "      <th>2</th>\n",
       "      <td>architecturalstyletypeid</td>\n",
       "      <td>2979156</td>\n",
       "      <td>0.997970</td>\n",
       "    </tr>\n",
       "    <tr>\n",
       "      <th>3</th>\n",
       "      <td>basementsqft</td>\n",
       "      <td>2983589</td>\n",
       "      <td>0.999455</td>\n",
       "    </tr>\n",
       "    <tr>\n",
       "      <th>6</th>\n",
       "      <td>buildingclasstypeid</td>\n",
       "      <td>2972588</td>\n",
       "      <td>0.995769</td>\n",
       "    </tr>\n",
       "    <tr>\n",
       "      <th>9</th>\n",
       "      <td>decktypeid</td>\n",
       "      <td>2968121</td>\n",
       "      <td>0.994273</td>\n",
       "    </tr>\n",
       "    <tr>\n",
       "      <th>10</th>\n",
       "      <td>finishedfloor1squarefeet</td>\n",
       "      <td>2782500</td>\n",
       "      <td>0.932093</td>\n",
       "    </tr>\n",
       "    <tr>\n",
       "      <th>13</th>\n",
       "      <td>finishedsquarefeet13</td>\n",
       "      <td>2977545</td>\n",
       "      <td>0.997430</td>\n",
       "    </tr>\n",
       "    <tr>\n",
       "      <th>14</th>\n",
       "      <td>finishedsquarefeet15</td>\n",
       "      <td>2794419</td>\n",
       "      <td>0.936086</td>\n",
       "    </tr>\n",
       "    <tr>\n",
       "      <th>15</th>\n",
       "      <td>finishedsquarefeet50</td>\n",
       "      <td>2782500</td>\n",
       "      <td>0.932093</td>\n",
       "    </tr>\n",
       "    <tr>\n",
       "      <th>16</th>\n",
       "      <td>finishedsquarefeet6</td>\n",
       "      <td>2963216</td>\n",
       "      <td>0.992630</td>\n",
       "    </tr>\n",
       "    <tr>\n",
       "      <th>18</th>\n",
       "      <td>fireplacecnt</td>\n",
       "      <td>2672580</td>\n",
       "      <td>0.895272</td>\n",
       "    </tr>\n",
       "    <tr>\n",
       "      <th>22</th>\n",
       "      <td>hashottuborspa</td>\n",
       "      <td>2916203</td>\n",
       "      <td>0.976881</td>\n",
       "    </tr>\n",
       "    <tr>\n",
       "      <th>27</th>\n",
       "      <td>poolcnt</td>\n",
       "      <td>2467683</td>\n",
       "      <td>0.826634</td>\n",
       "    </tr>\n",
       "    <tr>\n",
       "      <th>28</th>\n",
       "      <td>poolsizesum</td>\n",
       "      <td>2957257</td>\n",
       "      <td>0.990634</td>\n",
       "    </tr>\n",
       "    <tr>\n",
       "      <th>29</th>\n",
       "      <td>pooltypeid10</td>\n",
       "      <td>2948278</td>\n",
       "      <td>0.987626</td>\n",
       "    </tr>\n",
       "    <tr>\n",
       "      <th>30</th>\n",
       "      <td>pooltypeid2</td>\n",
       "      <td>2953142</td>\n",
       "      <td>0.989255</td>\n",
       "    </tr>\n",
       "    <tr>\n",
       "      <th>31</th>\n",
       "      <td>pooltypeid7</td>\n",
       "      <td>2499758</td>\n",
       "      <td>0.837379</td>\n",
       "    </tr>\n",
       "    <tr>\n",
       "      <th>41</th>\n",
       "      <td>storytypeid</td>\n",
       "      <td>2983593</td>\n",
       "      <td>0.999456</td>\n",
       "    </tr>\n",
       "    <tr>\n",
       "      <th>42</th>\n",
       "      <td>threequarterbathnbr</td>\n",
       "      <td>2673586</td>\n",
       "      <td>0.895609</td>\n",
       "    </tr>\n",
       "    <tr>\n",
       "      <th>43</th>\n",
       "      <td>typeconstructiontypeid</td>\n",
       "      <td>2978470</td>\n",
       "      <td>0.997740</td>\n",
       "    </tr>\n",
       "    <tr>\n",
       "      <th>45</th>\n",
       "      <td>yardbuildingsqft17</td>\n",
       "      <td>2904862</td>\n",
       "      <td>0.973082</td>\n",
       "    </tr>\n",
       "    <tr>\n",
       "      <th>46</th>\n",
       "      <td>yardbuildingsqft26</td>\n",
       "      <td>2982570</td>\n",
       "      <td>0.999113</td>\n",
       "    </tr>\n",
       "    <tr>\n",
       "      <th>48</th>\n",
       "      <td>numberofstories</td>\n",
       "      <td>2303148</td>\n",
       "      <td>0.771518</td>\n",
       "    </tr>\n",
       "    <tr>\n",
       "      <th>49</th>\n",
       "      <td>fireplaceflag</td>\n",
       "      <td>2980054</td>\n",
       "      <td>0.998270</td>\n",
       "    </tr>\n",
       "    <tr>\n",
       "      <th>55</th>\n",
       "      <td>taxdelinquencyflag</td>\n",
       "      <td>2928755</td>\n",
       "      <td>0.981086</td>\n",
       "    </tr>\n",
       "    <tr>\n",
       "      <th>56</th>\n",
       "      <td>taxdelinquencyyear</td>\n",
       "      <td>2928753</td>\n",
       "      <td>0.981085</td>\n",
       "    </tr>\n",
       "  </tbody>\n",
       "</table>\n",
       "</div>"
      ],
      "text/plain": [
       "                 column_name  missing_count  missing_ratio\n",
       "2   architecturalstyletypeid        2979156       0.997970\n",
       "3               basementsqft        2983589       0.999455\n",
       "6        buildingclasstypeid        2972588       0.995769\n",
       "9                 decktypeid        2968121       0.994273\n",
       "10  finishedfloor1squarefeet        2782500       0.932093\n",
       "13      finishedsquarefeet13        2977545       0.997430\n",
       "14      finishedsquarefeet15        2794419       0.936086\n",
       "15      finishedsquarefeet50        2782500       0.932093\n",
       "16       finishedsquarefeet6        2963216       0.992630\n",
       "18              fireplacecnt        2672580       0.895272\n",
       "22            hashottuborspa        2916203       0.976881\n",
       "27                   poolcnt        2467683       0.826634\n",
       "28               poolsizesum        2957257       0.990634\n",
       "29              pooltypeid10        2948278       0.987626\n",
       "30               pooltypeid2        2953142       0.989255\n",
       "31               pooltypeid7        2499758       0.837379\n",
       "41               storytypeid        2983593       0.999456\n",
       "42       threequarterbathnbr        2673586       0.895609\n",
       "43    typeconstructiontypeid        2978470       0.997740\n",
       "45        yardbuildingsqft17        2904862       0.973082\n",
       "46        yardbuildingsqft26        2982570       0.999113\n",
       "48           numberofstories        2303148       0.771518\n",
       "49             fireplaceflag        2980054       0.998270\n",
       "55        taxdelinquencyflag        2928755       0.981086\n",
       "56        taxdelinquencyyear        2928753       0.981085"
      ]
     },
     "execution_count": 3,
     "metadata": {},
     "output_type": "execute_result"
    }
   ],
   "source": [
    "# Number of missing values per column in property file \n",
    "missing_df = prop.isnull().sum(axis=0).reset_index()\n",
    "missing_df.columns = ['column_name', 'missing_count']\n",
    "missing_df = missing_df.loc[missing_df['missing_count']>0]\n",
    "\n",
    "missing_df['missing_ratio'] = missing_df['missing_count'] / prop.shape[0]\n",
    "missing_df.loc[missing_df['missing_ratio']>0.75]"
   ]
  },
  {
   "cell_type": "code",
   "execution_count": 4,
   "metadata": {
    "collapsed": false
   },
   "outputs": [],
   "source": [
    "# Create training data frame. Make parcel id the index \n",
    "train_df = train_df_raw.merge(prop, on='parcelid', how = 'left')\n",
    "train_df.index = train_df.parcelid"
   ]
  },
  {
   "cell_type": "code",
   "execution_count": 5,
   "metadata": {
    "collapsed": false
   },
   "outputs": [],
   "source": [
    "# Impute the mean in the missing places for the remaining columns with missing values \n",
    "mean_values = train_df.mean(axis=0)\n",
    "train_df2 = train_df.fillna(mean_values, inplace=True)"
   ]
  },
  {
   "cell_type": "code",
   "execution_count": 6,
   "metadata": {
    "collapsed": false
   },
   "outputs": [
    {
     "data": {
      "text/plain": [
       "transaction_month\n",
       "1.0      6556\n",
       "2.0      6333\n",
       "3.0      8652\n",
       "4.0      9311\n",
       "5.0      9961\n",
       "6.0     10922\n",
       "7.0      9947\n",
       "8.0     10476\n",
       "9.0      9575\n",
       "10.0     4977\n",
       "11.0     1826\n",
       "12.0     1739\n",
       "Name: logerror, dtype: int64"
      ]
     },
     "execution_count": 6,
     "metadata": {},
     "output_type": "execute_result"
    }
   ],
   "source": [
    "# Add the month to the data frame \n",
    "train_df2['transaction_month'] = np.float64(train_df2['transactiondate'].dt.month.values)\n",
    "train_df2.groupby(by=['transaction_month']).logerror.count()"
   ]
  },
  {
   "cell_type": "code",
   "execution_count": 7,
   "metadata": {
    "collapsed": false
   },
   "outputs": [
    {
     "data": {
      "text/plain": [
       "parcelid                    90150\n",
       "logerror                     1894\n",
       "transactiondate               352\n",
       "airconditioningtypeid           7\n",
       "architecturalstyletypeid        7\n",
       "dtype: int64"
      ]
     },
     "execution_count": 7,
     "metadata": {},
     "output_type": "execute_result"
    }
   ],
   "source": [
    "numb_unique_per_col = train_df2.T.apply(lambda x: x.nunique(), axis =1)\n",
    "numb_unique_per_col.head()"
   ]
  },
  {
   "cell_type": "code",
   "execution_count": 8,
   "metadata": {
    "collapsed": false
   },
   "outputs": [
    {
     "data": {
      "text/plain": [
       "buildingclasstypeid    1\n",
       "decktypeid             1\n",
       "hashottuborspa         1\n",
       "poolcnt                1\n",
       "pooltypeid10           1\n",
       "pooltypeid2            1\n",
       "pooltypeid7            1\n",
       "storytypeid            1\n",
       "fireplaceflag          1\n",
       "assessmentyear         1\n",
       "taxdelinquencyflag     1\n",
       "dtype: int64"
      ]
     },
     "execution_count": 8,
     "metadata": {},
     "output_type": "execute_result"
    }
   ],
   "source": [
    "numb_unique_per_col[numb_unique_per_col == 1]"
   ]
  },
  {
   "cell_type": "code",
   "execution_count": 9,
   "metadata": {
    "collapsed": false
   },
   "outputs": [],
   "source": [
    "cols_to_drop = numb_unique_per_col[numb_unique_per_col == 1].index"
   ]
  },
  {
   "cell_type": "code",
   "execution_count": 10,
   "metadata": {
    "collapsed": false
   },
   "outputs": [
    {
     "data": {
      "text/plain": [
       "Index(['parcelid', 'transactiondate', 'hashottuborspa',\n",
       "       'propertycountylandusecode', 'propertyzoningdesc', 'fireplaceflag',\n",
       "       'taxdelinquencyflag'],\n",
       "      dtype='object')"
      ]
     },
     "execution_count": 10,
     "metadata": {},
     "output_type": "execute_result"
    }
   ],
   "source": [
    "train_df.dtypes[train_df.dtypes != \"float64\"].index"
   ]
  },
  {
   "cell_type": "code",
   "execution_count": 11,
   "metadata": {
    "collapsed": false
   },
   "outputs": [],
   "source": [
    "# Drop non numeric (float64) columns \n",
    "cols_to_drop = cols_to_drop.append(train_df.dtypes[train_df.dtypes != \"float64\"].index)\n",
    "train_df2 = train_df.drop(cols_to_drop, axis = 1)\n"
   ]
  },
  {
   "cell_type": "code",
   "execution_count": 12,
   "metadata": {
    "collapsed": false
   },
   "outputs": [
    {
     "data": {
      "text/html": [
       "<div>\n",
       "<table border=\"1\" class=\"dataframe\">\n",
       "  <thead>\n",
       "    <tr style=\"text-align: right;\">\n",
       "      <th></th>\n",
       "      <th>count</th>\n",
       "      <th>val</th>\n",
       "    </tr>\n",
       "  </thead>\n",
       "  <tbody>\n",
       "  </tbody>\n",
       "</table>\n",
       "</div>"
      ],
      "text/plain": [
       "Empty DataFrame\n",
       "Columns: [count, val]\n",
       "Index: []"
      ]
     },
     "execution_count": 12,
     "metadata": {},
     "output_type": "execute_result"
    }
   ],
   "source": [
    "missing_df2 = train_df2.isnull().sum(axis=0).reset_index()\n",
    "missing_df2.columns = ['count', 'val']\n",
    "missing_df2[missing_df2['val'] > 0]\n"
   ]
  },
  {
   "cell_type": "code",
   "execution_count": 13,
   "metadata": {
    "collapsed": false
   },
   "outputs": [
    {
     "data": {
      "text/html": [
       "<div>\n",
       "<table border=\"1\" class=\"dataframe\">\n",
       "  <thead>\n",
       "    <tr style=\"text-align: right;\">\n",
       "      <th></th>\n",
       "      <th>logerror</th>\n",
       "      <th>airconditioningtypeid</th>\n",
       "      <th>architecturalstyletypeid</th>\n",
       "      <th>basementsqft</th>\n",
       "      <th>bathroomcnt</th>\n",
       "      <th>bedroomcnt</th>\n",
       "      <th>buildingqualitytypeid</th>\n",
       "      <th>calculatedbathnbr</th>\n",
       "      <th>finishedfloor1squarefeet</th>\n",
       "      <th>calculatedfinishedsquarefeet</th>\n",
       "      <th>...</th>\n",
       "      <th>yardbuildingsqft26</th>\n",
       "      <th>yearbuilt</th>\n",
       "      <th>numberofstories</th>\n",
       "      <th>structuretaxvaluedollarcnt</th>\n",
       "      <th>taxvaluedollarcnt</th>\n",
       "      <th>landtaxvaluedollarcnt</th>\n",
       "      <th>taxamount</th>\n",
       "      <th>taxdelinquencyyear</th>\n",
       "      <th>censustractandblock</th>\n",
       "      <th>transaction_month</th>\n",
       "    </tr>\n",
       "    <tr>\n",
       "      <th>parcelid</th>\n",
       "      <th></th>\n",
       "      <th></th>\n",
       "      <th></th>\n",
       "      <th></th>\n",
       "      <th></th>\n",
       "      <th></th>\n",
       "      <th></th>\n",
       "      <th></th>\n",
       "      <th></th>\n",
       "      <th></th>\n",
       "      <th></th>\n",
       "      <th></th>\n",
       "      <th></th>\n",
       "      <th></th>\n",
       "      <th></th>\n",
       "      <th></th>\n",
       "      <th></th>\n",
       "      <th></th>\n",
       "      <th></th>\n",
       "      <th></th>\n",
       "      <th></th>\n",
       "    </tr>\n",
       "  </thead>\n",
       "  <tbody>\n",
       "    <tr>\n",
       "      <th>11016594</th>\n",
       "      <td>0.0276</td>\n",
       "      <td>1.000000</td>\n",
       "      <td>7.229885</td>\n",
       "      <td>713.581395</td>\n",
       "      <td>2.0</td>\n",
       "      <td>3.0</td>\n",
       "      <td>4.000000</td>\n",
       "      <td>2.0</td>\n",
       "      <td>1347.974037</td>\n",
       "      <td>1684.0</td>\n",
       "      <td>...</td>\n",
       "      <td>311.694737</td>\n",
       "      <td>1959.0</td>\n",
       "      <td>1.440739</td>\n",
       "      <td>122754.0</td>\n",
       "      <td>360170.0</td>\n",
       "      <td>237416.0</td>\n",
       "      <td>6735.88</td>\n",
       "      <td>13.402692</td>\n",
       "      <td>6.037107e+13</td>\n",
       "      <td>1.0</td>\n",
       "    </tr>\n",
       "    <tr>\n",
       "      <th>14366692</th>\n",
       "      <td>-0.1684</td>\n",
       "      <td>1.816372</td>\n",
       "      <td>7.229885</td>\n",
       "      <td>713.581395</td>\n",
       "      <td>3.5</td>\n",
       "      <td>4.0</td>\n",
       "      <td>5.565407</td>\n",
       "      <td>3.5</td>\n",
       "      <td>1347.974037</td>\n",
       "      <td>2263.0</td>\n",
       "      <td>...</td>\n",
       "      <td>311.694737</td>\n",
       "      <td>2014.0</td>\n",
       "      <td>1.440739</td>\n",
       "      <td>346458.0</td>\n",
       "      <td>585529.0</td>\n",
       "      <td>239071.0</td>\n",
       "      <td>10153.02</td>\n",
       "      <td>13.402692</td>\n",
       "      <td>6.049151e+13</td>\n",
       "      <td>1.0</td>\n",
       "    </tr>\n",
       "    <tr>\n",
       "      <th>12098116</th>\n",
       "      <td>-0.0040</td>\n",
       "      <td>1.000000</td>\n",
       "      <td>7.229885</td>\n",
       "      <td>713.581395</td>\n",
       "      <td>3.0</td>\n",
       "      <td>2.0</td>\n",
       "      <td>4.000000</td>\n",
       "      <td>3.0</td>\n",
       "      <td>1347.974037</td>\n",
       "      <td>2217.0</td>\n",
       "      <td>...</td>\n",
       "      <td>311.694737</td>\n",
       "      <td>1940.0</td>\n",
       "      <td>1.440739</td>\n",
       "      <td>61994.0</td>\n",
       "      <td>119906.0</td>\n",
       "      <td>57912.0</td>\n",
       "      <td>11484.48</td>\n",
       "      <td>13.402692</td>\n",
       "      <td>6.037464e+13</td>\n",
       "      <td>1.0</td>\n",
       "    </tr>\n",
       "    <tr>\n",
       "      <th>12643413</th>\n",
       "      <td>0.0218</td>\n",
       "      <td>1.000000</td>\n",
       "      <td>7.229885</td>\n",
       "      <td>713.581395</td>\n",
       "      <td>2.0</td>\n",
       "      <td>2.0</td>\n",
       "      <td>4.000000</td>\n",
       "      <td>2.0</td>\n",
       "      <td>1347.974037</td>\n",
       "      <td>839.0</td>\n",
       "      <td>...</td>\n",
       "      <td>311.694737</td>\n",
       "      <td>1987.0</td>\n",
       "      <td>1.440739</td>\n",
       "      <td>171518.0</td>\n",
       "      <td>244880.0</td>\n",
       "      <td>73362.0</td>\n",
       "      <td>3048.74</td>\n",
       "      <td>13.402692</td>\n",
       "      <td>6.037296e+13</td>\n",
       "      <td>1.0</td>\n",
       "    </tr>\n",
       "    <tr>\n",
       "      <th>14432541</th>\n",
       "      <td>-0.0050</td>\n",
       "      <td>1.816372</td>\n",
       "      <td>7.229885</td>\n",
       "      <td>713.581395</td>\n",
       "      <td>2.5</td>\n",
       "      <td>4.0</td>\n",
       "      <td>5.565407</td>\n",
       "      <td>2.5</td>\n",
       "      <td>1347.974037</td>\n",
       "      <td>2283.0</td>\n",
       "      <td>...</td>\n",
       "      <td>311.694737</td>\n",
       "      <td>1981.0</td>\n",
       "      <td>2.000000</td>\n",
       "      <td>169574.0</td>\n",
       "      <td>434551.0</td>\n",
       "      <td>264977.0</td>\n",
       "      <td>5488.96</td>\n",
       "      <td>13.402692</td>\n",
       "      <td>6.059042e+13</td>\n",
       "      <td>1.0</td>\n",
       "    </tr>\n",
       "  </tbody>\n",
       "</table>\n",
       "<p>5 rows × 46 columns</p>\n",
       "</div>"
      ],
      "text/plain": [
       "          logerror  airconditioningtypeid  architecturalstyletypeid  \\\n",
       "parcelid                                                              \n",
       "11016594    0.0276               1.000000                  7.229885   \n",
       "14366692   -0.1684               1.816372                  7.229885   \n",
       "12098116   -0.0040               1.000000                  7.229885   \n",
       "12643413    0.0218               1.000000                  7.229885   \n",
       "14432541   -0.0050               1.816372                  7.229885   \n",
       "\n",
       "          basementsqft  bathroomcnt  bedroomcnt  buildingqualitytypeid  \\\n",
       "parcelid                                                                 \n",
       "11016594    713.581395          2.0         3.0               4.000000   \n",
       "14366692    713.581395          3.5         4.0               5.565407   \n",
       "12098116    713.581395          3.0         2.0               4.000000   \n",
       "12643413    713.581395          2.0         2.0               4.000000   \n",
       "14432541    713.581395          2.5         4.0               5.565407   \n",
       "\n",
       "          calculatedbathnbr  finishedfloor1squarefeet  \\\n",
       "parcelid                                                \n",
       "11016594                2.0               1347.974037   \n",
       "14366692                3.5               1347.974037   \n",
       "12098116                3.0               1347.974037   \n",
       "12643413                2.0               1347.974037   \n",
       "14432541                2.5               1347.974037   \n",
       "\n",
       "          calculatedfinishedsquarefeet        ...          yardbuildingsqft26  \\\n",
       "parcelid                                      ...                               \n",
       "11016594                        1684.0        ...                  311.694737   \n",
       "14366692                        2263.0        ...                  311.694737   \n",
       "12098116                        2217.0        ...                  311.694737   \n",
       "12643413                         839.0        ...                  311.694737   \n",
       "14432541                        2283.0        ...                  311.694737   \n",
       "\n",
       "          yearbuilt  numberofstories  structuretaxvaluedollarcnt  \\\n",
       "parcelid                                                           \n",
       "11016594     1959.0         1.440739                    122754.0   \n",
       "14366692     2014.0         1.440739                    346458.0   \n",
       "12098116     1940.0         1.440739                     61994.0   \n",
       "12643413     1987.0         1.440739                    171518.0   \n",
       "14432541     1981.0         2.000000                    169574.0   \n",
       "\n",
       "          taxvaluedollarcnt  landtaxvaluedollarcnt  taxamount  \\\n",
       "parcelid                                                        \n",
       "11016594           360170.0               237416.0    6735.88   \n",
       "14366692           585529.0               239071.0   10153.02   \n",
       "12098116           119906.0                57912.0   11484.48   \n",
       "12643413           244880.0                73362.0    3048.74   \n",
       "14432541           434551.0               264977.0    5488.96   \n",
       "\n",
       "          taxdelinquencyyear  censustractandblock  transaction_month  \n",
       "parcelid                                                              \n",
       "11016594           13.402692         6.037107e+13                1.0  \n",
       "14366692           13.402692         6.049151e+13                1.0  \n",
       "12098116           13.402692         6.037464e+13                1.0  \n",
       "12643413           13.402692         6.037296e+13                1.0  \n",
       "14432541           13.402692         6.059042e+13                1.0  \n",
       "\n",
       "[5 rows x 46 columns]"
      ]
     },
     "execution_count": 13,
     "metadata": {},
     "output_type": "execute_result"
    }
   ],
   "source": [
    "train_df2.head()"
   ]
  },
  {
   "cell_type": "raw",
   "metadata": {},
   "source": [
    "del train_df_raw, train_df\n",
    "gc.collect()"
   ]
  },
  {
   "cell_type": "markdown",
   "metadata": {},
   "source": [
    "### One hot encoding "
   ]
  },
  {
   "cell_type": "code",
   "execution_count": 14,
   "metadata": {
    "collapsed": true
   },
   "outputs": [],
   "source": [
    "from sklearn.preprocessing import OneHotEncoder"
   ]
  },
  {
   "cell_type": "code",
   "execution_count": 15,
   "metadata": {
    "collapsed": false
   },
   "outputs": [],
   "source": [
    "one_hot_colnames_before = [\"typeconstructiontypeid\", \"architecturalstyletypeid\", \"airconditioningtypeid\", \n",
    "                    \"heatingorsystemtypeid\", \"propertylandusetypeid\", \"transaction_month\"]"
   ]
  },
  {
   "cell_type": "code",
   "execution_count": 16,
   "metadata": {
    "collapsed": false
   },
   "outputs": [
    {
     "name": "stdout",
     "output_type": "stream",
     "text": [
      "Data Frame Dimensions:  (90275, 54)\n"
     ]
    }
   ],
   "source": [
    "#one_hot_df = OneHotEncoder().fit_transform(train_df2[one_hot_colnames].values)\n",
    "one_hot_df = pd.DataFrame()\n",
    "for col_name in one_hot_colnames_before:\n",
    "    temp_one_hot_var1 = OneHotEncoder().fit_transform(train_df2[col_name].values.reshape(-1,1))\n",
    "    temp_one_hot_var = temp_one_hot_var1.toarray()\n",
    "    temp_one_hot_var_df1 = pd.DataFrame(data=temp_one_hot_var)\n",
    "    temp_one_hot_var_df = temp_one_hot_var_df1.add_prefix(col_name + \"_\") # Add the name to each column \n",
    "    one_hot_df = pd.concat([one_hot_df, temp_one_hot_var_df] , axis = 1)\n",
    "print(\"Data Frame Dimensions: \" ,one_hot_df.shape)\n",
    "one_hot_df.index = train_df2.index"
   ]
  },
  {
   "cell_type": "code",
   "execution_count": 17,
   "metadata": {
    "collapsed": false
   },
   "outputs": [],
   "source": [
    "one_hot_colnames_after = one_hot_df.columns"
   ]
  },
  {
   "cell_type": "markdown",
   "metadata": {},
   "source": [
    "Find a better way to implement the code below "
   ]
  },
  {
   "cell_type": "code",
   "execution_count": 18,
   "metadata": {
    "collapsed": false
   },
   "outputs": [],
   "source": [
    "train_df3 = train_df2.drop(one_hot_colnames_before, axis = 1)\n",
    "train_df3 = pd.concat([train_df3, one_hot_df], axis = 1)"
   ]
  },
  {
   "cell_type": "code",
   "execution_count": 19,
   "metadata": {
    "collapsed": false
   },
   "outputs": [
    {
     "name": "stdout",
     "output_type": "stream",
     "text": [
      "Dataset dimensions  (90275, 94)\n"
     ]
    },
    {
     "data": {
      "text/html": [
       "<div>\n",
       "<table border=\"1\" class=\"dataframe\">\n",
       "  <thead>\n",
       "    <tr style=\"text-align: right;\">\n",
       "      <th></th>\n",
       "      <th>logerror</th>\n",
       "      <th>basementsqft</th>\n",
       "      <th>bathroomcnt</th>\n",
       "      <th>bedroomcnt</th>\n",
       "      <th>buildingqualitytypeid</th>\n",
       "      <th>calculatedbathnbr</th>\n",
       "      <th>finishedfloor1squarefeet</th>\n",
       "      <th>calculatedfinishedsquarefeet</th>\n",
       "      <th>finishedsquarefeet12</th>\n",
       "      <th>finishedsquarefeet13</th>\n",
       "      <th>...</th>\n",
       "      <th>transaction_month_2</th>\n",
       "      <th>transaction_month_3</th>\n",
       "      <th>transaction_month_4</th>\n",
       "      <th>transaction_month_5</th>\n",
       "      <th>transaction_month_6</th>\n",
       "      <th>transaction_month_7</th>\n",
       "      <th>transaction_month_8</th>\n",
       "      <th>transaction_month_9</th>\n",
       "      <th>transaction_month_10</th>\n",
       "      <th>transaction_month_11</th>\n",
       "    </tr>\n",
       "    <tr>\n",
       "      <th>parcelid</th>\n",
       "      <th></th>\n",
       "      <th></th>\n",
       "      <th></th>\n",
       "      <th></th>\n",
       "      <th></th>\n",
       "      <th></th>\n",
       "      <th></th>\n",
       "      <th></th>\n",
       "      <th></th>\n",
       "      <th></th>\n",
       "      <th></th>\n",
       "      <th></th>\n",
       "      <th></th>\n",
       "      <th></th>\n",
       "      <th></th>\n",
       "      <th></th>\n",
       "      <th></th>\n",
       "      <th></th>\n",
       "      <th></th>\n",
       "      <th></th>\n",
       "      <th></th>\n",
       "    </tr>\n",
       "  </thead>\n",
       "  <tbody>\n",
       "    <tr>\n",
       "      <th>11016594</th>\n",
       "      <td>0.0276</td>\n",
       "      <td>713.581395</td>\n",
       "      <td>2.0</td>\n",
       "      <td>3.0</td>\n",
       "      <td>4.000000</td>\n",
       "      <td>2.0</td>\n",
       "      <td>1347.974037</td>\n",
       "      <td>1684.0</td>\n",
       "      <td>1684.0</td>\n",
       "      <td>1404.545455</td>\n",
       "      <td>...</td>\n",
       "      <td>0.0</td>\n",
       "      <td>0.0</td>\n",
       "      <td>0.0</td>\n",
       "      <td>0.0</td>\n",
       "      <td>0.0</td>\n",
       "      <td>0.0</td>\n",
       "      <td>0.0</td>\n",
       "      <td>0.0</td>\n",
       "      <td>0.0</td>\n",
       "      <td>0.0</td>\n",
       "    </tr>\n",
       "    <tr>\n",
       "      <th>14366692</th>\n",
       "      <td>-0.1684</td>\n",
       "      <td>713.581395</td>\n",
       "      <td>3.5</td>\n",
       "      <td>4.0</td>\n",
       "      <td>5.565407</td>\n",
       "      <td>3.5</td>\n",
       "      <td>1347.974037</td>\n",
       "      <td>2263.0</td>\n",
       "      <td>2263.0</td>\n",
       "      <td>1404.545455</td>\n",
       "      <td>...</td>\n",
       "      <td>0.0</td>\n",
       "      <td>0.0</td>\n",
       "      <td>0.0</td>\n",
       "      <td>0.0</td>\n",
       "      <td>0.0</td>\n",
       "      <td>0.0</td>\n",
       "      <td>0.0</td>\n",
       "      <td>0.0</td>\n",
       "      <td>0.0</td>\n",
       "      <td>0.0</td>\n",
       "    </tr>\n",
       "    <tr>\n",
       "      <th>12098116</th>\n",
       "      <td>-0.0040</td>\n",
       "      <td>713.581395</td>\n",
       "      <td>3.0</td>\n",
       "      <td>2.0</td>\n",
       "      <td>4.000000</td>\n",
       "      <td>3.0</td>\n",
       "      <td>1347.974037</td>\n",
       "      <td>2217.0</td>\n",
       "      <td>2217.0</td>\n",
       "      <td>1404.545455</td>\n",
       "      <td>...</td>\n",
       "      <td>0.0</td>\n",
       "      <td>0.0</td>\n",
       "      <td>0.0</td>\n",
       "      <td>0.0</td>\n",
       "      <td>0.0</td>\n",
       "      <td>0.0</td>\n",
       "      <td>0.0</td>\n",
       "      <td>0.0</td>\n",
       "      <td>0.0</td>\n",
       "      <td>0.0</td>\n",
       "    </tr>\n",
       "    <tr>\n",
       "      <th>12643413</th>\n",
       "      <td>0.0218</td>\n",
       "      <td>713.581395</td>\n",
       "      <td>2.0</td>\n",
       "      <td>2.0</td>\n",
       "      <td>4.000000</td>\n",
       "      <td>2.0</td>\n",
       "      <td>1347.974037</td>\n",
       "      <td>839.0</td>\n",
       "      <td>839.0</td>\n",
       "      <td>1404.545455</td>\n",
       "      <td>...</td>\n",
       "      <td>0.0</td>\n",
       "      <td>0.0</td>\n",
       "      <td>0.0</td>\n",
       "      <td>0.0</td>\n",
       "      <td>0.0</td>\n",
       "      <td>0.0</td>\n",
       "      <td>0.0</td>\n",
       "      <td>0.0</td>\n",
       "      <td>0.0</td>\n",
       "      <td>0.0</td>\n",
       "    </tr>\n",
       "    <tr>\n",
       "      <th>14432541</th>\n",
       "      <td>-0.0050</td>\n",
       "      <td>713.581395</td>\n",
       "      <td>2.5</td>\n",
       "      <td>4.0</td>\n",
       "      <td>5.565407</td>\n",
       "      <td>2.5</td>\n",
       "      <td>1347.974037</td>\n",
       "      <td>2283.0</td>\n",
       "      <td>2283.0</td>\n",
       "      <td>1404.545455</td>\n",
       "      <td>...</td>\n",
       "      <td>0.0</td>\n",
       "      <td>0.0</td>\n",
       "      <td>0.0</td>\n",
       "      <td>0.0</td>\n",
       "      <td>0.0</td>\n",
       "      <td>0.0</td>\n",
       "      <td>0.0</td>\n",
       "      <td>0.0</td>\n",
       "      <td>0.0</td>\n",
       "      <td>0.0</td>\n",
       "    </tr>\n",
       "  </tbody>\n",
       "</table>\n",
       "<p>5 rows × 94 columns</p>\n",
       "</div>"
      ],
      "text/plain": [
       "          logerror  basementsqft  bathroomcnt  bedroomcnt  \\\n",
       "parcelid                                                    \n",
       "11016594    0.0276    713.581395          2.0         3.0   \n",
       "14366692   -0.1684    713.581395          3.5         4.0   \n",
       "12098116   -0.0040    713.581395          3.0         2.0   \n",
       "12643413    0.0218    713.581395          2.0         2.0   \n",
       "14432541   -0.0050    713.581395          2.5         4.0   \n",
       "\n",
       "          buildingqualitytypeid  calculatedbathnbr  finishedfloor1squarefeet  \\\n",
       "parcelid                                                                       \n",
       "11016594               4.000000                2.0               1347.974037   \n",
       "14366692               5.565407                3.5               1347.974037   \n",
       "12098116               4.000000                3.0               1347.974037   \n",
       "12643413               4.000000                2.0               1347.974037   \n",
       "14432541               5.565407                2.5               1347.974037   \n",
       "\n",
       "          calculatedfinishedsquarefeet  finishedsquarefeet12  \\\n",
       "parcelid                                                       \n",
       "11016594                        1684.0                1684.0   \n",
       "14366692                        2263.0                2263.0   \n",
       "12098116                        2217.0                2217.0   \n",
       "12643413                         839.0                 839.0   \n",
       "14432541                        2283.0                2283.0   \n",
       "\n",
       "          finishedsquarefeet13          ...           transaction_month_2  \\\n",
       "parcelid                                ...                                 \n",
       "11016594           1404.545455          ...                           0.0   \n",
       "14366692           1404.545455          ...                           0.0   \n",
       "12098116           1404.545455          ...                           0.0   \n",
       "12643413           1404.545455          ...                           0.0   \n",
       "14432541           1404.545455          ...                           0.0   \n",
       "\n",
       "          transaction_month_3  transaction_month_4  transaction_month_5  \\\n",
       "parcelid                                                                  \n",
       "11016594                  0.0                  0.0                  0.0   \n",
       "14366692                  0.0                  0.0                  0.0   \n",
       "12098116                  0.0                  0.0                  0.0   \n",
       "12643413                  0.0                  0.0                  0.0   \n",
       "14432541                  0.0                  0.0                  0.0   \n",
       "\n",
       "          transaction_month_6  transaction_month_7  transaction_month_8  \\\n",
       "parcelid                                                                  \n",
       "11016594                  0.0                  0.0                  0.0   \n",
       "14366692                  0.0                  0.0                  0.0   \n",
       "12098116                  0.0                  0.0                  0.0   \n",
       "12643413                  0.0                  0.0                  0.0   \n",
       "14432541                  0.0                  0.0                  0.0   \n",
       "\n",
       "          transaction_month_9  transaction_month_10  transaction_month_11  \n",
       "parcelid                                                                   \n",
       "11016594                  0.0                   0.0                   0.0  \n",
       "14366692                  0.0                   0.0                   0.0  \n",
       "12098116                  0.0                   0.0                   0.0  \n",
       "12643413                  0.0                   0.0                   0.0  \n",
       "14432541                  0.0                   0.0                   0.0  \n",
       "\n",
       "[5 rows x 94 columns]"
      ]
     },
     "execution_count": 19,
     "metadata": {},
     "output_type": "execute_result"
    }
   ],
   "source": [
    "print(\"Dataset dimensions \",train_df3.shape)\n",
    "train_df3.head()"
   ]
  },
  {
   "cell_type": "code",
   "execution_count": 20,
   "metadata": {
    "collapsed": false
   },
   "outputs": [
    {
     "data": {
      "text/plain": [
       "535"
      ]
     },
     "execution_count": 20,
     "metadata": {},
     "output_type": "execute_result"
    }
   ],
   "source": [
    "del train_df2\n",
    "gc.collect()"
   ]
  },
  {
   "cell_type": "markdown",
   "metadata": {},
   "source": [
    "### Scale Data"
   ]
  },
  {
   "cell_type": "code",
   "execution_count": 21,
   "metadata": {
    "collapsed": true
   },
   "outputs": [],
   "source": [
    "from sklearn.preprocessing import MinMaxScaler\n",
    "from sklearn.preprocessing import StandardScaler"
   ]
  },
  {
   "cell_type": "code",
   "execution_count": 22,
   "metadata": {
    "collapsed": false
   },
   "outputs": [],
   "source": [
    "cols_not_tp_scale = np.append(one_hot_colnames_after.values, 'logerror')"
   ]
  },
  {
   "cell_type": "code",
   "execution_count": 23,
   "metadata": {
    "collapsed": false
   },
   "outputs": [],
   "source": [
    "train_df_scale = StandardScaler().fit_transform(train_df3.drop(cols_not_tp_scale,axis = 1))\n",
    "#train_df_scale = MinMaxScaler().fit_transform(train_df3.drop(cols_not_tp_scale),axis = 1)\n",
    "train_df_scale = pd.DataFrame(train_df_scale)\n",
    "train_df_scale.columns = (train_df3.drop(cols_not_tp_scale,axis = 1)).columns\n",
    "train_df_scale.index = train_df3.index"
   ]
  },
  {
   "cell_type": "code",
   "execution_count": 24,
   "metadata": {
    "collapsed": false
   },
   "outputs": [
    {
     "data": {
      "text/html": [
       "<div>\n",
       "<table border=\"1\" class=\"dataframe\">\n",
       "  <thead>\n",
       "    <tr style=\"text-align: right;\">\n",
       "      <th></th>\n",
       "      <th>basementsqft</th>\n",
       "      <th>bathroomcnt</th>\n",
       "      <th>bedroomcnt</th>\n",
       "      <th>buildingqualitytypeid</th>\n",
       "      <th>calculatedbathnbr</th>\n",
       "      <th>finishedfloor1squarefeet</th>\n",
       "      <th>calculatedfinishedsquarefeet</th>\n",
       "      <th>finishedsquarefeet12</th>\n",
       "      <th>finishedsquarefeet13</th>\n",
       "      <th>finishedsquarefeet15</th>\n",
       "      <th>...</th>\n",
       "      <th>yardbuildingsqft17</th>\n",
       "      <th>yardbuildingsqft26</th>\n",
       "      <th>yearbuilt</th>\n",
       "      <th>numberofstories</th>\n",
       "      <th>structuretaxvaluedollarcnt</th>\n",
       "      <th>taxvaluedollarcnt</th>\n",
       "      <th>landtaxvaluedollarcnt</th>\n",
       "      <th>taxamount</th>\n",
       "      <th>taxdelinquencyyear</th>\n",
       "      <th>censustractandblock</th>\n",
       "    </tr>\n",
       "    <tr>\n",
       "      <th>parcelid</th>\n",
       "      <th></th>\n",
       "      <th></th>\n",
       "      <th></th>\n",
       "      <th></th>\n",
       "      <th></th>\n",
       "      <th></th>\n",
       "      <th></th>\n",
       "      <th></th>\n",
       "      <th></th>\n",
       "      <th></th>\n",
       "      <th></th>\n",
       "      <th></th>\n",
       "      <th></th>\n",
       "      <th></th>\n",
       "      <th></th>\n",
       "      <th></th>\n",
       "      <th></th>\n",
       "      <th></th>\n",
       "      <th></th>\n",
       "      <th></th>\n",
       "      <th></th>\n",
       "    </tr>\n",
       "  </thead>\n",
       "  <tbody>\n",
       "    <tr>\n",
       "      <th>11016594</th>\n",
       "      <td>-1.204915e-14</td>\n",
       "      <td>-0.278287</td>\n",
       "      <td>-0.027558</td>\n",
       "      <td>-1.033247</td>\n",
       "      <td>-0.318860</td>\n",
       "      <td>-1.264756e-15</td>\n",
       "      <td>-0.096443</td>\n",
       "      <td>-0.069359</td>\n",
       "      <td>-1.096805e-13</td>\n",
       "      <td>0.0</td>\n",
       "      <td>...</td>\n",
       "      <td>0.0</td>\n",
       "      <td>5.086028e-15</td>\n",
       "      <td>-0.402849</td>\n",
       "      <td>8.543208e-16</td>\n",
       "      <td>-0.274761</td>\n",
       "      <td>-0.175719</td>\n",
       "      <td>-0.102173</td>\n",
       "      <td>0.109950</td>\n",
       "      <td>-1.396552e-14</td>\n",
       "      <td>-5.904822e-01</td>\n",
       "    </tr>\n",
       "    <tr>\n",
       "      <th>14366692</th>\n",
       "      <td>-1.204915e-14</td>\n",
       "      <td>1.215342</td>\n",
       "      <td>0.837173</td>\n",
       "      <td>0.000000</td>\n",
       "      <td>1.227922</td>\n",
       "      <td>-1.264756e-15</td>\n",
       "      <td>0.529670</td>\n",
       "      <td>0.584110</td>\n",
       "      <td>-1.096805e-13</td>\n",
       "      <td>0.0</td>\n",
       "      <td>...</td>\n",
       "      <td>0.0</td>\n",
       "      <td>5.086028e-15</td>\n",
       "      <td>1.921393</td>\n",
       "      <td>8.543208e-16</td>\n",
       "      <td>0.797193</td>\n",
       "      <td>0.230422</td>\n",
       "      <td>-0.098040</td>\n",
       "      <td>0.609633</td>\n",
       "      <td>-1.396552e-14</td>\n",
       "      <td>-5.247339e-12</td>\n",
       "    </tr>\n",
       "    <tr>\n",
       "      <th>12098116</th>\n",
       "      <td>-1.204915e-14</td>\n",
       "      <td>0.717466</td>\n",
       "      <td>-0.892289</td>\n",
       "      <td>-1.033247</td>\n",
       "      <td>0.712328</td>\n",
       "      <td>-1.264756e-15</td>\n",
       "      <td>0.479927</td>\n",
       "      <td>0.532194</td>\n",
       "      <td>-1.096805e-13</td>\n",
       "      <td>0.0</td>\n",
       "      <td>...</td>\n",
       "      <td>0.0</td>\n",
       "      <td>5.086028e-15</td>\n",
       "      <td>-1.205769</td>\n",
       "      <td>8.543208e-16</td>\n",
       "      <td>-0.565913</td>\n",
       "      <td>-0.608722</td>\n",
       "      <td>-0.550383</td>\n",
       "      <td>0.804331</td>\n",
       "      <td>-1.396552e-14</td>\n",
       "      <td>-5.729723e-01</td>\n",
       "    </tr>\n",
       "    <tr>\n",
       "      <th>12643413</th>\n",
       "      <td>-1.204915e-14</td>\n",
       "      <td>-0.278287</td>\n",
       "      <td>-0.892289</td>\n",
       "      <td>-1.033247</td>\n",
       "      <td>-0.318860</td>\n",
       "      <td>-1.264756e-15</td>\n",
       "      <td>-1.010201</td>\n",
       "      <td>-1.023039</td>\n",
       "      <td>-1.096805e-13</td>\n",
       "      <td>0.0</td>\n",
       "      <td>...</td>\n",
       "      <td>0.0</td>\n",
       "      <td>5.086028e-15</td>\n",
       "      <td>0.780401</td>\n",
       "      <td>8.543208e-16</td>\n",
       "      <td>-0.041092</td>\n",
       "      <td>-0.383494</td>\n",
       "      <td>-0.511805</td>\n",
       "      <td>-0.429215</td>\n",
       "      <td>-1.396552e-14</td>\n",
       "      <td>-5.811842e-01</td>\n",
       "    </tr>\n",
       "    <tr>\n",
       "      <th>14432541</th>\n",
       "      <td>-1.204915e-14</td>\n",
       "      <td>0.219590</td>\n",
       "      <td>0.837173</td>\n",
       "      <td>0.000000</td>\n",
       "      <td>0.196734</td>\n",
       "      <td>-1.264756e-15</td>\n",
       "      <td>0.551298</td>\n",
       "      <td>0.606682</td>\n",
       "      <td>-1.096805e-13</td>\n",
       "      <td>0.0</td>\n",
       "      <td>...</td>\n",
       "      <td>0.0</td>\n",
       "      <td>5.086028e-15</td>\n",
       "      <td>0.526848</td>\n",
       "      <td>2.151767e+00</td>\n",
       "      <td>-0.050407</td>\n",
       "      <td>-0.041670</td>\n",
       "      <td>-0.033355</td>\n",
       "      <td>-0.072385</td>\n",
       "      <td>-1.396552e-14</td>\n",
       "      <td>4.849422e-01</td>\n",
       "    </tr>\n",
       "  </tbody>\n",
       "</table>\n",
       "<p>5 rows × 39 columns</p>\n",
       "</div>"
      ],
      "text/plain": [
       "          basementsqft  bathroomcnt  bedroomcnt  buildingqualitytypeid  \\\n",
       "parcelid                                                                 \n",
       "11016594 -1.204915e-14    -0.278287   -0.027558              -1.033247   \n",
       "14366692 -1.204915e-14     1.215342    0.837173               0.000000   \n",
       "12098116 -1.204915e-14     0.717466   -0.892289              -1.033247   \n",
       "12643413 -1.204915e-14    -0.278287   -0.892289              -1.033247   \n",
       "14432541 -1.204915e-14     0.219590    0.837173               0.000000   \n",
       "\n",
       "          calculatedbathnbr  finishedfloor1squarefeet  \\\n",
       "parcelid                                                \n",
       "11016594          -0.318860             -1.264756e-15   \n",
       "14366692           1.227922             -1.264756e-15   \n",
       "12098116           0.712328             -1.264756e-15   \n",
       "12643413          -0.318860             -1.264756e-15   \n",
       "14432541           0.196734             -1.264756e-15   \n",
       "\n",
       "          calculatedfinishedsquarefeet  finishedsquarefeet12  \\\n",
       "parcelid                                                       \n",
       "11016594                     -0.096443             -0.069359   \n",
       "14366692                      0.529670              0.584110   \n",
       "12098116                      0.479927              0.532194   \n",
       "12643413                     -1.010201             -1.023039   \n",
       "14432541                      0.551298              0.606682   \n",
       "\n",
       "          finishedsquarefeet13  finishedsquarefeet15         ...           \\\n",
       "parcelid                                                     ...            \n",
       "11016594         -1.096805e-13                   0.0         ...            \n",
       "14366692         -1.096805e-13                   0.0         ...            \n",
       "12098116         -1.096805e-13                   0.0         ...            \n",
       "12643413         -1.096805e-13                   0.0         ...            \n",
       "14432541         -1.096805e-13                   0.0         ...            \n",
       "\n",
       "          yardbuildingsqft17  yardbuildingsqft26  yearbuilt  numberofstories  \\\n",
       "parcelid                                                                       \n",
       "11016594                 0.0        5.086028e-15  -0.402849     8.543208e-16   \n",
       "14366692                 0.0        5.086028e-15   1.921393     8.543208e-16   \n",
       "12098116                 0.0        5.086028e-15  -1.205769     8.543208e-16   \n",
       "12643413                 0.0        5.086028e-15   0.780401     8.543208e-16   \n",
       "14432541                 0.0        5.086028e-15   0.526848     2.151767e+00   \n",
       "\n",
       "          structuretaxvaluedollarcnt  taxvaluedollarcnt  \\\n",
       "parcelid                                                  \n",
       "11016594                   -0.274761          -0.175719   \n",
       "14366692                    0.797193           0.230422   \n",
       "12098116                   -0.565913          -0.608722   \n",
       "12643413                   -0.041092          -0.383494   \n",
       "14432541                   -0.050407          -0.041670   \n",
       "\n",
       "          landtaxvaluedollarcnt  taxamount  taxdelinquencyyear  \\\n",
       "parcelid                                                         \n",
       "11016594              -0.102173   0.109950       -1.396552e-14   \n",
       "14366692              -0.098040   0.609633       -1.396552e-14   \n",
       "12098116              -0.550383   0.804331       -1.396552e-14   \n",
       "12643413              -0.511805  -0.429215       -1.396552e-14   \n",
       "14432541              -0.033355  -0.072385       -1.396552e-14   \n",
       "\n",
       "          censustractandblock  \n",
       "parcelid                       \n",
       "11016594        -5.904822e-01  \n",
       "14366692        -5.247339e-12  \n",
       "12098116        -5.729723e-01  \n",
       "12643413        -5.811842e-01  \n",
       "14432541         4.849422e-01  \n",
       "\n",
       "[5 rows x 39 columns]"
      ]
     },
     "execution_count": 24,
     "metadata": {},
     "output_type": "execute_result"
    }
   ],
   "source": [
    "train_df_scale.head()"
   ]
  },
  {
   "cell_type": "code",
   "execution_count": 25,
   "metadata": {
    "collapsed": false
   },
   "outputs": [],
   "source": [
    "train_y = train_df['logerror']"
   ]
  },
  {
   "cell_type": "code",
   "execution_count": 26,
   "metadata": {
    "collapsed": false
   },
   "outputs": [
    {
     "data": {
      "text/plain": [
       "90275"
      ]
     },
     "execution_count": 26,
     "metadata": {},
     "output_type": "execute_result"
    }
   ],
   "source": [
    "train_y.size"
   ]
  },
  {
   "cell_type": "markdown",
   "metadata": {},
   "source": [
    "## Flooring and Capping "
   ]
  },
  {
   "cell_type": "code",
   "execution_count": 27,
   "metadata": {
    "collapsed": true
   },
   "outputs": [],
   "source": [
    "ceil_y = train_y.quantile(q= 0.99)\n",
    "floor_y = train_y.quantile(q=0.01)"
   ]
  },
  {
   "cell_type": "code",
   "execution_count": 28,
   "metadata": {
    "collapsed": false
   },
   "outputs": [
    {
     "data": {
      "text/plain": [
       "count    90275.000000\n",
       "mean         0.011457\n",
       "std          0.161079\n",
       "min         -4.605000\n",
       "25%         -0.025300\n",
       "50%          0.006000\n",
       "75%          0.039200\n",
       "max          4.737000\n",
       "Name: logerror, dtype: float64"
      ]
     },
     "execution_count": 28,
     "metadata": {},
     "output_type": "execute_result"
    }
   ],
   "source": [
    "train_df3['logerror'].describe()"
   ]
  },
  {
   "cell_type": "code",
   "execution_count": 29,
   "metadata": {
    "collapsed": false
   },
   "outputs": [
    {
     "data": {
      "image/png": "[encoded data removed]",
      "text/plain": [
       "<matplotlib.figure.Figure at 0x23c00bfb550>"
      ]
     },
     "metadata": {},
     "output_type": "display_data"
    }
   ],
   "source": [
    "plt.figure(figsize=(8,6))\n",
    "plt.scatter(range(train_df3['logerror'].size), np.sort(train_df3['logerror']))\n",
    "plt.xlabel('index', fontsize=12)\n",
    "plt.ylabel('logerror', fontsize=12)\n",
    "plt.axhline(y = ceil_y, linewidth = 2, color = 'r')\n",
    "plt.axhline(y = floor_y, linewidth = 2, color = 'r')\n",
    "plt.show()"
   ]
  },
  {
   "cell_type": "code",
   "execution_count": 30,
   "metadata": {
    "collapsed": false
   },
   "outputs": [
    {
     "name": "stderr",
     "output_type": "stream",
     "text": [
      "C:\\Users\\board\\Anaconda3\\lib\\site-packages\\ipykernel\\__main__.py:1: SettingWithCopyWarning: \n",
      "A value is trying to be set on a copy of a slice from a DataFrame\n",
      "\n",
      "See the caveats in the documentation: http://pandas.pydata.org/pandas-docs/stable/indexing.html#indexing-view-versus-copy\n",
      "  if __name__ == '__main__':\n",
      "C:\\Users\\board\\Anaconda3\\lib\\site-packages\\ipykernel\\__main__.py:2: SettingWithCopyWarning: \n",
      "A value is trying to be set on a copy of a slice from a DataFrame\n",
      "\n",
      "See the caveats in the documentation: http://pandas.pydata.org/pandas-docs/stable/indexing.html#indexing-view-versus-copy\n",
      "  from ipykernel import kernelapp as app\n"
     ]
    }
   ],
   "source": [
    "train_y[train_y > ceil_y] = ceil_y\n",
    "train_y[train_y < floor_y] = floor_y"
   ]
  },
  {
   "cell_type": "code",
   "execution_count": 31,
   "metadata": {
    "collapsed": false
   },
   "outputs": [
    {
     "data": {
      "image/png": "[encoded data removed]",
      "text/plain": [
       "<matplotlib.figure.Figure at 0x23c00c8fb38>"
      ]
     },
     "metadata": {},
     "output_type": "display_data"
    }
   ],
   "source": [
    "plt.figure(figsize=(8,6))\n",
    "plt.hist(train_y, bins = 30)\n",
    "plt.xlabel('logerror', fontsize=12)\n",
    "plt.ylabel('Frequency', fontsize=12)\n",
    "plt.show()"
   ]
  },
  {
   "cell_type": "code",
   "execution_count": 32,
   "metadata": {
    "collapsed": false
   },
   "outputs": [
    {
     "data": {
      "image/png": "[encoded data removed]",
      "text/plain": [
       "<matplotlib.figure.Figure at 0x23c010a28d0>"
      ]
     },
     "metadata": {},
     "output_type": "display_data"
    }
   ],
   "source": [
    "plt.figure(figsize=(8,6))\n",
    "plt.scatter(range(train_y.size), np.sort(train_y))\n",
    "plt.xlabel('index', fontsize=12)\n",
    "plt.ylabel('logerror', fontsize=12)\n",
    "plt.show()"
   ]
  },
  {
   "cell_type": "code",
   "execution_count": 33,
   "metadata": {
    "collapsed": false
   },
   "outputs": [
    {
     "name": "stdout",
     "output_type": "stream",
     "text": [
      "Min value:  -0.3425\n",
      "Max value:  0.463882\n"
     ]
    }
   ],
   "source": [
    "print(\"Min value: \",min(train_y))\n",
    "print(\"Max value: \", max(train_y)) "
   ]
  },
  {
   "cell_type": "code",
   "execution_count": 34,
   "metadata": {
    "collapsed": false
   },
   "outputs": [
    {
     "data": {
      "text/plain": [
       "(90275, 39)"
      ]
     },
     "execution_count": 34,
     "metadata": {},
     "output_type": "execute_result"
    }
   ],
   "source": [
    "train_df_scale.shape"
   ]
  },
  {
   "cell_type": "markdown",
   "metadata": {},
   "source": [
    "### Combine and Prepare for Modeling"
   ]
  },
  {
   "cell_type": "code",
   "execution_count": 35,
   "metadata": {
    "collapsed": false
   },
   "outputs": [
    {
     "data": {
      "text/html": [
       "<div>\n",
       "<table border=\"1\" class=\"dataframe\">\n",
       "  <thead>\n",
       "    <tr style=\"text-align: right;\">\n",
       "      <th></th>\n",
       "      <th>basementsqft</th>\n",
       "      <th>bathroomcnt</th>\n",
       "      <th>bedroomcnt</th>\n",
       "      <th>buildingqualitytypeid</th>\n",
       "      <th>calculatedbathnbr</th>\n",
       "      <th>finishedfloor1squarefeet</th>\n",
       "      <th>calculatedfinishedsquarefeet</th>\n",
       "      <th>finishedsquarefeet12</th>\n",
       "      <th>finishedsquarefeet13</th>\n",
       "      <th>finishedsquarefeet15</th>\n",
       "      <th>...</th>\n",
       "      <th>transaction_month_2</th>\n",
       "      <th>transaction_month_3</th>\n",
       "      <th>transaction_month_4</th>\n",
       "      <th>transaction_month_5</th>\n",
       "      <th>transaction_month_6</th>\n",
       "      <th>transaction_month_7</th>\n",
       "      <th>transaction_month_8</th>\n",
       "      <th>transaction_month_9</th>\n",
       "      <th>transaction_month_10</th>\n",
       "      <th>transaction_month_11</th>\n",
       "    </tr>\n",
       "    <tr>\n",
       "      <th>parcelid</th>\n",
       "      <th></th>\n",
       "      <th></th>\n",
       "      <th></th>\n",
       "      <th></th>\n",
       "      <th></th>\n",
       "      <th></th>\n",
       "      <th></th>\n",
       "      <th></th>\n",
       "      <th></th>\n",
       "      <th></th>\n",
       "      <th></th>\n",
       "      <th></th>\n",
       "      <th></th>\n",
       "      <th></th>\n",
       "      <th></th>\n",
       "      <th></th>\n",
       "      <th></th>\n",
       "      <th></th>\n",
       "      <th></th>\n",
       "      <th></th>\n",
       "      <th></th>\n",
       "    </tr>\n",
       "  </thead>\n",
       "  <tbody>\n",
       "    <tr>\n",
       "      <th>11016594</th>\n",
       "      <td>-1.204915e-14</td>\n",
       "      <td>-0.278287</td>\n",
       "      <td>-0.027558</td>\n",
       "      <td>-1.033247</td>\n",
       "      <td>-0.318860</td>\n",
       "      <td>-1.264756e-15</td>\n",
       "      <td>-0.096443</td>\n",
       "      <td>-0.069359</td>\n",
       "      <td>-1.096805e-13</td>\n",
       "      <td>0.0</td>\n",
       "      <td>...</td>\n",
       "      <td>0.0</td>\n",
       "      <td>0.0</td>\n",
       "      <td>0.0</td>\n",
       "      <td>0.0</td>\n",
       "      <td>0.0</td>\n",
       "      <td>0.0</td>\n",
       "      <td>0.0</td>\n",
       "      <td>0.0</td>\n",
       "      <td>0.0</td>\n",
       "      <td>0.0</td>\n",
       "    </tr>\n",
       "    <tr>\n",
       "      <th>14366692</th>\n",
       "      <td>-1.204915e-14</td>\n",
       "      <td>1.215342</td>\n",
       "      <td>0.837173</td>\n",
       "      <td>0.000000</td>\n",
       "      <td>1.227922</td>\n",
       "      <td>-1.264756e-15</td>\n",
       "      <td>0.529670</td>\n",
       "      <td>0.584110</td>\n",
       "      <td>-1.096805e-13</td>\n",
       "      <td>0.0</td>\n",
       "      <td>...</td>\n",
       "      <td>0.0</td>\n",
       "      <td>0.0</td>\n",
       "      <td>0.0</td>\n",
       "      <td>0.0</td>\n",
       "      <td>0.0</td>\n",
       "      <td>0.0</td>\n",
       "      <td>0.0</td>\n",
       "      <td>0.0</td>\n",
       "      <td>0.0</td>\n",
       "      <td>0.0</td>\n",
       "    </tr>\n",
       "    <tr>\n",
       "      <th>12098116</th>\n",
       "      <td>-1.204915e-14</td>\n",
       "      <td>0.717466</td>\n",
       "      <td>-0.892289</td>\n",
       "      <td>-1.033247</td>\n",
       "      <td>0.712328</td>\n",
       "      <td>-1.264756e-15</td>\n",
       "      <td>0.479927</td>\n",
       "      <td>0.532194</td>\n",
       "      <td>-1.096805e-13</td>\n",
       "      <td>0.0</td>\n",
       "      <td>...</td>\n",
       "      <td>0.0</td>\n",
       "      <td>0.0</td>\n",
       "      <td>0.0</td>\n",
       "      <td>0.0</td>\n",
       "      <td>0.0</td>\n",
       "      <td>0.0</td>\n",
       "      <td>0.0</td>\n",
       "      <td>0.0</td>\n",
       "      <td>0.0</td>\n",
       "      <td>0.0</td>\n",
       "    </tr>\n",
       "    <tr>\n",
       "      <th>12643413</th>\n",
       "      <td>-1.204915e-14</td>\n",
       "      <td>-0.278287</td>\n",
       "      <td>-0.892289</td>\n",
       "      <td>-1.033247</td>\n",
       "      <td>-0.318860</td>\n",
       "      <td>-1.264756e-15</td>\n",
       "      <td>-1.010201</td>\n",
       "      <td>-1.023039</td>\n",
       "      <td>-1.096805e-13</td>\n",
       "      <td>0.0</td>\n",
       "      <td>...</td>\n",
       "      <td>0.0</td>\n",
       "      <td>0.0</td>\n",
       "      <td>0.0</td>\n",
       "      <td>0.0</td>\n",
       "      <td>0.0</td>\n",
       "      <td>0.0</td>\n",
       "      <td>0.0</td>\n",
       "      <td>0.0</td>\n",
       "      <td>0.0</td>\n",
       "      <td>0.0</td>\n",
       "    </tr>\n",
       "    <tr>\n",
       "      <th>14432541</th>\n",
       "      <td>-1.204915e-14</td>\n",
       "      <td>0.219590</td>\n",
       "      <td>0.837173</td>\n",
       "      <td>0.000000</td>\n",
       "      <td>0.196734</td>\n",
       "      <td>-1.264756e-15</td>\n",
       "      <td>0.551298</td>\n",
       "      <td>0.606682</td>\n",
       "      <td>-1.096805e-13</td>\n",
       "      <td>0.0</td>\n",
       "      <td>...</td>\n",
       "      <td>0.0</td>\n",
       "      <td>0.0</td>\n",
       "      <td>0.0</td>\n",
       "      <td>0.0</td>\n",
       "      <td>0.0</td>\n",
       "      <td>0.0</td>\n",
       "      <td>0.0</td>\n",
       "      <td>0.0</td>\n",
       "      <td>0.0</td>\n",
       "      <td>0.0</td>\n",
       "    </tr>\n",
       "  </tbody>\n",
       "</table>\n",
       "<p>5 rows × 93 columns</p>\n",
       "</div>"
      ],
      "text/plain": [
       "          basementsqft  bathroomcnt  bedroomcnt  buildingqualitytypeid  \\\n",
       "parcelid                                                                 \n",
       "11016594 -1.204915e-14    -0.278287   -0.027558              -1.033247   \n",
       "14366692 -1.204915e-14     1.215342    0.837173               0.000000   \n",
       "12098116 -1.204915e-14     0.717466   -0.892289              -1.033247   \n",
       "12643413 -1.204915e-14    -0.278287   -0.892289              -1.033247   \n",
       "14432541 -1.204915e-14     0.219590    0.837173               0.000000   \n",
       "\n",
       "          calculatedbathnbr  finishedfloor1squarefeet  \\\n",
       "parcelid                                                \n",
       "11016594          -0.318860             -1.264756e-15   \n",
       "14366692           1.227922             -1.264756e-15   \n",
       "12098116           0.712328             -1.264756e-15   \n",
       "12643413          -0.318860             -1.264756e-15   \n",
       "14432541           0.196734             -1.264756e-15   \n",
       "\n",
       "          calculatedfinishedsquarefeet  finishedsquarefeet12  \\\n",
       "parcelid                                                       \n",
       "11016594                     -0.096443             -0.069359   \n",
       "14366692                      0.529670              0.584110   \n",
       "12098116                      0.479927              0.532194   \n",
       "12643413                     -1.010201             -1.023039   \n",
       "14432541                      0.551298              0.606682   \n",
       "\n",
       "          finishedsquarefeet13  finishedsquarefeet15          ...           \\\n",
       "parcelid                                                      ...            \n",
       "11016594         -1.096805e-13                   0.0          ...            \n",
       "14366692         -1.096805e-13                   0.0          ...            \n",
       "12098116         -1.096805e-13                   0.0          ...            \n",
       "12643413         -1.096805e-13                   0.0          ...            \n",
       "14432541         -1.096805e-13                   0.0          ...            \n",
       "\n",
       "          transaction_month_2  transaction_month_3  transaction_month_4  \\\n",
       "parcelid                                                                  \n",
       "11016594                  0.0                  0.0                  0.0   \n",
       "14366692                  0.0                  0.0                  0.0   \n",
       "12098116                  0.0                  0.0                  0.0   \n",
       "12643413                  0.0                  0.0                  0.0   \n",
       "14432541                  0.0                  0.0                  0.0   \n",
       "\n",
       "          transaction_month_5  transaction_month_6  transaction_month_7  \\\n",
       "parcelid                                                                  \n",
       "11016594                  0.0                  0.0                  0.0   \n",
       "14366692                  0.0                  0.0                  0.0   \n",
       "12098116                  0.0                  0.0                  0.0   \n",
       "12643413                  0.0                  0.0                  0.0   \n",
       "14432541                  0.0                  0.0                  0.0   \n",
       "\n",
       "          transaction_month_8  transaction_month_9  transaction_month_10  \\\n",
       "parcelid                                                                   \n",
       "11016594                  0.0                  0.0                   0.0   \n",
       "14366692                  0.0                  0.0                   0.0   \n",
       "12098116                  0.0                  0.0                   0.0   \n",
       "12643413                  0.0                  0.0                   0.0   \n",
       "14432541                  0.0                  0.0                   0.0   \n",
       "\n",
       "          transaction_month_11  \n",
       "parcelid                        \n",
       "11016594                   0.0  \n",
       "14366692                   0.0  \n",
       "12098116                   0.0  \n",
       "12643413                   0.0  \n",
       "14432541                   0.0  \n",
       "\n",
       "[5 rows x 93 columns]"
      ]
     },
     "execution_count": 35,
     "metadata": {},
     "output_type": "execute_result"
    }
   ],
   "source": [
    "train_df_modeling = pd.concat([train_df_scale, one_hot_df], axis = 1) \n",
    "train_df_modeling.head()"
   ]
  },
  {
   "cell_type": "code",
   "execution_count": 36,
   "metadata": {
    "collapsed": false
   },
   "outputs": [
    {
     "data": {
      "text/html": [
       "<div>\n",
       "<table border=\"1\" class=\"dataframe\">\n",
       "  <thead>\n",
       "    <tr style=\"text-align: right;\">\n",
       "      <th></th>\n",
       "      <th>basementsqft</th>\n",
       "      <th>bathroomcnt</th>\n",
       "      <th>bedroomcnt</th>\n",
       "      <th>buildingqualitytypeid</th>\n",
       "      <th>calculatedbathnbr</th>\n",
       "      <th>finishedfloor1squarefeet</th>\n",
       "      <th>calculatedfinishedsquarefeet</th>\n",
       "      <th>finishedsquarefeet12</th>\n",
       "      <th>finishedsquarefeet13</th>\n",
       "      <th>finishedsquarefeet15</th>\n",
       "      <th>...</th>\n",
       "      <th>transaction_month_2</th>\n",
       "      <th>transaction_month_3</th>\n",
       "      <th>transaction_month_4</th>\n",
       "      <th>transaction_month_5</th>\n",
       "      <th>transaction_month_6</th>\n",
       "      <th>transaction_month_7</th>\n",
       "      <th>transaction_month_8</th>\n",
       "      <th>transaction_month_9</th>\n",
       "      <th>transaction_month_10</th>\n",
       "      <th>transaction_month_11</th>\n",
       "    </tr>\n",
       "  </thead>\n",
       "  <tbody>\n",
       "    <tr>\n",
       "      <th>count</th>\n",
       "      <td>9.027500e+04</td>\n",
       "      <td>9.027500e+04</td>\n",
       "      <td>9.027500e+04</td>\n",
       "      <td>9.027500e+04</td>\n",
       "      <td>9.027500e+04</td>\n",
       "      <td>9.027500e+04</td>\n",
       "      <td>9.027500e+04</td>\n",
       "      <td>9.027500e+04</td>\n",
       "      <td>9.027500e+04</td>\n",
       "      <td>9.027500e+04</td>\n",
       "      <td>...</td>\n",
       "      <td>90275.000000</td>\n",
       "      <td>90275.000000</td>\n",
       "      <td>90275.000000</td>\n",
       "      <td>90275.000000</td>\n",
       "      <td>90275.000000</td>\n",
       "      <td>90275.000000</td>\n",
       "      <td>90275.000000</td>\n",
       "      <td>90275.000000</td>\n",
       "      <td>90275.000000</td>\n",
       "      <td>90275.000000</td>\n",
       "    </tr>\n",
       "    <tr>\n",
       "      <th>mean</th>\n",
       "      <td>-6.891806e-15</td>\n",
       "      <td>-4.360543e-15</td>\n",
       "      <td>1.516564e-16</td>\n",
       "      <td>-1.446135e-15</td>\n",
       "      <td>-1.999026e-15</td>\n",
       "      <td>-2.496674e-16</td>\n",
       "      <td>3.082565e-16</td>\n",
       "      <td>-3.810439e-16</td>\n",
       "      <td>-1.118359e-13</td>\n",
       "      <td>-2.078401e-17</td>\n",
       "      <td>...</td>\n",
       "      <td>0.095840</td>\n",
       "      <td>0.103140</td>\n",
       "      <td>0.110341</td>\n",
       "      <td>0.120986</td>\n",
       "      <td>0.110186</td>\n",
       "      <td>0.116045</td>\n",
       "      <td>0.106065</td>\n",
       "      <td>0.055132</td>\n",
       "      <td>0.020227</td>\n",
       "      <td>0.019263</td>\n",
       "    </tr>\n",
       "    <tr>\n",
       "      <th>std</th>\n",
       "      <td>1.000006e+00</td>\n",
       "      <td>1.000006e+00</td>\n",
       "      <td>1.000006e+00</td>\n",
       "      <td>1.000006e+00</td>\n",
       "      <td>1.000006e+00</td>\n",
       "      <td>1.000006e+00</td>\n",
       "      <td>1.000006e+00</td>\n",
       "      <td>1.000006e+00</td>\n",
       "      <td>1.000006e+00</td>\n",
       "      <td>1.000006e+00</td>\n",
       "      <td>...</td>\n",
       "      <td>0.294374</td>\n",
       "      <td>0.304144</td>\n",
       "      <td>0.313316</td>\n",
       "      <td>0.326113</td>\n",
       "      <td>0.313123</td>\n",
       "      <td>0.320281</td>\n",
       "      <td>0.307922</td>\n",
       "      <td>0.228238</td>\n",
       "      <td>0.140777</td>\n",
       "      <td>0.137450</td>\n",
       "    </tr>\n",
       "    <tr>\n",
       "      <th>min</th>\n",
       "      <td>-6.503072e+01</td>\n",
       "      <td>-2.269792e+00</td>\n",
       "      <td>-2.621751e+00</td>\n",
       "      <td>-3.013396e+00</td>\n",
       "      <td>-1.350048e+00</td>\n",
       "      <td>-7.253300e+00</td>\n",
       "      <td>-1.915307e+00</td>\n",
       "      <td>-1.967691e+00</td>\n",
       "      <td>-1.681313e+02</td>\n",
       "      <td>-8.576562e+00</td>\n",
       "      <td>...</td>\n",
       "      <td>0.000000</td>\n",
       "      <td>0.000000</td>\n",
       "      <td>0.000000</td>\n",
       "      <td>0.000000</td>\n",
       "      <td>0.000000</td>\n",
       "      <td>0.000000</td>\n",
       "      <td>0.000000</td>\n",
       "      <td>0.000000</td>\n",
       "      <td>0.000000</td>\n",
       "      <td>0.000000</td>\n",
       "    </tr>\n",
       "    <tr>\n",
       "      <th>25%</th>\n",
       "      <td>-1.204915e-14</td>\n",
       "      <td>-2.782868e-01</td>\n",
       "      <td>-8.922893e-01</td>\n",
       "      <td>-1.033247e+00</td>\n",
       "      <td>-3.188600e-01</td>\n",
       "      <td>-1.264756e-15</td>\n",
       "      <td>-6.338839e-01</td>\n",
       "      <td>-6.268949e-01</td>\n",
       "      <td>-1.096805e-13</td>\n",
       "      <td>0.000000e+00</td>\n",
       "      <td>...</td>\n",
       "      <td>0.000000</td>\n",
       "      <td>0.000000</td>\n",
       "      <td>0.000000</td>\n",
       "      <td>0.000000</td>\n",
       "      <td>0.000000</td>\n",
       "      <td>0.000000</td>\n",
       "      <td>0.000000</td>\n",
       "      <td>0.000000</td>\n",
       "      <td>0.000000</td>\n",
       "      <td>0.000000</td>\n",
       "    </tr>\n",
       "    <tr>\n",
       "      <th>50%</th>\n",
       "      <td>-1.204915e-14</td>\n",
       "      <td>-2.782868e-01</td>\n",
       "      <td>-2.755836e-02</td>\n",
       "      <td>0.000000e+00</td>\n",
       "      <td>-3.188600e-01</td>\n",
       "      <td>-1.264756e-15</td>\n",
       "      <td>-2.445907e-01</td>\n",
       "      <td>-2.081784e-01</td>\n",
       "      <td>-1.096805e-13</td>\n",
       "      <td>0.000000e+00</td>\n",
       "      <td>...</td>\n",
       "      <td>0.000000</td>\n",
       "      <td>0.000000</td>\n",
       "      <td>0.000000</td>\n",
       "      <td>0.000000</td>\n",
       "      <td>0.000000</td>\n",
       "      <td>0.000000</td>\n",
       "      <td>0.000000</td>\n",
       "      <td>0.000000</td>\n",
       "      <td>0.000000</td>\n",
       "      <td>0.000000</td>\n",
       "    </tr>\n",
       "    <tr>\n",
       "      <th>75%</th>\n",
       "      <td>-1.204915e-14</td>\n",
       "      <td>7.174659e-01</td>\n",
       "      <td>8.371726e-01</td>\n",
       "      <td>9.469029e-01</td>\n",
       "      <td>7.123279e-01</td>\n",
       "      <td>-1.264756e-15</td>\n",
       "      <td>3.415118e-01</td>\n",
       "      <td>3.019561e-01</td>\n",
       "      <td>-1.096805e-13</td>\n",
       "      <td>0.000000e+00</td>\n",
       "      <td>...</td>\n",
       "      <td>0.000000</td>\n",
       "      <td>0.000000</td>\n",
       "      <td>0.000000</td>\n",
       "      <td>0.000000</td>\n",
       "      <td>0.000000</td>\n",
       "      <td>0.000000</td>\n",
       "      <td>0.000000</td>\n",
       "      <td>0.000000</td>\n",
       "      <td>0.000000</td>\n",
       "      <td>0.000000</td>\n",
       "    </tr>\n",
       "    <tr>\n",
       "      <th>max</th>\n",
       "      <td>8.917815e+01</td>\n",
       "      <td>1.764526e+01</td>\n",
       "      <td>1.121394e+01</td>\n",
       "      <td>4.247152e+00</td>\n",
       "      <td>1.824252e+01</td>\n",
       "      <td>3.491569e+01</td>\n",
       "      <td>2.267396e+01</td>\n",
       "      <td>2.061705e+01</td>\n",
       "      <td>8.656524e+01</td>\n",
       "      <td>9.594394e+01</td>\n",
       "      <td>...</td>\n",
       "      <td>1.000000</td>\n",
       "      <td>1.000000</td>\n",
       "      <td>1.000000</td>\n",
       "      <td>1.000000</td>\n",
       "      <td>1.000000</td>\n",
       "      <td>1.000000</td>\n",
       "      <td>1.000000</td>\n",
       "      <td>1.000000</td>\n",
       "      <td>1.000000</td>\n",
       "      <td>1.000000</td>\n",
       "    </tr>\n",
       "  </tbody>\n",
       "</table>\n",
       "<p>8 rows × 93 columns</p>\n",
       "</div>"
      ],
      "text/plain": [
       "       basementsqft   bathroomcnt    bedroomcnt  buildingqualitytypeid  \\\n",
       "count  9.027500e+04  9.027500e+04  9.027500e+04           9.027500e+04   \n",
       "mean  -6.891806e-15 -4.360543e-15  1.516564e-16          -1.446135e-15   \n",
       "std    1.000006e+00  1.000006e+00  1.000006e+00           1.000006e+00   \n",
       "min   -6.503072e+01 -2.269792e+00 -2.621751e+00          -3.013396e+00   \n",
       "25%   -1.204915e-14 -2.782868e-01 -8.922893e-01          -1.033247e+00   \n",
       "50%   -1.204915e-14 -2.782868e-01 -2.755836e-02           0.000000e+00   \n",
       "75%   -1.204915e-14  7.174659e-01  8.371726e-01           9.469029e-01   \n",
       "max    8.917815e+01  1.764526e+01  1.121394e+01           4.247152e+00   \n",
       "\n",
       "       calculatedbathnbr  finishedfloor1squarefeet  \\\n",
       "count       9.027500e+04              9.027500e+04   \n",
       "mean       -1.999026e-15             -2.496674e-16   \n",
       "std         1.000006e+00              1.000006e+00   \n",
       "min        -1.350048e+00             -7.253300e+00   \n",
       "25%        -3.188600e-01             -1.264756e-15   \n",
       "50%        -3.188600e-01             -1.264756e-15   \n",
       "75%         7.123279e-01             -1.264756e-15   \n",
       "max         1.824252e+01              3.491569e+01   \n",
       "\n",
       "       calculatedfinishedsquarefeet  finishedsquarefeet12  \\\n",
       "count                  9.027500e+04          9.027500e+04   \n",
       "mean                   3.082565e-16         -3.810439e-16   \n",
       "std                    1.000006e+00          1.000006e+00   \n",
       "min                   -1.915307e+00         -1.967691e+00   \n",
       "25%                   -6.338839e-01         -6.268949e-01   \n",
       "50%                   -2.445907e-01         -2.081784e-01   \n",
       "75%                    3.415118e-01          3.019561e-01   \n",
       "max                    2.267396e+01          2.061705e+01   \n",
       "\n",
       "       finishedsquarefeet13  finishedsquarefeet15          ...           \\\n",
       "count          9.027500e+04          9.027500e+04          ...            \n",
       "mean          -1.118359e-13         -2.078401e-17          ...            \n",
       "std            1.000006e+00          1.000006e+00          ...            \n",
       "min           -1.681313e+02         -8.576562e+00          ...            \n",
       "25%           -1.096805e-13          0.000000e+00          ...            \n",
       "50%           -1.096805e-13          0.000000e+00          ...            \n",
       "75%           -1.096805e-13          0.000000e+00          ...            \n",
       "max            8.656524e+01          9.594394e+01          ...            \n",
       "\n",
       "       transaction_month_2  transaction_month_3  transaction_month_4  \\\n",
       "count         90275.000000         90275.000000         90275.000000   \n",
       "mean              0.095840             0.103140             0.110341   \n",
       "std               0.294374             0.304144             0.313316   \n",
       "min               0.000000             0.000000             0.000000   \n",
       "25%               0.000000             0.000000             0.000000   \n",
       "50%               0.000000             0.000000             0.000000   \n",
       "75%               0.000000             0.000000             0.000000   \n",
       "max               1.000000             1.000000             1.000000   \n",
       "\n",
       "       transaction_month_5  transaction_month_6  transaction_month_7  \\\n",
       "count         90275.000000         90275.000000         90275.000000   \n",
       "mean              0.120986             0.110186             0.116045   \n",
       "std               0.326113             0.313123             0.320281   \n",
       "min               0.000000             0.000000             0.000000   \n",
       "25%               0.000000             0.000000             0.000000   \n",
       "50%               0.000000             0.000000             0.000000   \n",
       "75%               0.000000             0.000000             0.000000   \n",
       "max               1.000000             1.000000             1.000000   \n",
       "\n",
       "       transaction_month_8  transaction_month_9  transaction_month_10  \\\n",
       "count         90275.000000         90275.000000          90275.000000   \n",
       "mean              0.106065             0.055132              0.020227   \n",
       "std               0.307922             0.228238              0.140777   \n",
       "min               0.000000             0.000000              0.000000   \n",
       "25%               0.000000             0.000000              0.000000   \n",
       "50%               0.000000             0.000000              0.000000   \n",
       "75%               0.000000             0.000000              0.000000   \n",
       "max               1.000000             1.000000              1.000000   \n",
       "\n",
       "       transaction_month_11  \n",
       "count          90275.000000  \n",
       "mean               0.019263  \n",
       "std                0.137450  \n",
       "min                0.000000  \n",
       "25%                0.000000  \n",
       "50%                0.000000  \n",
       "75%                0.000000  \n",
       "max                1.000000  \n",
       "\n",
       "[8 rows x 93 columns]"
      ]
     },
     "execution_count": 36,
     "metadata": {},
     "output_type": "execute_result"
    }
   ],
   "source": [
    "train_df_modeling.describe()"
   ]
  },
  {
   "cell_type": "code",
   "execution_count": 37,
   "metadata": {
    "collapsed": false
   },
   "outputs": [
    {
     "data": {
      "text/plain": [
       "(90275, 93)"
      ]
     },
     "execution_count": 37,
     "metadata": {},
     "output_type": "execute_result"
    }
   ],
   "source": [
    "train_df_modeling.shape"
   ]
  },
  {
   "cell_type": "raw",
   "metadata": {},
   "source": [
    "#train_df_modeling['logerror'] = train_y\n",
    "#train_df_modeling.to_csv(\"semi_clean_df.csv\")"
   ]
  },
  {
   "cell_type": "markdown",
   "metadata": {},
   "source": [
    "### Neural Network Beginnings "
   ]
  },
  {
   "cell_type": "code",
   "execution_count": 38,
   "metadata": {
    "collapsed": false
   },
   "outputs": [
    {
     "name": "stderr",
     "output_type": "stream",
     "text": [
      "Using TensorFlow backend.\n"
     ]
    }
   ],
   "source": [
    "from keras.models import Sequential, Model  \n",
    "from keras.layers import Dense, Activation, Dropout, Input, BatchNormalization \n",
    "from keras import losses \n",
    "from keras.callbacks import ModelCheckpoint, LearningRateScheduler, EarlyStopping, TensorBoard\n",
    "from keras.wrappers.scikit_learn import KerasRegressor\n",
    "from keras.optimizers import SGD\n",
    "import keras.backend as K\n",
    "from time import time"
   ]
  },
  {
   "cell_type": "code",
   "execution_count": 39,
   "metadata": {
    "collapsed": true
   },
   "outputs": [],
   "source": [
    "def R_square(y_true, y_pred):\n",
    "    print(\"True mean: \", K.mean(y_true))\n",
    "    print(\"Pred mean: \", K.mean(y_pred))\n",
    "    SS_res = K.sum(K.pow((y_true - y_pred),2))\n",
    "    SS_tot = K.sum(K.pow((y_true - K.mean(y_true)),2))\n",
    "    return (1-(SS_res/SS_tot))"
   ]
  },
  {
   "cell_type": "code",
   "execution_count": 43,
   "metadata": {
    "collapsed": false
   },
   "outputs": [],
   "source": [
    "# Hard coded input size \n",
    "def create_model(init1 = \"normal\", act1 = \"relu\", act2 = \"relu\"): \n",
    "    model = Sequential() \n",
    "    model.add(Dense(93, input_dim = 93, kernel_initializer = init1, activation=act1))\n",
    "    model.add(Dropout(0.2))\n",
    "    model.add(Dense(50, kernel_initializer = init1, activation = act2))\n",
    "    model.add(Dense(10, kernel_initializer = init1, activation = act2))\n",
    "    model.add(Dense(1, kernel_initializer= \"normal\", activation='linear'))\n",
    "    model.compile(loss = 'mse', optimizer = 'adam', metrics = [R_square, 'mae'])\n",
    "    return model\n"
   ]
  },
  {
   "cell_type": "code",
   "execution_count": 44,
   "metadata": {
    "collapsed": false
   },
   "outputs": [],
   "source": [
    "#filepath=\"weights.best.hdf5\"\n",
    "#checkpoint = ModelCheckpoint(filepath, monitor='mae', verbose=1, save_best_only=True, mode='max')\n",
    "stopping= EarlyStopping(monitor = 'R_square', patience  = 3, mode = \"max\")\n",
    "tensorboard1 = TensorBoard(log_dir=\"C:/Users/board/Desktop/Kaggle/TensorBoard_Logs/Zillow/{}\".format(time()),\\\n",
    "                           histogram_freq=1, write_graph= True, write_images = True)\n",
    "callbacks_list = [stopping]#, tensorboard1]"
   ]
  },
  {
   "cell_type": "raw",
   "metadata": {
    "collapsed": true
   },
   "source": [
    "model.fit(train_df_scale, train_y, validation_split = val_per, epochs = epochs, batch_size = batch_size1, verbose = 1)\n"
   ]
  },
  {
   "cell_type": "code",
   "execution_count": 45,
   "metadata": {
    "collapsed": false
   },
   "outputs": [
    {
     "name": "stdout",
     "output_type": "stream",
     "text": [
      "True mean:  Tensor(\"Mean_14:0\", shape=(), dtype=float32)\n",
      "Pred mean:  Tensor(\"Mean_15:0\", shape=(), dtype=float32)\n",
      "Train on 72220 samples, validate on 18055 samples\n",
      "Epoch 1/50\n",
      "72220/72220 [==============================] - 5s - loss: 0.0102 - R_square: -0.0364 - mean_absolute_error: 0.0606 - val_loss: 0.0098 - val_R_square: -0.0405 - val_mean_absolute_error: 0.0589\n",
      "Epoch 2/50\n",
      "72220/72220 [==============================] - 4s - loss: 0.0101 - R_square: -0.0324 - mean_absolute_error: 0.0607 - val_loss: 0.0097 - val_R_square: -0.0296 - val_mean_absolute_error: 0.0592\n",
      "Epoch 3/50\n",
      "72220/72220 [==============================] - 5s - loss: 0.0101 - R_square: -0.0298 - mean_absolute_error: 0.0606 - val_loss: 0.0097 - val_R_square: -0.0301 - val_mean_absolute_error: 0.0592\n",
      "Epoch 4/50\n",
      "72220/72220 [==============================] - 5s - loss: 0.0101 - R_square: -0.0297 - mean_absolute_error: 0.0607 - val_loss: 0.0097 - val_R_square: -0.0262 - val_mean_absolute_error: 0.0588\n",
      "Epoch 5/50\n",
      "72220/72220 [==============================] - 4s - loss: 0.0100 - R_square: -0.0240 - mean_absolute_error: 0.0606 - val_loss: 0.0096 - val_R_square: -0.0255 - val_mean_absolute_error: 0.0588\n",
      "Epoch 6/50\n",
      "72220/72220 [==============================] - 4s - loss: 0.0100 - R_square: -0.0231 - mean_absolute_error: 0.0606 - val_loss: 0.0097 - val_R_square: -0.0283 - val_mean_absolute_error: 0.0590\n",
      "Epoch 7/50\n",
      "72220/72220 [==============================] - 5s - loss: 0.0100 - R_square: -0.0195 - mean_absolute_error: 0.0606 - val_loss: 0.0096 - val_R_square: -0.0259 - val_mean_absolute_error: 0.0590\n",
      "Epoch 8/50\n",
      "72220/72220 [==============================] - 5s - loss: 0.0100 - R_square: -0.0182 - mean_absolute_error: 0.0606 - val_loss: 0.0096 - val_R_square: -0.0319 - val_mean_absolute_error: 0.0595\n",
      "Epoch 9/50\n",
      "72220/72220 [==============================] - 4s - loss: 0.0100 - R_square: -0.0190 - mean_absolute_error: 0.0606 - val_loss: 0.0097 - val_R_square: -0.0445 - val_mean_absolute_error: 0.0603\n",
      "Epoch 10/50\n",
      "72220/72220 [==============================] - 4s - loss: 0.0099 - R_square: -0.0161 - mean_absolute_error: 0.0605 - val_loss: 0.0097 - val_R_square: -0.0358 - val_mean_absolute_error: 0.0598\n",
      "Epoch 11/50\n",
      "72220/72220 [==============================] - 4s - loss: 0.0099 - R_square: -0.0177 - mean_absolute_error: 0.0605 - val_loss: 0.0096 - val_R_square: -0.0273 - val_mean_absolute_error: 0.0591\n",
      "Epoch 12/50\n",
      "72220/72220 [==============================] - 4s - loss: 0.0099 - R_square: -0.0154 - mean_absolute_error: 0.0605 - val_loss: 0.0096 - val_R_square: -0.0264 - val_mean_absolute_error: 0.0590\n",
      "Epoch 13/50\n",
      "72220/72220 [==============================] - 4s - loss: 0.0099 - R_square: -0.0151 - mean_absolute_error: 0.0605 - val_loss: 0.0097 - val_R_square: -0.0390 - val_mean_absolute_error: 0.0597\n",
      "Epoch 14/50\n",
      "72220/72220 [==============================] - 4s - loss: 0.0099 - R_square: -0.0154 - mean_absolute_error: 0.0606 - val_loss: 0.0096 - val_R_square: -0.0278 - val_mean_absolute_error: 0.0589\n",
      "Epoch 15/50\n",
      "72220/72220 [==============================] - 4s - loss: 0.0099 - R_square: -0.0123 - mean_absolute_error: 0.0604 - val_loss: 0.0097 - val_R_square: -0.0313 - val_mean_absolute_error: 0.0594\n",
      "Epoch 16/50\n",
      "72220/72220 [==============================] - 4s - loss: 0.0098 - R_square: -0.0104 - mean_absolute_error: 0.0605 - val_loss: 0.0097 - val_R_square: -0.0300 - val_mean_absolute_error: 0.0593\n",
      "Epoch 17/50\n",
      "72220/72220 [==============================] - 6s - loss: 0.0098 - R_square: -0.0113 - mean_absolute_error: 0.0604 - val_loss: 0.0097 - val_R_square: -0.0373 - val_mean_absolute_error: 0.0595\n",
      "Epoch 18/50\n",
      "72220/72220 [==============================] - 6s - loss: 0.0098 - R_square: -0.0087 - mean_absolute_error: 0.0604 - val_loss: 0.0098 - val_R_square: -0.0602 - val_mean_absolute_error: 0.0607\n",
      "Epoch 19/50\n",
      "72220/72220 [==============================] - 5s - loss: 0.0098 - R_square: -0.0085 - mean_absolute_error: 0.0604 - val_loss: 0.0097 - val_R_square: -0.0458 - val_mean_absolute_error: 0.0602\n",
      "Epoch 20/50\n",
      "72220/72220 [==============================] - 5s - loss: 0.0098 - R_square: -0.0061 - mean_absolute_error: 0.0604 - val_loss: 0.0098 - val_R_square: -0.0593 - val_mean_absolute_error: 0.0605\n",
      "Epoch 21/50\n",
      "72220/72220 [==============================] - 4s - loss: 0.0098 - R_square: -0.0057 - mean_absolute_error: 0.0603 - val_loss: 0.0097 - val_R_square: -0.0324 - val_mean_absolute_error: 0.0591\n",
      "Epoch 22/50\n",
      "72220/72220 [==============================] - 4s - loss: 0.0097 - R_square: -8.7981e-04 - mean_absolute_error: 0.0603 - val_loss: 0.0098 - val_R_square: -0.0575 - val_mean_absolute_error: 0.0605\n",
      "Epoch 23/50\n",
      "72220/72220 [==============================] - 4s - loss: 0.0098 - R_square: -0.0031 - mean_absolute_error: 0.0602 - val_loss: 0.0099 - val_R_square: -0.0736 - val_mean_absolute_error: 0.0615\n",
      "Epoch 24/50\n",
      "72220/72220 [==============================] - 5s - loss: 0.0097 - R_square: -0.0058 - mean_absolute_error: 0.0604 - val_loss: 0.0097 - val_R_square: -0.0466 - val_mean_absolute_error: 0.0598\n",
      "Epoch 25/50\n",
      "72220/72220 [==============================] - 5s - loss: 0.0097 - R_square: -0.0017 - mean_absolute_error: 0.0602 - val_loss: 0.0098 - val_R_square: -0.0513 - val_mean_absolute_error: 0.0602\n",
      "Epoch 26/50\n",
      "72220/72220 [==============================] - 5s - loss: 0.0097 - R_square: -0.0037 - mean_absolute_error: 0.0603 - val_loss: 0.0099 - val_R_square: -0.0705 - val_mean_absolute_error: 0.0608\n"
     ]
    }
   ],
   "source": [
    "# Remember to check input size \n",
    "model2 = create_model().fit(train_df_modeling.values, train_y.values, epochs = 50, validation_split = 0.2, batch_size = 30, \n",
    "                            callbacks = callbacks_list, verbose = 1)\n"
   ]
  },
  {
   "cell_type": "code",
   "execution_count": 46,
   "metadata": {
    "collapsed": false
   },
   "outputs": [
    {
     "name": "stdout",
     "output_type": "stream",
     "text": [
      "dict_keys(['val_mean_absolute_error', 'val_loss', 'val_R_square', 'mean_absolute_error', 'R_square', 'loss'])\n"
     ]
    }
   ],
   "source": [
    "print(model2.history.keys())"
   ]
  },
  {
   "cell_type": "code",
   "execution_count": 47,
   "metadata": {
    "collapsed": false
   },
   "outputs": [
    {
     "data": {
      "text/plain": [
       "<matplotlib.legend.Legend at 0x23c0b697d68>"
      ]
     },
     "execution_count": 47,
     "metadata": {},
     "output_type": "execute_result"
    },
    {
     "data": {
      "image/png": "[encoded data removed]",
      "text/plain": [
       "<matplotlib.figure.Figure at 0x23c0b3ae898>"
      ]
     },
     "metadata": {},
     "output_type": "display_data"
    }
   ],
   "source": [
    "plt.plot(model2.history['loss'])\n",
    "plt.plot(model2.history['val_loss'])\n",
    "plt.title('model loss')\n",
    "plt.ylabel('accuracy')\n",
    "plt.xlabel('epoch')\n",
    "plt.legend(['train', 'test'], loc='upper left')"
   ]
  },
  {
   "cell_type": "code",
   "execution_count": 48,
   "metadata": {
    "collapsed": false
   },
   "outputs": [
    {
     "data": {
      "text/plain": [
       "<matplotlib.legend.Legend at 0x23c0b5716a0>"
      ]
     },
     "execution_count": 48,
     "metadata": {},
     "output_type": "execute_result"
    },
    {
     "data": {
      "image/png": "[encoded data removed]",
      "text/plain": [
       "<matplotlib.figure.Figure at 0x23c0b519710>"
      ]
     },
     "metadata": {},
     "output_type": "display_data"
    }
   ],
   "source": [
    "plt.plot(model2.history['R_square'])\n",
    "plt.plot(model2.history['val_R_square'])\n",
    "plt.title('model R2')\n",
    "plt.ylabel('accuracy')\n",
    "plt.xlabel('epoch')\n",
    "plt.legend(['train', 'test'], loc='upper left')"
   ]
  },
  {
   "cell_type": "code",
   "execution_count": 49,
   "metadata": {
    "collapsed": false
   },
   "outputs": [
    {
     "data": {
      "text/plain": [
       "<matplotlib.legend.Legend at 0x23c0b5ee438>"
      ]
     },
     "execution_count": 49,
     "metadata": {},
     "output_type": "execute_result"
    },
    {
     "data": {
      "image/png": "[encoded data removed]",
      "text/plain": [
       "<matplotlib.figure.Figure at 0x23c0b59eac8>"
      ]
     },
     "metadata": {},
     "output_type": "display_data"
    }
   ],
   "source": [
    "plt.plot(model2.history['mean_absolute_error'])\n",
    "plt.plot(model2.history['val_mean_absolute_error'])\n",
    "plt.title('model MAE')\n",
    "plt.ylabel('MAE')\n",
    "plt.xlabel('epoch')\n",
    "plt.legend(['train', 'test'], loc='upper left')"
   ]
  },
  {
   "cell_type": "code",
   "execution_count": null,
   "metadata": {
    "collapsed": true
   },
   "outputs": [],
   "source": []
  },
  {
   "cell_type": "code",
   "execution_count": null,
   "metadata": {
    "collapsed": true
   },
   "outputs": [],
   "source": []
  },
  {
   "cell_type": "code",
   "execution_count": null,
   "metadata": {
    "collapsed": true
   },
   "outputs": [],
   "source": [
    "def create_model2(epochs = 13, learning_rate = 0.001, momentum1 = 0.6, batch_size1 = 60, val_per = 0.15): \n",
    "    model = Sequential() \n",
    "    model.add(Dense(56, input_dim = train_df_scale.shape[1], init = 'uniform'))\n",
    "    model.add(Dropout(0.2))\n",
    "    model.add(Dense(56,kernel_initializer = 'uniform'))\n",
    "    model.add(BatchNormalization())\n",
    "    model.add(Dropout(0.4))\n",
    "    model.add(Dense(52, kernel_initializer = 'uniform', activation = 'tanh'))\n",
    "    model.add(BatchNormalization())\n",
    "    model.add(Dense(26, kernel_initializer = 'uniform', activation = 'relu'))\n",
    "    model.add(Dense(1, kernel_initializer= 'normal'))\n",
    "    decay_rate = learning_rate/epochs\n",
    "    sgd = SGD(lr = learning_rate, momentum = momentum1, decay = decay_rate, nesterov = False )\n",
    "    model.compile(loss = 'mae', optimizer = sgd, metric = ['R_square'])\n",
    "    model.fit(train_df_scale, train_y, validation_split = val_per, epochs = epochs, batch_size = batch_size1, verbose = 1)\n",
    "    return model"
   ]
  },
  {
   "cell_type": "code",
   "execution_count": null,
   "metadata": {
    "collapsed": false
   },
   "outputs": [],
   "source": [
    "batch_model = create_model2()"
   ]
  },
  {
   "cell_type": "code",
   "execution_count": null,
   "metadata": {
    "collapsed": true
   },
   "outputs": [],
   "source": []
  },
  {
   "cell_type": "markdown",
   "metadata": {
    "collapsed": true
   },
   "source": [
    "### Submission Steps"
   ]
  },
  {
   "cell_type": "code",
   "execution_count": null,
   "metadata": {
    "collapsed": false
   },
   "outputs": [],
   "source": [
    "train_df_new = pd.read_csv(\"train_2016.csv\")\n",
    "test = pd.read_csv(\"sample_submission.csv\")\n",
    "prop = pd.read_csv(\"properties_2016.csv\")"
   ]
  },
  {
   "cell_type": "code",
   "execution_count": null,
   "metadata": {
    "collapsed": false
   },
   "outputs": [],
   "source": [
    "test['parcelid'] = test['ParcelId']\n",
    "df_test = test.merge(prop, on='parcelid', how = 'left') \n",
    "print(\"Test DF len: \" ,len(df_test))\n",
    "print(\"Input DF len: \", len(test))"
   ]
  },
  {
   "cell_type": "code",
   "execution_count": null,
   "metadata": {
    "collapsed": false
   },
   "outputs": [],
   "source": [
    "train_cols1 = train_cols[1:len(train_cols)]"
   ]
  },
  {
   "cell_type": "code",
   "execution_count": null,
   "metadata": {
    "collapsed": false
   },
   "outputs": [],
   "source": [
    "x_test2 = df_test[train_cols1]\n",
    "test_mean_values = x_test2.mean(axis=0)\n",
    "x_test1 = x_test2.fillna(test_mean_values, inplace=True)\n",
    "x_test = StandardScaler().fit_transform(x_test1)"
   ]
  },
  {
   "cell_type": "code",
   "execution_count": null,
   "metadata": {
    "collapsed": false
   },
   "outputs": [],
   "source": [
    "predictions = batch_model.predict(x_test)"
   ]
  },
  {
   "cell_type": "code",
   "execution_count": null,
   "metadata": {
    "collapsed": false
   },
   "outputs": [],
   "source": [
    "sub = pd.read_csv(\"sample_submission.csv\")\n",
    "for c in sub.columns[sub.columns != 'ParcelId']:\n",
    "    sub[c] = predictions"
   ]
  },
  {
   "cell_type": "code",
   "execution_count": null,
   "metadata": {
    "collapsed": true
   },
   "outputs": [],
   "source": [
    "sub.to_csv('nn_starter2.csv', index=False, float_format='%.4f')"
   ]
  },
  {
   "cell_type": "code",
   "execution_count": null,
   "metadata": {
    "collapsed": false
   },
   "outputs": [],
   "source": [
    "sub.shape"
   ]
  },
  {
   "cell_type": "code",
   "execution_count": null,
   "metadata": {
    "collapsed": true
   },
   "outputs": [],
   "source": []
  }
 ],
 "metadata": {
  "anaconda-cloud": {},
  "kernelspec": {
   "display_name": "Python [Root]",
   "language": "python",
   "name": "Python [Root]"
  },
  "language_info": {
   "codemirror_mode": {
    "name": "ipython",
    "version": 3
   },
   "file_extension": ".py",
   "mimetype": "text/x-python",
   "name": "python",
   "nbconvert_exporter": "python",
   "pygments_lexer": "ipython3",
   "version": "3.5.2"
  }
 },
 "nbformat": 4,
 "nbformat_minor": 0
}
