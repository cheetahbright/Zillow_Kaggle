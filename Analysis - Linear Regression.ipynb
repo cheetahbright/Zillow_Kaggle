{
 "cells": [
  {
   "cell_type": "code",
   "execution_count": 1,
   "metadata": {
    "collapsed": true
   },
   "outputs": [],
   "source": [
    "import numpy as np \n",
    "import pandas as pd \n",
    "import matplotlib.pyplot as plt\n",
    "import pprint as pp\n",
    "%matplotlib inline\n",
    "import gc "
   ]
  },
  {
   "cell_type": "raw",
   "metadata": {},
   "source": [
    "prop.shape\n",
    "good_import_cols = pd.Series(range(0,57))\n",
    "good_import_cols = good_import_cols.drop([22,32,34,49,55])\n"
   ]
  },
  {
   "cell_type": "code",
   "execution_count": 2,
   "metadata": {
    "collapsed": false
   },
   "outputs": [
    {
     "name": "stderr",
     "output_type": "stream",
     "text": [
      "C:\\Users\\board\\Anaconda3\\lib\\site-packages\\IPython\\core\\interactiveshell.py:2723: DtypeWarning: Columns (22,32,34,49,55) have mixed types. Specify dtype option on import or set low_memory=False.\n",
      "  interactivity=interactivity, compiler=compiler, result=result)\n"
     ]
    }
   ],
   "source": [
    "train_df_raw= pd.read_csv(\"train_2016_v2.csv\", parse_dates=[\"transactiondate\"])\n",
    "prop = pd.read_csv(\"properties_2016.csv\") #, usecols=good_import_cols)"
   ]
  },
  {
   "cell_type": "markdown",
   "metadata": {},
   "source": [
    "I was getting the error message:  \n",
    "C:\\Users\\board\\Anaconda3\\lib\\site-packages\\IPython\\core\\interactiveshell.py:2723: DtypeWarning: Columns (22,32,34,49,55) have mixed types. Specify dtype option on import or set low_memory=False.\n",
    "  interactivity=interactivity, compiler=compiler, result=result)"
   ]
  },
  {
   "cell_type": "raw",
   "metadata": {
    "collapsed": false
   },
   "source": [
    "pd.options.display.max_columns = 70\n",
    "pd.options.display.max_rows = 70"
   ]
  },
  {
   "cell_type": "markdown",
   "metadata": {
    "collapsed": true
   },
   "source": [
    "### Remove and Impute Nulls "
   ]
  },
  {
   "cell_type": "code",
   "execution_count": 3,
   "metadata": {
    "collapsed": false
   },
   "outputs": [
    {
     "data": {
      "text/html": [
       "<div>\n",
       "<table border=\"1\" class=\"dataframe\">\n",
       "  <thead>\n",
       "    <tr style=\"text-align: right;\">\n",
       "      <th></th>\n",
       "      <th>column_name</th>\n",
       "      <th>missing_count</th>\n",
       "      <th>missing_ratio</th>\n",
       "    </tr>\n",
       "  </thead>\n",
       "  <tbody>\n",
       "    <tr>\n",
       "      <th>2</th>\n",
       "      <td>architecturalstyletypeid</td>\n",
       "      <td>2979156</td>\n",
       "      <td>0.997970</td>\n",
       "    </tr>\n",
       "    <tr>\n",
       "      <th>3</th>\n",
       "      <td>basementsqft</td>\n",
       "      <td>2983589</td>\n",
       "      <td>0.999455</td>\n",
       "    </tr>\n",
       "    <tr>\n",
       "      <th>6</th>\n",
       "      <td>buildingclasstypeid</td>\n",
       "      <td>2972588</td>\n",
       "      <td>0.995769</td>\n",
       "    </tr>\n",
       "    <tr>\n",
       "      <th>9</th>\n",
       "      <td>decktypeid</td>\n",
       "      <td>2968121</td>\n",
       "      <td>0.994273</td>\n",
       "    </tr>\n",
       "    <tr>\n",
       "      <th>10</th>\n",
       "      <td>finishedfloor1squarefeet</td>\n",
       "      <td>2782500</td>\n",
       "      <td>0.932093</td>\n",
       "    </tr>\n",
       "    <tr>\n",
       "      <th>13</th>\n",
       "      <td>finishedsquarefeet13</td>\n",
       "      <td>2977545</td>\n",
       "      <td>0.997430</td>\n",
       "    </tr>\n",
       "    <tr>\n",
       "      <th>14</th>\n",
       "      <td>finishedsquarefeet15</td>\n",
       "      <td>2794419</td>\n",
       "      <td>0.936086</td>\n",
       "    </tr>\n",
       "    <tr>\n",
       "      <th>15</th>\n",
       "      <td>finishedsquarefeet50</td>\n",
       "      <td>2782500</td>\n",
       "      <td>0.932093</td>\n",
       "    </tr>\n",
       "    <tr>\n",
       "      <th>16</th>\n",
       "      <td>finishedsquarefeet6</td>\n",
       "      <td>2963216</td>\n",
       "      <td>0.992630</td>\n",
       "    </tr>\n",
       "    <tr>\n",
       "      <th>18</th>\n",
       "      <td>fireplacecnt</td>\n",
       "      <td>2672580</td>\n",
       "      <td>0.895272</td>\n",
       "    </tr>\n",
       "    <tr>\n",
       "      <th>22</th>\n",
       "      <td>hashottuborspa</td>\n",
       "      <td>2916203</td>\n",
       "      <td>0.976881</td>\n",
       "    </tr>\n",
       "    <tr>\n",
       "      <th>27</th>\n",
       "      <td>poolcnt</td>\n",
       "      <td>2467683</td>\n",
       "      <td>0.826634</td>\n",
       "    </tr>\n",
       "    <tr>\n",
       "      <th>28</th>\n",
       "      <td>poolsizesum</td>\n",
       "      <td>2957257</td>\n",
       "      <td>0.990634</td>\n",
       "    </tr>\n",
       "    <tr>\n",
       "      <th>29</th>\n",
       "      <td>pooltypeid10</td>\n",
       "      <td>2948278</td>\n",
       "      <td>0.987626</td>\n",
       "    </tr>\n",
       "    <tr>\n",
       "      <th>30</th>\n",
       "      <td>pooltypeid2</td>\n",
       "      <td>2953142</td>\n",
       "      <td>0.989255</td>\n",
       "    </tr>\n",
       "    <tr>\n",
       "      <th>31</th>\n",
       "      <td>pooltypeid7</td>\n",
       "      <td>2499758</td>\n",
       "      <td>0.837379</td>\n",
       "    </tr>\n",
       "    <tr>\n",
       "      <th>41</th>\n",
       "      <td>storytypeid</td>\n",
       "      <td>2983593</td>\n",
       "      <td>0.999456</td>\n",
       "    </tr>\n",
       "    <tr>\n",
       "      <th>42</th>\n",
       "      <td>threequarterbathnbr</td>\n",
       "      <td>2673586</td>\n",
       "      <td>0.895609</td>\n",
       "    </tr>\n",
       "    <tr>\n",
       "      <th>43</th>\n",
       "      <td>typeconstructiontypeid</td>\n",
       "      <td>2978470</td>\n",
       "      <td>0.997740</td>\n",
       "    </tr>\n",
       "    <tr>\n",
       "      <th>45</th>\n",
       "      <td>yardbuildingsqft17</td>\n",
       "      <td>2904862</td>\n",
       "      <td>0.973082</td>\n",
       "    </tr>\n",
       "    <tr>\n",
       "      <th>46</th>\n",
       "      <td>yardbuildingsqft26</td>\n",
       "      <td>2982570</td>\n",
       "      <td>0.999113</td>\n",
       "    </tr>\n",
       "    <tr>\n",
       "      <th>48</th>\n",
       "      <td>numberofstories</td>\n",
       "      <td>2303148</td>\n",
       "      <td>0.771518</td>\n",
       "    </tr>\n",
       "    <tr>\n",
       "      <th>49</th>\n",
       "      <td>fireplaceflag</td>\n",
       "      <td>2980054</td>\n",
       "      <td>0.998270</td>\n",
       "    </tr>\n",
       "    <tr>\n",
       "      <th>55</th>\n",
       "      <td>taxdelinquencyflag</td>\n",
       "      <td>2928755</td>\n",
       "      <td>0.981086</td>\n",
       "    </tr>\n",
       "    <tr>\n",
       "      <th>56</th>\n",
       "      <td>taxdelinquencyyear</td>\n",
       "      <td>2928753</td>\n",
       "      <td>0.981085</td>\n",
       "    </tr>\n",
       "  </tbody>\n",
       "</table>\n",
       "</div>"
      ],
      "text/plain": [
       "                 column_name  missing_count  missing_ratio\n",
       "2   architecturalstyletypeid        2979156       0.997970\n",
       "3               basementsqft        2983589       0.999455\n",
       "6        buildingclasstypeid        2972588       0.995769\n",
       "9                 decktypeid        2968121       0.994273\n",
       "10  finishedfloor1squarefeet        2782500       0.932093\n",
       "13      finishedsquarefeet13        2977545       0.997430\n",
       "14      finishedsquarefeet15        2794419       0.936086\n",
       "15      finishedsquarefeet50        2782500       0.932093\n",
       "16       finishedsquarefeet6        2963216       0.992630\n",
       "18              fireplacecnt        2672580       0.895272\n",
       "22            hashottuborspa        2916203       0.976881\n",
       "27                   poolcnt        2467683       0.826634\n",
       "28               poolsizesum        2957257       0.990634\n",
       "29              pooltypeid10        2948278       0.987626\n",
       "30               pooltypeid2        2953142       0.989255\n",
       "31               pooltypeid7        2499758       0.837379\n",
       "41               storytypeid        2983593       0.999456\n",
       "42       threequarterbathnbr        2673586       0.895609\n",
       "43    typeconstructiontypeid        2978470       0.997740\n",
       "45        yardbuildingsqft17        2904862       0.973082\n",
       "46        yardbuildingsqft26        2982570       0.999113\n",
       "48           numberofstories        2303148       0.771518\n",
       "49             fireplaceflag        2980054       0.998270\n",
       "55        taxdelinquencyflag        2928755       0.981086\n",
       "56        taxdelinquencyyear        2928753       0.981085"
      ]
     },
     "execution_count": 3,
     "metadata": {},
     "output_type": "execute_result"
    }
   ],
   "source": [
    "# Number of missing values per column in property file \n",
    "missing_df = prop.isnull().sum(axis=0).reset_index()\n",
    "missing_df.columns = ['column_name', 'missing_count']\n",
    "missing_df = missing_df.loc[missing_df['missing_count']>0]\n",
    "\n",
    "missing_df['missing_ratio'] = missing_df['missing_count'] / prop.shape[0]\n",
    "missing_df.loc[missing_df['missing_ratio']>0.75]"
   ]
  },
  {
   "cell_type": "code",
   "execution_count": 4,
   "metadata": {
    "collapsed": false
   },
   "outputs": [],
   "source": [
    "# Create training data frame. Make parcel id the index \n",
    "train_df = train_df_raw.merge(prop, on='parcelid', how = 'left')\n",
    "train_df.index = train_df.parcelid"
   ]
  },
  {
   "cell_type": "code",
   "execution_count": 5,
   "metadata": {
    "collapsed": false
   },
   "outputs": [],
   "source": [
    "# Impute the mean in the missing places for the remaining columns with missing values \n",
    "mean_values = train_df.mean(axis=0)\n",
    "train_df2 = train_df.fillna(mean_values, inplace=True)"
   ]
  },
  {
   "cell_type": "code",
   "execution_count": 6,
   "metadata": {
    "collapsed": false
   },
   "outputs": [
    {
     "data": {
      "text/plain": [
       "transaction_month\n",
       "1.0      6556\n",
       "2.0      6333\n",
       "3.0      8652\n",
       "4.0      9311\n",
       "5.0      9961\n",
       "6.0     10922\n",
       "7.0      9947\n",
       "8.0     10476\n",
       "9.0      9575\n",
       "10.0     4977\n",
       "11.0     1826\n",
       "12.0     1739\n",
       "Name: logerror, dtype: int64"
      ]
     },
     "execution_count": 6,
     "metadata": {},
     "output_type": "execute_result"
    }
   ],
   "source": [
    "# Add the month to the data frame \n",
    "train_df2['transaction_month'] = np.float64(train_df2['transactiondate'].dt.month.values)\n",
    "train_df2.groupby(by=['transaction_month']).logerror.count()"
   ]
  },
  {
   "cell_type": "code",
   "execution_count": 7,
   "metadata": {
    "collapsed": false
   },
   "outputs": [
    {
     "data": {
      "text/plain": [
       "parcelid                    90150\n",
       "logerror                     1894\n",
       "transactiondate               352\n",
       "airconditioningtypeid           7\n",
       "architecturalstyletypeid        7\n",
       "dtype: int64"
      ]
     },
     "execution_count": 7,
     "metadata": {},
     "output_type": "execute_result"
    }
   ],
   "source": [
    "numb_unique_per_col = train_df2.T.apply(lambda x: x.nunique(), axis =1)\n",
    "numb_unique_per_col.head()"
   ]
  },
  {
   "cell_type": "code",
   "execution_count": null,
   "metadata": {
    "collapsed": true
   },
   "outputs": [],
   "source": [
    "train_df2"
   ]
  },
  {
   "cell_type": "code",
   "execution_count": 8,
   "metadata": {
    "collapsed": false
   },
   "outputs": [
    {
     "data": {
      "text/plain": [
       "buildingclasstypeid    1\n",
       "decktypeid             1\n",
       "hashottuborspa         1\n",
       "poolcnt                1\n",
       "pooltypeid10           1\n",
       "pooltypeid2            1\n",
       "pooltypeid7            1\n",
       "storytypeid            1\n",
       "fireplaceflag          1\n",
       "assessmentyear         1\n",
       "taxdelinquencyflag     1\n",
       "dtype: int64"
      ]
     },
     "execution_count": 8,
     "metadata": {},
     "output_type": "execute_result"
    }
   ],
   "source": [
    "numb_unique_per_col[numb_unique_per_col == 1]"
   ]
  },
  {
   "cell_type": "code",
   "execution_count": 9,
   "metadata": {
    "collapsed": false
   },
   "outputs": [],
   "source": [
    "cols_to_drop = numb_unique_per_col[numb_unique_per_col == 1].index"
   ]
  },
  {
   "cell_type": "code",
   "execution_count": 10,
   "metadata": {
    "collapsed": false
   },
   "outputs": [
    {
     "data": {
      "text/plain": [
       "Index(['parcelid', 'transactiondate', 'hashottuborspa',\n",
       "       'propertycountylandusecode', 'propertyzoningdesc', 'fireplaceflag',\n",
       "       'taxdelinquencyflag'],\n",
       "      dtype='object')"
      ]
     },
     "execution_count": 10,
     "metadata": {},
     "output_type": "execute_result"
    }
   ],
   "source": [
    "train_df.dtypes[train_df.dtypes != \"float64\"].index"
   ]
  },
  {
   "cell_type": "code",
   "execution_count": 11,
   "metadata": {
    "collapsed": false
   },
   "outputs": [],
   "source": [
    "# Drop non numeric (float64) columns \n",
    "cols_to_drop = cols_to_drop.append(train_df.dtypes[train_df.dtypes != \"float64\"].index)\n",
    "train_df2 = train_df.drop(cols_to_drop, axis = 1)\n"
   ]
  },
  {
   "cell_type": "code",
   "execution_count": 12,
   "metadata": {
    "collapsed": false
   },
   "outputs": [
    {
     "data": {
      "text/html": [
       "<div>\n",
       "<table border=\"1\" class=\"dataframe\">\n",
       "  <thead>\n",
       "    <tr style=\"text-align: right;\">\n",
       "      <th></th>\n",
       "      <th>count</th>\n",
       "      <th>val</th>\n",
       "    </tr>\n",
       "  </thead>\n",
       "  <tbody>\n",
       "  </tbody>\n",
       "</table>\n",
       "</div>"
      ],
      "text/plain": [
       "Empty DataFrame\n",
       "Columns: [count, val]\n",
       "Index: []"
      ]
     },
     "execution_count": 12,
     "metadata": {},
     "output_type": "execute_result"
    }
   ],
   "source": [
    "missing_df2 = train_df2.isnull().sum(axis=0).reset_index()\n",
    "missing_df2.columns = ['count', 'val']\n",
    "missing_df2[missing_df2['val'] > 0]\n"
   ]
  },
  {
   "cell_type": "code",
   "execution_count": 13,
   "metadata": {
    "collapsed": false
   },
   "outputs": [
    {
     "data": {
      "text/html": [
       "<div>\n",
       "<table border=\"1\" class=\"dataframe\">\n",
       "  <thead>\n",
       "    <tr style=\"text-align: right;\">\n",
       "      <th></th>\n",
       "      <th>logerror</th>\n",
       "      <th>airconditioningtypeid</th>\n",
       "      <th>architecturalstyletypeid</th>\n",
       "      <th>basementsqft</th>\n",
       "      <th>bathroomcnt</th>\n",
       "      <th>bedroomcnt</th>\n",
       "      <th>buildingqualitytypeid</th>\n",
       "      <th>calculatedbathnbr</th>\n",
       "      <th>finishedfloor1squarefeet</th>\n",
       "      <th>calculatedfinishedsquarefeet</th>\n",
       "      <th>...</th>\n",
       "      <th>yardbuildingsqft26</th>\n",
       "      <th>yearbuilt</th>\n",
       "      <th>numberofstories</th>\n",
       "      <th>structuretaxvaluedollarcnt</th>\n",
       "      <th>taxvaluedollarcnt</th>\n",
       "      <th>landtaxvaluedollarcnt</th>\n",
       "      <th>taxamount</th>\n",
       "      <th>taxdelinquencyyear</th>\n",
       "      <th>censustractandblock</th>\n",
       "      <th>transaction_month</th>\n",
       "    </tr>\n",
       "    <tr>\n",
       "      <th>parcelid</th>\n",
       "      <th></th>\n",
       "      <th></th>\n",
       "      <th></th>\n",
       "      <th></th>\n",
       "      <th></th>\n",
       "      <th></th>\n",
       "      <th></th>\n",
       "      <th></th>\n",
       "      <th></th>\n",
       "      <th></th>\n",
       "      <th></th>\n",
       "      <th></th>\n",
       "      <th></th>\n",
       "      <th></th>\n",
       "      <th></th>\n",
       "      <th></th>\n",
       "      <th></th>\n",
       "      <th></th>\n",
       "      <th></th>\n",
       "      <th></th>\n",
       "      <th></th>\n",
       "    </tr>\n",
       "  </thead>\n",
       "  <tbody>\n",
       "    <tr>\n",
       "      <th>11016594</th>\n",
       "      <td>0.0276</td>\n",
       "      <td>1.000000</td>\n",
       "      <td>7.229885</td>\n",
       "      <td>713.581395</td>\n",
       "      <td>2.0</td>\n",
       "      <td>3.0</td>\n",
       "      <td>4.000000</td>\n",
       "      <td>2.0</td>\n",
       "      <td>1347.974037</td>\n",
       "      <td>1684.0</td>\n",
       "      <td>...</td>\n",
       "      <td>311.694737</td>\n",
       "      <td>1959.0</td>\n",
       "      <td>1.440739</td>\n",
       "      <td>122754.0</td>\n",
       "      <td>360170.0</td>\n",
       "      <td>237416.0</td>\n",
       "      <td>6735.88</td>\n",
       "      <td>13.402692</td>\n",
       "      <td>6.037107e+13</td>\n",
       "      <td>1.0</td>\n",
       "    </tr>\n",
       "    <tr>\n",
       "      <th>14366692</th>\n",
       "      <td>-0.1684</td>\n",
       "      <td>1.816372</td>\n",
       "      <td>7.229885</td>\n",
       "      <td>713.581395</td>\n",
       "      <td>3.5</td>\n",
       "      <td>4.0</td>\n",
       "      <td>5.565407</td>\n",
       "      <td>3.5</td>\n",
       "      <td>1347.974037</td>\n",
       "      <td>2263.0</td>\n",
       "      <td>...</td>\n",
       "      <td>311.694737</td>\n",
       "      <td>2014.0</td>\n",
       "      <td>1.440739</td>\n",
       "      <td>346458.0</td>\n",
       "      <td>585529.0</td>\n",
       "      <td>239071.0</td>\n",
       "      <td>10153.02</td>\n",
       "      <td>13.402692</td>\n",
       "      <td>6.049151e+13</td>\n",
       "      <td>1.0</td>\n",
       "    </tr>\n",
       "    <tr>\n",
       "      <th>12098116</th>\n",
       "      <td>-0.0040</td>\n",
       "      <td>1.000000</td>\n",
       "      <td>7.229885</td>\n",
       "      <td>713.581395</td>\n",
       "      <td>3.0</td>\n",
       "      <td>2.0</td>\n",
       "      <td>4.000000</td>\n",
       "      <td>3.0</td>\n",
       "      <td>1347.974037</td>\n",
       "      <td>2217.0</td>\n",
       "      <td>...</td>\n",
       "      <td>311.694737</td>\n",
       "      <td>1940.0</td>\n",
       "      <td>1.440739</td>\n",
       "      <td>61994.0</td>\n",
       "      <td>119906.0</td>\n",
       "      <td>57912.0</td>\n",
       "      <td>11484.48</td>\n",
       "      <td>13.402692</td>\n",
       "      <td>6.037464e+13</td>\n",
       "      <td>1.0</td>\n",
       "    </tr>\n",
       "    <tr>\n",
       "      <th>12643413</th>\n",
       "      <td>0.0218</td>\n",
       "      <td>1.000000</td>\n",
       "      <td>7.229885</td>\n",
       "      <td>713.581395</td>\n",
       "      <td>2.0</td>\n",
       "      <td>2.0</td>\n",
       "      <td>4.000000</td>\n",
       "      <td>2.0</td>\n",
       "      <td>1347.974037</td>\n",
       "      <td>839.0</td>\n",
       "      <td>...</td>\n",
       "      <td>311.694737</td>\n",
       "      <td>1987.0</td>\n",
       "      <td>1.440739</td>\n",
       "      <td>171518.0</td>\n",
       "      <td>244880.0</td>\n",
       "      <td>73362.0</td>\n",
       "      <td>3048.74</td>\n",
       "      <td>13.402692</td>\n",
       "      <td>6.037296e+13</td>\n",
       "      <td>1.0</td>\n",
       "    </tr>\n",
       "    <tr>\n",
       "      <th>14432541</th>\n",
       "      <td>-0.0050</td>\n",
       "      <td>1.816372</td>\n",
       "      <td>7.229885</td>\n",
       "      <td>713.581395</td>\n",
       "      <td>2.5</td>\n",
       "      <td>4.0</td>\n",
       "      <td>5.565407</td>\n",
       "      <td>2.5</td>\n",
       "      <td>1347.974037</td>\n",
       "      <td>2283.0</td>\n",
       "      <td>...</td>\n",
       "      <td>311.694737</td>\n",
       "      <td>1981.0</td>\n",
       "      <td>2.000000</td>\n",
       "      <td>169574.0</td>\n",
       "      <td>434551.0</td>\n",
       "      <td>264977.0</td>\n",
       "      <td>5488.96</td>\n",
       "      <td>13.402692</td>\n",
       "      <td>6.059042e+13</td>\n",
       "      <td>1.0</td>\n",
       "    </tr>\n",
       "  </tbody>\n",
       "</table>\n",
       "<p>5 rows × 46 columns</p>\n",
       "</div>"
      ],
      "text/plain": [
       "          logerror  airconditioningtypeid  architecturalstyletypeid  \\\n",
       "parcelid                                                              \n",
       "11016594    0.0276               1.000000                  7.229885   \n",
       "14366692   -0.1684               1.816372                  7.229885   \n",
       "12098116   -0.0040               1.000000                  7.229885   \n",
       "12643413    0.0218               1.000000                  7.229885   \n",
       "14432541   -0.0050               1.816372                  7.229885   \n",
       "\n",
       "          basementsqft  bathroomcnt  bedroomcnt  buildingqualitytypeid  \\\n",
       "parcelid                                                                 \n",
       "11016594    713.581395          2.0         3.0               4.000000   \n",
       "14366692    713.581395          3.5         4.0               5.565407   \n",
       "12098116    713.581395          3.0         2.0               4.000000   \n",
       "12643413    713.581395          2.0         2.0               4.000000   \n",
       "14432541    713.581395          2.5         4.0               5.565407   \n",
       "\n",
       "          calculatedbathnbr  finishedfloor1squarefeet  \\\n",
       "parcelid                                                \n",
       "11016594                2.0               1347.974037   \n",
       "14366692                3.5               1347.974037   \n",
       "12098116                3.0               1347.974037   \n",
       "12643413                2.0               1347.974037   \n",
       "14432541                2.5               1347.974037   \n",
       "\n",
       "          calculatedfinishedsquarefeet        ...          yardbuildingsqft26  \\\n",
       "parcelid                                      ...                               \n",
       "11016594                        1684.0        ...                  311.694737   \n",
       "14366692                        2263.0        ...                  311.694737   \n",
       "12098116                        2217.0        ...                  311.694737   \n",
       "12643413                         839.0        ...                  311.694737   \n",
       "14432541                        2283.0        ...                  311.694737   \n",
       "\n",
       "          yearbuilt  numberofstories  structuretaxvaluedollarcnt  \\\n",
       "parcelid                                                           \n",
       "11016594     1959.0         1.440739                    122754.0   \n",
       "14366692     2014.0         1.440739                    346458.0   \n",
       "12098116     1940.0         1.440739                     61994.0   \n",
       "12643413     1987.0         1.440739                    171518.0   \n",
       "14432541     1981.0         2.000000                    169574.0   \n",
       "\n",
       "          taxvaluedollarcnt  landtaxvaluedollarcnt  taxamount  \\\n",
       "parcelid                                                        \n",
       "11016594           360170.0               237416.0    6735.88   \n",
       "14366692           585529.0               239071.0   10153.02   \n",
       "12098116           119906.0                57912.0   11484.48   \n",
       "12643413           244880.0                73362.0    3048.74   \n",
       "14432541           434551.0               264977.0    5488.96   \n",
       "\n",
       "          taxdelinquencyyear  censustractandblock  transaction_month  \n",
       "parcelid                                                              \n",
       "11016594           13.402692         6.037107e+13                1.0  \n",
       "14366692           13.402692         6.049151e+13                1.0  \n",
       "12098116           13.402692         6.037464e+13                1.0  \n",
       "12643413           13.402692         6.037296e+13                1.0  \n",
       "14432541           13.402692         6.059042e+13                1.0  \n",
       "\n",
       "[5 rows x 46 columns]"
      ]
     },
     "execution_count": 13,
     "metadata": {},
     "output_type": "execute_result"
    }
   ],
   "source": [
    "train_df2.head()"
   ]
  },
  {
   "cell_type": "raw",
   "metadata": {},
   "source": [
    "del train_df_raw, train_df\n",
    "gc.collect()"
   ]
  },
  {
   "cell_type": "markdown",
   "metadata": {},
   "source": [
    "### One hot encoding "
   ]
  },
  {
   "cell_type": "code",
   "execution_count": 14,
   "metadata": {
    "collapsed": true
   },
   "outputs": [],
   "source": [
    "from sklearn.preprocessing import OneHotEncoder"
   ]
  },
  {
   "cell_type": "code",
   "execution_count": 15,
   "metadata": {
    "collapsed": false
   },
   "outputs": [],
   "source": [
    "one_hot_colnames_before = [\"typeconstructiontypeid\", \"architecturalstyletypeid\", \"airconditioningtypeid\", \n",
    "                    \"heatingorsystemtypeid\", \"propertylandusetypeid\", \"transaction_month\"]"
   ]
  },
  {
   "cell_type": "code",
   "execution_count": 16,
   "metadata": {
    "collapsed": false
   },
   "outputs": [
    {
     "name": "stdout",
     "output_type": "stream",
     "text": [
      "Data Frame Dimensions:  (90275, 54)\n"
     ]
    }
   ],
   "source": [
    "#one_hot_df = OneHotEncoder().fit_transform(train_df2[one_hot_colnames].values)\n",
    "one_hot_df = pd.DataFrame()\n",
    "for col_name in one_hot_colnames_before:\n",
    "    temp_one_hot_var1 = OneHotEncoder().fit_transform(train_df2[col_name].values.reshape(-1,1))\n",
    "    temp_one_hot_var = temp_one_hot_var1.toarray()\n",
    "    temp_one_hot_var_df1 = pd.DataFrame(data=temp_one_hot_var)\n",
    "    temp_one_hot_var_df = temp_one_hot_var_df1.add_prefix(col_name + \"_\") # Add the name to each column \n",
    "    one_hot_df = pd.concat([one_hot_df, temp_one_hot_var_df] , axis = 1)\n",
    "print(\"Data Frame Dimensions: \" ,one_hot_df.shape)\n",
    "one_hot_df.index = train_df2.index"
   ]
  },
  {
   "cell_type": "code",
   "execution_count": 17,
   "metadata": {
    "collapsed": false
   },
   "outputs": [],
   "source": [
    "one_hot_colnames_after = one_hot_df.columns"
   ]
  },
  {
   "cell_type": "markdown",
   "metadata": {},
   "source": [
    "Find a better way to implement the code below "
   ]
  },
  {
   "cell_type": "code",
   "execution_count": 18,
   "metadata": {
    "collapsed": false
   },
   "outputs": [],
   "source": [
    "train_df3 = train_df2.drop(one_hot_colnames_before, axis = 1)\n",
    "train_df3 = pd.concat([train_df3, one_hot_df], axis = 1)"
   ]
  },
  {
   "cell_type": "code",
   "execution_count": 19,
   "metadata": {
    "collapsed": false
   },
   "outputs": [
    {
     "name": "stdout",
     "output_type": "stream",
     "text": [
      "Dataset dimensions  (90275, 94)\n"
     ]
    },
    {
     "data": {
      "text/html": [
       "<div>\n",
       "<table border=\"1\" class=\"dataframe\">\n",
       "  <thead>\n",
       "    <tr style=\"text-align: right;\">\n",
       "      <th></th>\n",
       "      <th>logerror</th>\n",
       "      <th>basementsqft</th>\n",
       "      <th>bathroomcnt</th>\n",
       "      <th>bedroomcnt</th>\n",
       "      <th>buildingqualitytypeid</th>\n",
       "      <th>calculatedbathnbr</th>\n",
       "      <th>finishedfloor1squarefeet</th>\n",
       "      <th>calculatedfinishedsquarefeet</th>\n",
       "      <th>finishedsquarefeet12</th>\n",
       "      <th>finishedsquarefeet13</th>\n",
       "      <th>...</th>\n",
       "      <th>transaction_month_2</th>\n",
       "      <th>transaction_month_3</th>\n",
       "      <th>transaction_month_4</th>\n",
       "      <th>transaction_month_5</th>\n",
       "      <th>transaction_month_6</th>\n",
       "      <th>transaction_month_7</th>\n",
       "      <th>transaction_month_8</th>\n",
       "      <th>transaction_month_9</th>\n",
       "      <th>transaction_month_10</th>\n",
       "      <th>transaction_month_11</th>\n",
       "    </tr>\n",
       "    <tr>\n",
       "      <th>parcelid</th>\n",
       "      <th></th>\n",
       "      <th></th>\n",
       "      <th></th>\n",
       "      <th></th>\n",
       "      <th></th>\n",
       "      <th></th>\n",
       "      <th></th>\n",
       "      <th></th>\n",
       "      <th></th>\n",
       "      <th></th>\n",
       "      <th></th>\n",
       "      <th></th>\n",
       "      <th></th>\n",
       "      <th></th>\n",
       "      <th></th>\n",
       "      <th></th>\n",
       "      <th></th>\n",
       "      <th></th>\n",
       "      <th></th>\n",
       "      <th></th>\n",
       "      <th></th>\n",
       "    </tr>\n",
       "  </thead>\n",
       "  <tbody>\n",
       "    <tr>\n",
       "      <th>11016594</th>\n",
       "      <td>0.0276</td>\n",
       "      <td>713.581395</td>\n",
       "      <td>2.0</td>\n",
       "      <td>3.0</td>\n",
       "      <td>4.000000</td>\n",
       "      <td>2.0</td>\n",
       "      <td>1347.974037</td>\n",
       "      <td>1684.0</td>\n",
       "      <td>1684.0</td>\n",
       "      <td>1404.545455</td>\n",
       "      <td>...</td>\n",
       "      <td>0.0</td>\n",
       "      <td>0.0</td>\n",
       "      <td>0.0</td>\n",
       "      <td>0.0</td>\n",
       "      <td>0.0</td>\n",
       "      <td>0.0</td>\n",
       "      <td>0.0</td>\n",
       "      <td>0.0</td>\n",
       "      <td>0.0</td>\n",
       "      <td>0.0</td>\n",
       "    </tr>\n",
       "    <tr>\n",
       "      <th>14366692</th>\n",
       "      <td>-0.1684</td>\n",
       "      <td>713.581395</td>\n",
       "      <td>3.5</td>\n",
       "      <td>4.0</td>\n",
       "      <td>5.565407</td>\n",
       "      <td>3.5</td>\n",
       "      <td>1347.974037</td>\n",
       "      <td>2263.0</td>\n",
       "      <td>2263.0</td>\n",
       "      <td>1404.545455</td>\n",
       "      <td>...</td>\n",
       "      <td>0.0</td>\n",
       "      <td>0.0</td>\n",
       "      <td>0.0</td>\n",
       "      <td>0.0</td>\n",
       "      <td>0.0</td>\n",
       "      <td>0.0</td>\n",
       "      <td>0.0</td>\n",
       "      <td>0.0</td>\n",
       "      <td>0.0</td>\n",
       "      <td>0.0</td>\n",
       "    </tr>\n",
       "    <tr>\n",
       "      <th>12098116</th>\n",
       "      <td>-0.0040</td>\n",
       "      <td>713.581395</td>\n",
       "      <td>3.0</td>\n",
       "      <td>2.0</td>\n",
       "      <td>4.000000</td>\n",
       "      <td>3.0</td>\n",
       "      <td>1347.974037</td>\n",
       "      <td>2217.0</td>\n",
       "      <td>2217.0</td>\n",
       "      <td>1404.545455</td>\n",
       "      <td>...</td>\n",
       "      <td>0.0</td>\n",
       "      <td>0.0</td>\n",
       "      <td>0.0</td>\n",
       "      <td>0.0</td>\n",
       "      <td>0.0</td>\n",
       "      <td>0.0</td>\n",
       "      <td>0.0</td>\n",
       "      <td>0.0</td>\n",
       "      <td>0.0</td>\n",
       "      <td>0.0</td>\n",
       "    </tr>\n",
       "    <tr>\n",
       "      <th>12643413</th>\n",
       "      <td>0.0218</td>\n",
       "      <td>713.581395</td>\n",
       "      <td>2.0</td>\n",
       "      <td>2.0</td>\n",
       "      <td>4.000000</td>\n",
       "      <td>2.0</td>\n",
       "      <td>1347.974037</td>\n",
       "      <td>839.0</td>\n",
       "      <td>839.0</td>\n",
       "      <td>1404.545455</td>\n",
       "      <td>...</td>\n",
       "      <td>0.0</td>\n",
       "      <td>0.0</td>\n",
       "      <td>0.0</td>\n",
       "      <td>0.0</td>\n",
       "      <td>0.0</td>\n",
       "      <td>0.0</td>\n",
       "      <td>0.0</td>\n",
       "      <td>0.0</td>\n",
       "      <td>0.0</td>\n",
       "      <td>0.0</td>\n",
       "    </tr>\n",
       "    <tr>\n",
       "      <th>14432541</th>\n",
       "      <td>-0.0050</td>\n",
       "      <td>713.581395</td>\n",
       "      <td>2.5</td>\n",
       "      <td>4.0</td>\n",
       "      <td>5.565407</td>\n",
       "      <td>2.5</td>\n",
       "      <td>1347.974037</td>\n",
       "      <td>2283.0</td>\n",
       "      <td>2283.0</td>\n",
       "      <td>1404.545455</td>\n",
       "      <td>...</td>\n",
       "      <td>0.0</td>\n",
       "      <td>0.0</td>\n",
       "      <td>0.0</td>\n",
       "      <td>0.0</td>\n",
       "      <td>0.0</td>\n",
       "      <td>0.0</td>\n",
       "      <td>0.0</td>\n",
       "      <td>0.0</td>\n",
       "      <td>0.0</td>\n",
       "      <td>0.0</td>\n",
       "    </tr>\n",
       "  </tbody>\n",
       "</table>\n",
       "<p>5 rows × 94 columns</p>\n",
       "</div>"
      ],
      "text/plain": [
       "          logerror  basementsqft  bathroomcnt  bedroomcnt  \\\n",
       "parcelid                                                    \n",
       "11016594    0.0276    713.581395          2.0         3.0   \n",
       "14366692   -0.1684    713.581395          3.5         4.0   \n",
       "12098116   -0.0040    713.581395          3.0         2.0   \n",
       "12643413    0.0218    713.581395          2.0         2.0   \n",
       "14432541   -0.0050    713.581395          2.5         4.0   \n",
       "\n",
       "          buildingqualitytypeid  calculatedbathnbr  finishedfloor1squarefeet  \\\n",
       "parcelid                                                                       \n",
       "11016594               4.000000                2.0               1347.974037   \n",
       "14366692               5.565407                3.5               1347.974037   \n",
       "12098116               4.000000                3.0               1347.974037   \n",
       "12643413               4.000000                2.0               1347.974037   \n",
       "14432541               5.565407                2.5               1347.974037   \n",
       "\n",
       "          calculatedfinishedsquarefeet  finishedsquarefeet12  \\\n",
       "parcelid                                                       \n",
       "11016594                        1684.0                1684.0   \n",
       "14366692                        2263.0                2263.0   \n",
       "12098116                        2217.0                2217.0   \n",
       "12643413                         839.0                 839.0   \n",
       "14432541                        2283.0                2283.0   \n",
       "\n",
       "          finishedsquarefeet13          ...           transaction_month_2  \\\n",
       "parcelid                                ...                                 \n",
       "11016594           1404.545455          ...                           0.0   \n",
       "14366692           1404.545455          ...                           0.0   \n",
       "12098116           1404.545455          ...                           0.0   \n",
       "12643413           1404.545455          ...                           0.0   \n",
       "14432541           1404.545455          ...                           0.0   \n",
       "\n",
       "          transaction_month_3  transaction_month_4  transaction_month_5  \\\n",
       "parcelid                                                                  \n",
       "11016594                  0.0                  0.0                  0.0   \n",
       "14366692                  0.0                  0.0                  0.0   \n",
       "12098116                  0.0                  0.0                  0.0   \n",
       "12643413                  0.0                  0.0                  0.0   \n",
       "14432541                  0.0                  0.0                  0.0   \n",
       "\n",
       "          transaction_month_6  transaction_month_7  transaction_month_8  \\\n",
       "parcelid                                                                  \n",
       "11016594                  0.0                  0.0                  0.0   \n",
       "14366692                  0.0                  0.0                  0.0   \n",
       "12098116                  0.0                  0.0                  0.0   \n",
       "12643413                  0.0                  0.0                  0.0   \n",
       "14432541                  0.0                  0.0                  0.0   \n",
       "\n",
       "          transaction_month_9  transaction_month_10  transaction_month_11  \n",
       "parcelid                                                                   \n",
       "11016594                  0.0                   0.0                   0.0  \n",
       "14366692                  0.0                   0.0                   0.0  \n",
       "12098116                  0.0                   0.0                   0.0  \n",
       "12643413                  0.0                   0.0                   0.0  \n",
       "14432541                  0.0                   0.0                   0.0  \n",
       "\n",
       "[5 rows x 94 columns]"
      ]
     },
     "execution_count": 19,
     "metadata": {},
     "output_type": "execute_result"
    }
   ],
   "source": [
    "print(\"Dataset dimensions \",train_df3.shape)\n",
    "train_df3.head()"
   ]
  },
  {
   "cell_type": "code",
   "execution_count": 20,
   "metadata": {
    "collapsed": false
   },
   "outputs": [
    {
     "data": {
      "text/plain": [
       "535"
      ]
     },
     "execution_count": 20,
     "metadata": {},
     "output_type": "execute_result"
    }
   ],
   "source": [
    "del train_df2\n",
    "gc.collect()"
   ]
  },
  {
   "cell_type": "markdown",
   "metadata": {},
   "source": [
    "### Scale Data"
   ]
  },
  {
   "cell_type": "code",
   "execution_count": 21,
   "metadata": {
    "collapsed": true
   },
   "outputs": [],
   "source": [
    "from sklearn.preprocessing import MinMaxScaler\n",
    "from sklearn.preprocessing import StandardScaler"
   ]
  },
  {
   "cell_type": "code",
   "execution_count": 22,
   "metadata": {
    "collapsed": false
   },
   "outputs": [],
   "source": [
    "cols_not_to_scale = np.append(one_hot_colnames_after.values, 'logerror')"
   ]
  },
  {
   "cell_type": "code",
   "execution_count": 23,
   "metadata": {
    "collapsed": false
   },
   "outputs": [],
   "source": [
    "train_df_scale = StandardScaler().fit_transform(train_df3.drop(cols_not_to_scale,axis = 1))\n",
    "#train_df_scale = MinMaxScaler().fit_transform(train_df3.drop(cols_not_to_scale),axis = 1)\n",
    "train_df_scale = pd.DataFrame(train_df_scale)\n",
    "train_df_scale.columns = (train_df3.drop(cols_not_to_scale,axis = 1)).columns\n",
    "train_df_scale.index = train_df3.index"
   ]
  },
  {
   "cell_type": "code",
   "execution_count": 24,
   "metadata": {
    "collapsed": false
   },
   "outputs": [
    {
     "data": {
      "text/html": [
       "<div>\n",
       "<table border=\"1\" class=\"dataframe\">\n",
       "  <thead>\n",
       "    <tr style=\"text-align: right;\">\n",
       "      <th></th>\n",
       "      <th>basementsqft</th>\n",
       "      <th>bathroomcnt</th>\n",
       "      <th>bedroomcnt</th>\n",
       "      <th>buildingqualitytypeid</th>\n",
       "      <th>calculatedbathnbr</th>\n",
       "      <th>finishedfloor1squarefeet</th>\n",
       "      <th>calculatedfinishedsquarefeet</th>\n",
       "      <th>finishedsquarefeet12</th>\n",
       "      <th>finishedsquarefeet13</th>\n",
       "      <th>finishedsquarefeet15</th>\n",
       "      <th>...</th>\n",
       "      <th>yardbuildingsqft17</th>\n",
       "      <th>yardbuildingsqft26</th>\n",
       "      <th>yearbuilt</th>\n",
       "      <th>numberofstories</th>\n",
       "      <th>structuretaxvaluedollarcnt</th>\n",
       "      <th>taxvaluedollarcnt</th>\n",
       "      <th>landtaxvaluedollarcnt</th>\n",
       "      <th>taxamount</th>\n",
       "      <th>taxdelinquencyyear</th>\n",
       "      <th>censustractandblock</th>\n",
       "    </tr>\n",
       "    <tr>\n",
       "      <th>parcelid</th>\n",
       "      <th></th>\n",
       "      <th></th>\n",
       "      <th></th>\n",
       "      <th></th>\n",
       "      <th></th>\n",
       "      <th></th>\n",
       "      <th></th>\n",
       "      <th></th>\n",
       "      <th></th>\n",
       "      <th></th>\n",
       "      <th></th>\n",
       "      <th></th>\n",
       "      <th></th>\n",
       "      <th></th>\n",
       "      <th></th>\n",
       "      <th></th>\n",
       "      <th></th>\n",
       "      <th></th>\n",
       "      <th></th>\n",
       "      <th></th>\n",
       "      <th></th>\n",
       "    </tr>\n",
       "  </thead>\n",
       "  <tbody>\n",
       "    <tr>\n",
       "      <th>11016594</th>\n",
       "      <td>-1.204915e-14</td>\n",
       "      <td>-0.278287</td>\n",
       "      <td>-0.027558</td>\n",
       "      <td>-1.033247</td>\n",
       "      <td>-0.318860</td>\n",
       "      <td>-1.264756e-15</td>\n",
       "      <td>-0.096443</td>\n",
       "      <td>-0.069359</td>\n",
       "      <td>-1.096805e-13</td>\n",
       "      <td>0.0</td>\n",
       "      <td>...</td>\n",
       "      <td>0.0</td>\n",
       "      <td>5.086028e-15</td>\n",
       "      <td>-0.402849</td>\n",
       "      <td>8.543208e-16</td>\n",
       "      <td>-0.274761</td>\n",
       "      <td>-0.175719</td>\n",
       "      <td>-0.102173</td>\n",
       "      <td>0.109950</td>\n",
       "      <td>-1.396552e-14</td>\n",
       "      <td>-5.904822e-01</td>\n",
       "    </tr>\n",
       "    <tr>\n",
       "      <th>14366692</th>\n",
       "      <td>-1.204915e-14</td>\n",
       "      <td>1.215342</td>\n",
       "      <td>0.837173</td>\n",
       "      <td>0.000000</td>\n",
       "      <td>1.227922</td>\n",
       "      <td>-1.264756e-15</td>\n",
       "      <td>0.529670</td>\n",
       "      <td>0.584110</td>\n",
       "      <td>-1.096805e-13</td>\n",
       "      <td>0.0</td>\n",
       "      <td>...</td>\n",
       "      <td>0.0</td>\n",
       "      <td>5.086028e-15</td>\n",
       "      <td>1.921393</td>\n",
       "      <td>8.543208e-16</td>\n",
       "      <td>0.797193</td>\n",
       "      <td>0.230422</td>\n",
       "      <td>-0.098040</td>\n",
       "      <td>0.609633</td>\n",
       "      <td>-1.396552e-14</td>\n",
       "      <td>-5.247339e-12</td>\n",
       "    </tr>\n",
       "    <tr>\n",
       "      <th>12098116</th>\n",
       "      <td>-1.204915e-14</td>\n",
       "      <td>0.717466</td>\n",
       "      <td>-0.892289</td>\n",
       "      <td>-1.033247</td>\n",
       "      <td>0.712328</td>\n",
       "      <td>-1.264756e-15</td>\n",
       "      <td>0.479927</td>\n",
       "      <td>0.532194</td>\n",
       "      <td>-1.096805e-13</td>\n",
       "      <td>0.0</td>\n",
       "      <td>...</td>\n",
       "      <td>0.0</td>\n",
       "      <td>5.086028e-15</td>\n",
       "      <td>-1.205769</td>\n",
       "      <td>8.543208e-16</td>\n",
       "      <td>-0.565913</td>\n",
       "      <td>-0.608722</td>\n",
       "      <td>-0.550383</td>\n",
       "      <td>0.804331</td>\n",
       "      <td>-1.396552e-14</td>\n",
       "      <td>-5.729723e-01</td>\n",
       "    </tr>\n",
       "    <tr>\n",
       "      <th>12643413</th>\n",
       "      <td>-1.204915e-14</td>\n",
       "      <td>-0.278287</td>\n",
       "      <td>-0.892289</td>\n",
       "      <td>-1.033247</td>\n",
       "      <td>-0.318860</td>\n",
       "      <td>-1.264756e-15</td>\n",
       "      <td>-1.010201</td>\n",
       "      <td>-1.023039</td>\n",
       "      <td>-1.096805e-13</td>\n",
       "      <td>0.0</td>\n",
       "      <td>...</td>\n",
       "      <td>0.0</td>\n",
       "      <td>5.086028e-15</td>\n",
       "      <td>0.780401</td>\n",
       "      <td>8.543208e-16</td>\n",
       "      <td>-0.041092</td>\n",
       "      <td>-0.383494</td>\n",
       "      <td>-0.511805</td>\n",
       "      <td>-0.429215</td>\n",
       "      <td>-1.396552e-14</td>\n",
       "      <td>-5.811842e-01</td>\n",
       "    </tr>\n",
       "    <tr>\n",
       "      <th>14432541</th>\n",
       "      <td>-1.204915e-14</td>\n",
       "      <td>0.219590</td>\n",
       "      <td>0.837173</td>\n",
       "      <td>0.000000</td>\n",
       "      <td>0.196734</td>\n",
       "      <td>-1.264756e-15</td>\n",
       "      <td>0.551298</td>\n",
       "      <td>0.606682</td>\n",
       "      <td>-1.096805e-13</td>\n",
       "      <td>0.0</td>\n",
       "      <td>...</td>\n",
       "      <td>0.0</td>\n",
       "      <td>5.086028e-15</td>\n",
       "      <td>0.526848</td>\n",
       "      <td>2.151767e+00</td>\n",
       "      <td>-0.050407</td>\n",
       "      <td>-0.041670</td>\n",
       "      <td>-0.033355</td>\n",
       "      <td>-0.072385</td>\n",
       "      <td>-1.396552e-14</td>\n",
       "      <td>4.849422e-01</td>\n",
       "    </tr>\n",
       "  </tbody>\n",
       "</table>\n",
       "<p>5 rows × 39 columns</p>\n",
       "</div>"
      ],
      "text/plain": [
       "          basementsqft  bathroomcnt  bedroomcnt  buildingqualitytypeid  \\\n",
       "parcelid                                                                 \n",
       "11016594 -1.204915e-14    -0.278287   -0.027558              -1.033247   \n",
       "14366692 -1.204915e-14     1.215342    0.837173               0.000000   \n",
       "12098116 -1.204915e-14     0.717466   -0.892289              -1.033247   \n",
       "12643413 -1.204915e-14    -0.278287   -0.892289              -1.033247   \n",
       "14432541 -1.204915e-14     0.219590    0.837173               0.000000   \n",
       "\n",
       "          calculatedbathnbr  finishedfloor1squarefeet  \\\n",
       "parcelid                                                \n",
       "11016594          -0.318860             -1.264756e-15   \n",
       "14366692           1.227922             -1.264756e-15   \n",
       "12098116           0.712328             -1.264756e-15   \n",
       "12643413          -0.318860             -1.264756e-15   \n",
       "14432541           0.196734             -1.264756e-15   \n",
       "\n",
       "          calculatedfinishedsquarefeet  finishedsquarefeet12  \\\n",
       "parcelid                                                       \n",
       "11016594                     -0.096443             -0.069359   \n",
       "14366692                      0.529670              0.584110   \n",
       "12098116                      0.479927              0.532194   \n",
       "12643413                     -1.010201             -1.023039   \n",
       "14432541                      0.551298              0.606682   \n",
       "\n",
       "          finishedsquarefeet13  finishedsquarefeet15         ...           \\\n",
       "parcelid                                                     ...            \n",
       "11016594         -1.096805e-13                   0.0         ...            \n",
       "14366692         -1.096805e-13                   0.0         ...            \n",
       "12098116         -1.096805e-13                   0.0         ...            \n",
       "12643413         -1.096805e-13                   0.0         ...            \n",
       "14432541         -1.096805e-13                   0.0         ...            \n",
       "\n",
       "          yardbuildingsqft17  yardbuildingsqft26  yearbuilt  numberofstories  \\\n",
       "parcelid                                                                       \n",
       "11016594                 0.0        5.086028e-15  -0.402849     8.543208e-16   \n",
       "14366692                 0.0        5.086028e-15   1.921393     8.543208e-16   \n",
       "12098116                 0.0        5.086028e-15  -1.205769     8.543208e-16   \n",
       "12643413                 0.0        5.086028e-15   0.780401     8.543208e-16   \n",
       "14432541                 0.0        5.086028e-15   0.526848     2.151767e+00   \n",
       "\n",
       "          structuretaxvaluedollarcnt  taxvaluedollarcnt  \\\n",
       "parcelid                                                  \n",
       "11016594                   -0.274761          -0.175719   \n",
       "14366692                    0.797193           0.230422   \n",
       "12098116                   -0.565913          -0.608722   \n",
       "12643413                   -0.041092          -0.383494   \n",
       "14432541                   -0.050407          -0.041670   \n",
       "\n",
       "          landtaxvaluedollarcnt  taxamount  taxdelinquencyyear  \\\n",
       "parcelid                                                         \n",
       "11016594              -0.102173   0.109950       -1.396552e-14   \n",
       "14366692              -0.098040   0.609633       -1.396552e-14   \n",
       "12098116              -0.550383   0.804331       -1.396552e-14   \n",
       "12643413              -0.511805  -0.429215       -1.396552e-14   \n",
       "14432541              -0.033355  -0.072385       -1.396552e-14   \n",
       "\n",
       "          censustractandblock  \n",
       "parcelid                       \n",
       "11016594        -5.904822e-01  \n",
       "14366692        -5.247339e-12  \n",
       "12098116        -5.729723e-01  \n",
       "12643413        -5.811842e-01  \n",
       "14432541         4.849422e-01  \n",
       "\n",
       "[5 rows x 39 columns]"
      ]
     },
     "execution_count": 24,
     "metadata": {},
     "output_type": "execute_result"
    }
   ],
   "source": [
    "train_df_scale.head()"
   ]
  },
  {
   "cell_type": "code",
   "execution_count": 25,
   "metadata": {
    "collapsed": false
   },
   "outputs": [],
   "source": [
    "train_y = train_df['logerror']"
   ]
  },
  {
   "cell_type": "code",
   "execution_count": 26,
   "metadata": {
    "collapsed": false
   },
   "outputs": [
    {
     "data": {
      "text/plain": [
       "90275"
      ]
     },
     "execution_count": 26,
     "metadata": {},
     "output_type": "execute_result"
    }
   ],
   "source": [
    "train_y.size"
   ]
  },
  {
   "cell_type": "markdown",
   "metadata": {},
   "source": [
    "## Flooring and Capping "
   ]
  },
  {
   "cell_type": "code",
   "execution_count": 27,
   "metadata": {
    "collapsed": true
   },
   "outputs": [],
   "source": [
    "ceil_y = train_y.quantile(q= 0.99)\n",
    "floor_y = train_y.quantile(q=0.01)"
   ]
  },
  {
   "cell_type": "code",
   "execution_count": 28,
   "metadata": {
    "collapsed": false
   },
   "outputs": [
    {
     "data": {
      "text/plain": [
       "count    90275.000000\n",
       "mean         0.011457\n",
       "std          0.161079\n",
       "min         -4.605000\n",
       "25%         -0.025300\n",
       "50%          0.006000\n",
       "75%          0.039200\n",
       "max          4.737000\n",
       "Name: logerror, dtype: float64"
      ]
     },
     "execution_count": 28,
     "metadata": {},
     "output_type": "execute_result"
    }
   ],
   "source": [
    "train_df3['logerror'].describe()"
   ]
  },
  {
   "cell_type": "code",
   "execution_count": 29,
   "metadata": {
    "collapsed": false
   },
   "outputs": [
    {
     "data": {
      "image/png": "[encoded data removed]",
      "text/plain": [
       "<matplotlib.figure.Figure at 0x23000bde710>"
      ]
     },
     "metadata": {},
     "output_type": "display_data"
    }
   ],
   "source": [
    "plt.figure(figsize=(8,6))\n",
    "plt.scatter(range(train_df3['logerror'].size), np.sort(train_df3['logerror']))\n",
    "plt.xlabel('index', fontsize=12)\n",
    "plt.ylabel('logerror', fontsize=12)\n",
    "plt.axhline(y = ceil_y, linewidth = 2, color = 'r')\n",
    "plt.axhline(y = floor_y, linewidth = 2, color = 'r')\n",
    "plt.legend(['values', 'extreme values'])\n",
    "plt.show()"
   ]
  },
  {
   "cell_type": "code",
   "execution_count": 30,
   "metadata": {
    "collapsed": false
   },
   "outputs": [
    {
     "name": "stderr",
     "output_type": "stream",
     "text": [
      "C:\\Users\\board\\Anaconda3\\lib\\site-packages\\ipykernel\\__main__.py:1: SettingWithCopyWarning: \n",
      "A value is trying to be set on a copy of a slice from a DataFrame\n",
      "\n",
      "See the caveats in the documentation: http://pandas.pydata.org/pandas-docs/stable/indexing.html#indexing-view-versus-copy\n",
      "  if __name__ == '__main__':\n",
      "C:\\Users\\board\\Anaconda3\\lib\\site-packages\\ipykernel\\__main__.py:2: SettingWithCopyWarning: \n",
      "A value is trying to be set on a copy of a slice from a DataFrame\n",
      "\n",
      "See the caveats in the documentation: http://pandas.pydata.org/pandas-docs/stable/indexing.html#indexing-view-versus-copy\n",
      "  from ipykernel import kernelapp as app\n"
     ]
    }
   ],
   "source": [
    "train_y[train_y > ceil_y] = ceil_y\n",
    "train_y[train_y < floor_y] = floor_y"
   ]
  },
  {
   "cell_type": "code",
   "execution_count": 31,
   "metadata": {
    "collapsed": false
   },
   "outputs": [
    {
     "data": {
      "image/png": "[encoded data removed]",
      "text/plain": [
       "<matplotlib.figure.Figure at 0x23000c3aba8>"
      ]
     },
     "metadata": {},
     "output_type": "display_data"
    }
   ],
   "source": [
    "plt.figure(figsize=(8,6))\n",
    "plt.hist(train_y, bins = 30)\n",
    "plt.xlabel('logerror', fontsize=12)\n",
    "plt.ylabel('Frequency', fontsize=12)\n",
    "plt.show()"
   ]
  },
  {
   "cell_type": "code",
   "execution_count": 32,
   "metadata": {
    "collapsed": false
   },
   "outputs": [
    {
     "data": {
      "image/png": "[encoded data removed]",
      "text/plain": [
       "<matplotlib.figure.Figure at 0x2300175cb38>"
      ]
     },
     "metadata": {},
     "output_type": "display_data"
    }
   ],
   "source": [
    "plt.figure(figsize=(8,6))\n",
    "plt.scatter(range(train_y.size), np.sort(train_y))\n",
    "plt.xlabel('index', fontsize=12)\n",
    "plt.ylabel('logerror', fontsize=12)\n",
    "plt.show()"
   ]
  },
  {
   "cell_type": "code",
   "execution_count": 33,
   "metadata": {
    "collapsed": false
   },
   "outputs": [
    {
     "name": "stdout",
     "output_type": "stream",
     "text": [
      "Min value:  -0.3425\n",
      "Max value:  0.463882\n"
     ]
    }
   ],
   "source": [
    "print(\"Min value: \",min(train_y))\n",
    "print(\"Max value: \", max(train_y)) "
   ]
  },
  {
   "cell_type": "code",
   "execution_count": 34,
   "metadata": {
    "collapsed": false
   },
   "outputs": [
    {
     "data": {
      "text/plain": [
       "(90275, 39)"
      ]
     },
     "execution_count": 34,
     "metadata": {},
     "output_type": "execute_result"
    }
   ],
   "source": [
    "train_df_scale.shape"
   ]
  },
  {
   "cell_type": "markdown",
   "metadata": {},
   "source": [
    "### Combine and Prepare for Modeling"
   ]
  },
  {
   "cell_type": "code",
   "execution_count": 35,
   "metadata": {
    "collapsed": false
   },
   "outputs": [
    {
     "data": {
      "text/html": [
       "<div>\n",
       "<table border=\"1\" class=\"dataframe\">\n",
       "  <thead>\n",
       "    <tr style=\"text-align: right;\">\n",
       "      <th></th>\n",
       "      <th>basementsqft</th>\n",
       "      <th>bathroomcnt</th>\n",
       "      <th>bedroomcnt</th>\n",
       "      <th>buildingqualitytypeid</th>\n",
       "      <th>calculatedbathnbr</th>\n",
       "      <th>finishedfloor1squarefeet</th>\n",
       "      <th>calculatedfinishedsquarefeet</th>\n",
       "      <th>finishedsquarefeet12</th>\n",
       "      <th>finishedsquarefeet13</th>\n",
       "      <th>finishedsquarefeet15</th>\n",
       "      <th>...</th>\n",
       "      <th>transaction_month_2</th>\n",
       "      <th>transaction_month_3</th>\n",
       "      <th>transaction_month_4</th>\n",
       "      <th>transaction_month_5</th>\n",
       "      <th>transaction_month_6</th>\n",
       "      <th>transaction_month_7</th>\n",
       "      <th>transaction_month_8</th>\n",
       "      <th>transaction_month_9</th>\n",
       "      <th>transaction_month_10</th>\n",
       "      <th>transaction_month_11</th>\n",
       "    </tr>\n",
       "    <tr>\n",
       "      <th>parcelid</th>\n",
       "      <th></th>\n",
       "      <th></th>\n",
       "      <th></th>\n",
       "      <th></th>\n",
       "      <th></th>\n",
       "      <th></th>\n",
       "      <th></th>\n",
       "      <th></th>\n",
       "      <th></th>\n",
       "      <th></th>\n",
       "      <th></th>\n",
       "      <th></th>\n",
       "      <th></th>\n",
       "      <th></th>\n",
       "      <th></th>\n",
       "      <th></th>\n",
       "      <th></th>\n",
       "      <th></th>\n",
       "      <th></th>\n",
       "      <th></th>\n",
       "      <th></th>\n",
       "    </tr>\n",
       "  </thead>\n",
       "  <tbody>\n",
       "    <tr>\n",
       "      <th>11016594</th>\n",
       "      <td>-1.204915e-14</td>\n",
       "      <td>-0.278287</td>\n",
       "      <td>-0.027558</td>\n",
       "      <td>-1.033247</td>\n",
       "      <td>-0.318860</td>\n",
       "      <td>-1.264756e-15</td>\n",
       "      <td>-0.096443</td>\n",
       "      <td>-0.069359</td>\n",
       "      <td>-1.096805e-13</td>\n",
       "      <td>0.0</td>\n",
       "      <td>...</td>\n",
       "      <td>0.0</td>\n",
       "      <td>0.0</td>\n",
       "      <td>0.0</td>\n",
       "      <td>0.0</td>\n",
       "      <td>0.0</td>\n",
       "      <td>0.0</td>\n",
       "      <td>0.0</td>\n",
       "      <td>0.0</td>\n",
       "      <td>0.0</td>\n",
       "      <td>0.0</td>\n",
       "    </tr>\n",
       "    <tr>\n",
       "      <th>14366692</th>\n",
       "      <td>-1.204915e-14</td>\n",
       "      <td>1.215342</td>\n",
       "      <td>0.837173</td>\n",
       "      <td>0.000000</td>\n",
       "      <td>1.227922</td>\n",
       "      <td>-1.264756e-15</td>\n",
       "      <td>0.529670</td>\n",
       "      <td>0.584110</td>\n",
       "      <td>-1.096805e-13</td>\n",
       "      <td>0.0</td>\n",
       "      <td>...</td>\n",
       "      <td>0.0</td>\n",
       "      <td>0.0</td>\n",
       "      <td>0.0</td>\n",
       "      <td>0.0</td>\n",
       "      <td>0.0</td>\n",
       "      <td>0.0</td>\n",
       "      <td>0.0</td>\n",
       "      <td>0.0</td>\n",
       "      <td>0.0</td>\n",
       "      <td>0.0</td>\n",
       "    </tr>\n",
       "    <tr>\n",
       "      <th>12098116</th>\n",
       "      <td>-1.204915e-14</td>\n",
       "      <td>0.717466</td>\n",
       "      <td>-0.892289</td>\n",
       "      <td>-1.033247</td>\n",
       "      <td>0.712328</td>\n",
       "      <td>-1.264756e-15</td>\n",
       "      <td>0.479927</td>\n",
       "      <td>0.532194</td>\n",
       "      <td>-1.096805e-13</td>\n",
       "      <td>0.0</td>\n",
       "      <td>...</td>\n",
       "      <td>0.0</td>\n",
       "      <td>0.0</td>\n",
       "      <td>0.0</td>\n",
       "      <td>0.0</td>\n",
       "      <td>0.0</td>\n",
       "      <td>0.0</td>\n",
       "      <td>0.0</td>\n",
       "      <td>0.0</td>\n",
       "      <td>0.0</td>\n",
       "      <td>0.0</td>\n",
       "    </tr>\n",
       "    <tr>\n",
       "      <th>12643413</th>\n",
       "      <td>-1.204915e-14</td>\n",
       "      <td>-0.278287</td>\n",
       "      <td>-0.892289</td>\n",
       "      <td>-1.033247</td>\n",
       "      <td>-0.318860</td>\n",
       "      <td>-1.264756e-15</td>\n",
       "      <td>-1.010201</td>\n",
       "      <td>-1.023039</td>\n",
       "      <td>-1.096805e-13</td>\n",
       "      <td>0.0</td>\n",
       "      <td>...</td>\n",
       "      <td>0.0</td>\n",
       "      <td>0.0</td>\n",
       "      <td>0.0</td>\n",
       "      <td>0.0</td>\n",
       "      <td>0.0</td>\n",
       "      <td>0.0</td>\n",
       "      <td>0.0</td>\n",
       "      <td>0.0</td>\n",
       "      <td>0.0</td>\n",
       "      <td>0.0</td>\n",
       "    </tr>\n",
       "    <tr>\n",
       "      <th>14432541</th>\n",
       "      <td>-1.204915e-14</td>\n",
       "      <td>0.219590</td>\n",
       "      <td>0.837173</td>\n",
       "      <td>0.000000</td>\n",
       "      <td>0.196734</td>\n",
       "      <td>-1.264756e-15</td>\n",
       "      <td>0.551298</td>\n",
       "      <td>0.606682</td>\n",
       "      <td>-1.096805e-13</td>\n",
       "      <td>0.0</td>\n",
       "      <td>...</td>\n",
       "      <td>0.0</td>\n",
       "      <td>0.0</td>\n",
       "      <td>0.0</td>\n",
       "      <td>0.0</td>\n",
       "      <td>0.0</td>\n",
       "      <td>0.0</td>\n",
       "      <td>0.0</td>\n",
       "      <td>0.0</td>\n",
       "      <td>0.0</td>\n",
       "      <td>0.0</td>\n",
       "    </tr>\n",
       "  </tbody>\n",
       "</table>\n",
       "<p>5 rows × 93 columns</p>\n",
       "</div>"
      ],
      "text/plain": [
       "          basementsqft  bathroomcnt  bedroomcnt  buildingqualitytypeid  \\\n",
       "parcelid                                                                 \n",
       "11016594 -1.204915e-14    -0.278287   -0.027558              -1.033247   \n",
       "14366692 -1.204915e-14     1.215342    0.837173               0.000000   \n",
       "12098116 -1.204915e-14     0.717466   -0.892289              -1.033247   \n",
       "12643413 -1.204915e-14    -0.278287   -0.892289              -1.033247   \n",
       "14432541 -1.204915e-14     0.219590    0.837173               0.000000   \n",
       "\n",
       "          calculatedbathnbr  finishedfloor1squarefeet  \\\n",
       "parcelid                                                \n",
       "11016594          -0.318860             -1.264756e-15   \n",
       "14366692           1.227922             -1.264756e-15   \n",
       "12098116           0.712328             -1.264756e-15   \n",
       "12643413          -0.318860             -1.264756e-15   \n",
       "14432541           0.196734             -1.264756e-15   \n",
       "\n",
       "          calculatedfinishedsquarefeet  finishedsquarefeet12  \\\n",
       "parcelid                                                       \n",
       "11016594                     -0.096443             -0.069359   \n",
       "14366692                      0.529670              0.584110   \n",
       "12098116                      0.479927              0.532194   \n",
       "12643413                     -1.010201             -1.023039   \n",
       "14432541                      0.551298              0.606682   \n",
       "\n",
       "          finishedsquarefeet13  finishedsquarefeet15          ...           \\\n",
       "parcelid                                                      ...            \n",
       "11016594         -1.096805e-13                   0.0          ...            \n",
       "14366692         -1.096805e-13                   0.0          ...            \n",
       "12098116         -1.096805e-13                   0.0          ...            \n",
       "12643413         -1.096805e-13                   0.0          ...            \n",
       "14432541         -1.096805e-13                   0.0          ...            \n",
       "\n",
       "          transaction_month_2  transaction_month_3  transaction_month_4  \\\n",
       "parcelid                                                                  \n",
       "11016594                  0.0                  0.0                  0.0   \n",
       "14366692                  0.0                  0.0                  0.0   \n",
       "12098116                  0.0                  0.0                  0.0   \n",
       "12643413                  0.0                  0.0                  0.0   \n",
       "14432541                  0.0                  0.0                  0.0   \n",
       "\n",
       "          transaction_month_5  transaction_month_6  transaction_month_7  \\\n",
       "parcelid                                                                  \n",
       "11016594                  0.0                  0.0                  0.0   \n",
       "14366692                  0.0                  0.0                  0.0   \n",
       "12098116                  0.0                  0.0                  0.0   \n",
       "12643413                  0.0                  0.0                  0.0   \n",
       "14432541                  0.0                  0.0                  0.0   \n",
       "\n",
       "          transaction_month_8  transaction_month_9  transaction_month_10  \\\n",
       "parcelid                                                                   \n",
       "11016594                  0.0                  0.0                   0.0   \n",
       "14366692                  0.0                  0.0                   0.0   \n",
       "12098116                  0.0                  0.0                   0.0   \n",
       "12643413                  0.0                  0.0                   0.0   \n",
       "14432541                  0.0                  0.0                   0.0   \n",
       "\n",
       "          transaction_month_11  \n",
       "parcelid                        \n",
       "11016594                   0.0  \n",
       "14366692                   0.0  \n",
       "12098116                   0.0  \n",
       "12643413                   0.0  \n",
       "14432541                   0.0  \n",
       "\n",
       "[5 rows x 93 columns]"
      ]
     },
     "execution_count": 35,
     "metadata": {},
     "output_type": "execute_result"
    }
   ],
   "source": [
    "train_df_modeling = pd.concat([train_df_scale, one_hot_df], axis = 1) \n",
    "train_df_modeling.head()"
   ]
  },
  {
   "cell_type": "code",
   "execution_count": 36,
   "metadata": {
    "collapsed": false
   },
   "outputs": [
    {
     "data": {
      "text/html": [
       "<div>\n",
       "<table border=\"1\" class=\"dataframe\">\n",
       "  <thead>\n",
       "    <tr style=\"text-align: right;\">\n",
       "      <th></th>\n",
       "      <th>basementsqft</th>\n",
       "      <th>bathroomcnt</th>\n",
       "      <th>bedroomcnt</th>\n",
       "      <th>buildingqualitytypeid</th>\n",
       "      <th>calculatedbathnbr</th>\n",
       "      <th>finishedfloor1squarefeet</th>\n",
       "      <th>calculatedfinishedsquarefeet</th>\n",
       "      <th>finishedsquarefeet12</th>\n",
       "      <th>finishedsquarefeet13</th>\n",
       "      <th>finishedsquarefeet15</th>\n",
       "      <th>...</th>\n",
       "      <th>transaction_month_2</th>\n",
       "      <th>transaction_month_3</th>\n",
       "      <th>transaction_month_4</th>\n",
       "      <th>transaction_month_5</th>\n",
       "      <th>transaction_month_6</th>\n",
       "      <th>transaction_month_7</th>\n",
       "      <th>transaction_month_8</th>\n",
       "      <th>transaction_month_9</th>\n",
       "      <th>transaction_month_10</th>\n",
       "      <th>transaction_month_11</th>\n",
       "    </tr>\n",
       "  </thead>\n",
       "  <tbody>\n",
       "    <tr>\n",
       "      <th>count</th>\n",
       "      <td>9.027500e+04</td>\n",
       "      <td>9.027500e+04</td>\n",
       "      <td>9.027500e+04</td>\n",
       "      <td>9.027500e+04</td>\n",
       "      <td>9.027500e+04</td>\n",
       "      <td>9.027500e+04</td>\n",
       "      <td>9.027500e+04</td>\n",
       "      <td>9.027500e+04</td>\n",
       "      <td>9.027500e+04</td>\n",
       "      <td>9.027500e+04</td>\n",
       "      <td>...</td>\n",
       "      <td>90275.000000</td>\n",
       "      <td>90275.000000</td>\n",
       "      <td>90275.000000</td>\n",
       "      <td>90275.000000</td>\n",
       "      <td>90275.000000</td>\n",
       "      <td>90275.000000</td>\n",
       "      <td>90275.000000</td>\n",
       "      <td>90275.000000</td>\n",
       "      <td>90275.000000</td>\n",
       "      <td>90275.000000</td>\n",
       "    </tr>\n",
       "    <tr>\n",
       "      <th>mean</th>\n",
       "      <td>-6.891806e-15</td>\n",
       "      <td>-4.360543e-15</td>\n",
       "      <td>1.516564e-16</td>\n",
       "      <td>-1.446135e-15</td>\n",
       "      <td>-1.999026e-15</td>\n",
       "      <td>-2.496674e-16</td>\n",
       "      <td>3.082565e-16</td>\n",
       "      <td>-3.810439e-16</td>\n",
       "      <td>-1.118359e-13</td>\n",
       "      <td>-2.078401e-17</td>\n",
       "      <td>...</td>\n",
       "      <td>0.095840</td>\n",
       "      <td>0.103140</td>\n",
       "      <td>0.110341</td>\n",
       "      <td>0.120986</td>\n",
       "      <td>0.110186</td>\n",
       "      <td>0.116045</td>\n",
       "      <td>0.106065</td>\n",
       "      <td>0.055132</td>\n",
       "      <td>0.020227</td>\n",
       "      <td>0.019263</td>\n",
       "    </tr>\n",
       "    <tr>\n",
       "      <th>std</th>\n",
       "      <td>1.000006e+00</td>\n",
       "      <td>1.000006e+00</td>\n",
       "      <td>1.000006e+00</td>\n",
       "      <td>1.000006e+00</td>\n",
       "      <td>1.000006e+00</td>\n",
       "      <td>1.000006e+00</td>\n",
       "      <td>1.000006e+00</td>\n",
       "      <td>1.000006e+00</td>\n",
       "      <td>1.000006e+00</td>\n",
       "      <td>1.000006e+00</td>\n",
       "      <td>...</td>\n",
       "      <td>0.294374</td>\n",
       "      <td>0.304144</td>\n",
       "      <td>0.313316</td>\n",
       "      <td>0.326113</td>\n",
       "      <td>0.313123</td>\n",
       "      <td>0.320281</td>\n",
       "      <td>0.307922</td>\n",
       "      <td>0.228238</td>\n",
       "      <td>0.140777</td>\n",
       "      <td>0.137450</td>\n",
       "    </tr>\n",
       "    <tr>\n",
       "      <th>min</th>\n",
       "      <td>-6.503072e+01</td>\n",
       "      <td>-2.269792e+00</td>\n",
       "      <td>-2.621751e+00</td>\n",
       "      <td>-3.013396e+00</td>\n",
       "      <td>-1.350048e+00</td>\n",
       "      <td>-7.253300e+00</td>\n",
       "      <td>-1.915307e+00</td>\n",
       "      <td>-1.967691e+00</td>\n",
       "      <td>-1.681313e+02</td>\n",
       "      <td>-8.576562e+00</td>\n",
       "      <td>...</td>\n",
       "      <td>0.000000</td>\n",
       "      <td>0.000000</td>\n",
       "      <td>0.000000</td>\n",
       "      <td>0.000000</td>\n",
       "      <td>0.000000</td>\n",
       "      <td>0.000000</td>\n",
       "      <td>0.000000</td>\n",
       "      <td>0.000000</td>\n",
       "      <td>0.000000</td>\n",
       "      <td>0.000000</td>\n",
       "    </tr>\n",
       "    <tr>\n",
       "      <th>25%</th>\n",
       "      <td>-1.204915e-14</td>\n",
       "      <td>-2.782868e-01</td>\n",
       "      <td>-8.922893e-01</td>\n",
       "      <td>-1.033247e+00</td>\n",
       "      <td>-3.188600e-01</td>\n",
       "      <td>-1.264756e-15</td>\n",
       "      <td>-6.338839e-01</td>\n",
       "      <td>-6.268949e-01</td>\n",
       "      <td>-1.096805e-13</td>\n",
       "      <td>0.000000e+00</td>\n",
       "      <td>...</td>\n",
       "      <td>0.000000</td>\n",
       "      <td>0.000000</td>\n",
       "      <td>0.000000</td>\n",
       "      <td>0.000000</td>\n",
       "      <td>0.000000</td>\n",
       "      <td>0.000000</td>\n",
       "      <td>0.000000</td>\n",
       "      <td>0.000000</td>\n",
       "      <td>0.000000</td>\n",
       "      <td>0.000000</td>\n",
       "    </tr>\n",
       "    <tr>\n",
       "      <th>50%</th>\n",
       "      <td>-1.204915e-14</td>\n",
       "      <td>-2.782868e-01</td>\n",
       "      <td>-2.755836e-02</td>\n",
       "      <td>0.000000e+00</td>\n",
       "      <td>-3.188600e-01</td>\n",
       "      <td>-1.264756e-15</td>\n",
       "      <td>-2.445907e-01</td>\n",
       "      <td>-2.081784e-01</td>\n",
       "      <td>-1.096805e-13</td>\n",
       "      <td>0.000000e+00</td>\n",
       "      <td>...</td>\n",
       "      <td>0.000000</td>\n",
       "      <td>0.000000</td>\n",
       "      <td>0.000000</td>\n",
       "      <td>0.000000</td>\n",
       "      <td>0.000000</td>\n",
       "      <td>0.000000</td>\n",
       "      <td>0.000000</td>\n",
       "      <td>0.000000</td>\n",
       "      <td>0.000000</td>\n",
       "      <td>0.000000</td>\n",
       "    </tr>\n",
       "    <tr>\n",
       "      <th>75%</th>\n",
       "      <td>-1.204915e-14</td>\n",
       "      <td>7.174659e-01</td>\n",
       "      <td>8.371726e-01</td>\n",
       "      <td>9.469029e-01</td>\n",
       "      <td>7.123279e-01</td>\n",
       "      <td>-1.264756e-15</td>\n",
       "      <td>3.415118e-01</td>\n",
       "      <td>3.019561e-01</td>\n",
       "      <td>-1.096805e-13</td>\n",
       "      <td>0.000000e+00</td>\n",
       "      <td>...</td>\n",
       "      <td>0.000000</td>\n",
       "      <td>0.000000</td>\n",
       "      <td>0.000000</td>\n",
       "      <td>0.000000</td>\n",
       "      <td>0.000000</td>\n",
       "      <td>0.000000</td>\n",
       "      <td>0.000000</td>\n",
       "      <td>0.000000</td>\n",
       "      <td>0.000000</td>\n",
       "      <td>0.000000</td>\n",
       "    </tr>\n",
       "    <tr>\n",
       "      <th>max</th>\n",
       "      <td>8.917815e+01</td>\n",
       "      <td>1.764526e+01</td>\n",
       "      <td>1.121394e+01</td>\n",
       "      <td>4.247152e+00</td>\n",
       "      <td>1.824252e+01</td>\n",
       "      <td>3.491569e+01</td>\n",
       "      <td>2.267396e+01</td>\n",
       "      <td>2.061705e+01</td>\n",
       "      <td>8.656524e+01</td>\n",
       "      <td>9.594394e+01</td>\n",
       "      <td>...</td>\n",
       "      <td>1.000000</td>\n",
       "      <td>1.000000</td>\n",
       "      <td>1.000000</td>\n",
       "      <td>1.000000</td>\n",
       "      <td>1.000000</td>\n",
       "      <td>1.000000</td>\n",
       "      <td>1.000000</td>\n",
       "      <td>1.000000</td>\n",
       "      <td>1.000000</td>\n",
       "      <td>1.000000</td>\n",
       "    </tr>\n",
       "  </tbody>\n",
       "</table>\n",
       "<p>8 rows × 93 columns</p>\n",
       "</div>"
      ],
      "text/plain": [
       "       basementsqft   bathroomcnt    bedroomcnt  buildingqualitytypeid  \\\n",
       "count  9.027500e+04  9.027500e+04  9.027500e+04           9.027500e+04   \n",
       "mean  -6.891806e-15 -4.360543e-15  1.516564e-16          -1.446135e-15   \n",
       "std    1.000006e+00  1.000006e+00  1.000006e+00           1.000006e+00   \n",
       "min   -6.503072e+01 -2.269792e+00 -2.621751e+00          -3.013396e+00   \n",
       "25%   -1.204915e-14 -2.782868e-01 -8.922893e-01          -1.033247e+00   \n",
       "50%   -1.204915e-14 -2.782868e-01 -2.755836e-02           0.000000e+00   \n",
       "75%   -1.204915e-14  7.174659e-01  8.371726e-01           9.469029e-01   \n",
       "max    8.917815e+01  1.764526e+01  1.121394e+01           4.247152e+00   \n",
       "\n",
       "       calculatedbathnbr  finishedfloor1squarefeet  \\\n",
       "count       9.027500e+04              9.027500e+04   \n",
       "mean       -1.999026e-15             -2.496674e-16   \n",
       "std         1.000006e+00              1.000006e+00   \n",
       "min        -1.350048e+00             -7.253300e+00   \n",
       "25%        -3.188600e-01             -1.264756e-15   \n",
       "50%        -3.188600e-01             -1.264756e-15   \n",
       "75%         7.123279e-01             -1.264756e-15   \n",
       "max         1.824252e+01              3.491569e+01   \n",
       "\n",
       "       calculatedfinishedsquarefeet  finishedsquarefeet12  \\\n",
       "count                  9.027500e+04          9.027500e+04   \n",
       "mean                   3.082565e-16         -3.810439e-16   \n",
       "std                    1.000006e+00          1.000006e+00   \n",
       "min                   -1.915307e+00         -1.967691e+00   \n",
       "25%                   -6.338839e-01         -6.268949e-01   \n",
       "50%                   -2.445907e-01         -2.081784e-01   \n",
       "75%                    3.415118e-01          3.019561e-01   \n",
       "max                    2.267396e+01          2.061705e+01   \n",
       "\n",
       "       finishedsquarefeet13  finishedsquarefeet15          ...           \\\n",
       "count          9.027500e+04          9.027500e+04          ...            \n",
       "mean          -1.118359e-13         -2.078401e-17          ...            \n",
       "std            1.000006e+00          1.000006e+00          ...            \n",
       "min           -1.681313e+02         -8.576562e+00          ...            \n",
       "25%           -1.096805e-13          0.000000e+00          ...            \n",
       "50%           -1.096805e-13          0.000000e+00          ...            \n",
       "75%           -1.096805e-13          0.000000e+00          ...            \n",
       "max            8.656524e+01          9.594394e+01          ...            \n",
       "\n",
       "       transaction_month_2  transaction_month_3  transaction_month_4  \\\n",
       "count         90275.000000         90275.000000         90275.000000   \n",
       "mean              0.095840             0.103140             0.110341   \n",
       "std               0.294374             0.304144             0.313316   \n",
       "min               0.000000             0.000000             0.000000   \n",
       "25%               0.000000             0.000000             0.000000   \n",
       "50%               0.000000             0.000000             0.000000   \n",
       "75%               0.000000             0.000000             0.000000   \n",
       "max               1.000000             1.000000             1.000000   \n",
       "\n",
       "       transaction_month_5  transaction_month_6  transaction_month_7  \\\n",
       "count         90275.000000         90275.000000         90275.000000   \n",
       "mean              0.120986             0.110186             0.116045   \n",
       "std               0.326113             0.313123             0.320281   \n",
       "min               0.000000             0.000000             0.000000   \n",
       "25%               0.000000             0.000000             0.000000   \n",
       "50%               0.000000             0.000000             0.000000   \n",
       "75%               0.000000             0.000000             0.000000   \n",
       "max               1.000000             1.000000             1.000000   \n",
       "\n",
       "       transaction_month_8  transaction_month_9  transaction_month_10  \\\n",
       "count         90275.000000         90275.000000          90275.000000   \n",
       "mean              0.106065             0.055132              0.020227   \n",
       "std               0.307922             0.228238              0.140777   \n",
       "min               0.000000             0.000000              0.000000   \n",
       "25%               0.000000             0.000000              0.000000   \n",
       "50%               0.000000             0.000000              0.000000   \n",
       "75%               0.000000             0.000000              0.000000   \n",
       "max               1.000000             1.000000              1.000000   \n",
       "\n",
       "       transaction_month_11  \n",
       "count          90275.000000  \n",
       "mean               0.019263  \n",
       "std                0.137450  \n",
       "min                0.000000  \n",
       "25%                0.000000  \n",
       "50%                0.000000  \n",
       "75%                0.000000  \n",
       "max                1.000000  \n",
       "\n",
       "[8 rows x 93 columns]"
      ]
     },
     "execution_count": 36,
     "metadata": {},
     "output_type": "execute_result"
    }
   ],
   "source": [
    "train_df_modeling.describe()"
   ]
  },
  {
   "cell_type": "code",
   "execution_count": 37,
   "metadata": {
    "collapsed": false
   },
   "outputs": [
    {
     "data": {
      "text/plain": [
       "(90275, 93)"
      ]
     },
     "execution_count": 37,
     "metadata": {},
     "output_type": "execute_result"
    }
   ],
   "source": [
    "train_df_modeling.shape"
   ]
  },
  {
   "cell_type": "raw",
   "metadata": {
    "collapsed": true
   },
   "source": [
    "#train_df_modeling['logerror'] = train_y\n",
    "#train_df_modeling.to_csv(\"semi_clean_df.csv\")"
   ]
  },
  {
   "cell_type": "code",
   "execution_count": 43,
   "metadata": {
    "collapsed": false
   },
   "outputs": [
    {
     "data": {
      "text/plain": [
       "array([[ -1.20491541e-14,  -2.78286818e-01,  -2.75583586e-02, ...,\n",
       "          0.00000000e+00,   0.00000000e+00,   2.76000000e-02],\n",
       "       [ -1.20491541e-14,   1.21534222e+00,   8.37172551e-01, ...,\n",
       "          0.00000000e+00,   0.00000000e+00,  -1.68400000e-01],\n",
       "       [ -1.20491541e-14,   7.17465873e-01,  -8.92289268e-01, ...,\n",
       "          0.00000000e+00,   0.00000000e+00,  -4.00000000e-03],\n",
       "       ..., \n",
       "       [ -1.20491541e-14,  -2.78286818e-01,   8.37172551e-01, ...,\n",
       "          0.00000000e+00,   1.00000000e+00,  -2.67900000e-01],\n",
       "       [ -1.20491541e-14,  -2.78286818e-01,  -8.92289268e-01, ...,\n",
       "          0.00000000e+00,   1.00000000e+00,   6.02000000e-02],\n",
       "       [ -1.20491541e-14,  -1.27403951e+00,  -2.75583586e-02, ...,\n",
       "          0.00000000e+00,   1.00000000e+00,   4.20700000e-01]])"
      ]
     },
     "execution_count": 43,
     "metadata": {},
     "output_type": "execute_result"
    }
   ],
   "source": [
    "train_df_modeling.values"
   ]
  },
  {
   "cell_type": "raw",
   "metadata": {},
   "source": []
  },
  {
   "cell_type": "markdown",
   "metadata": {},
   "source": [
    "## Linear Regression"
   ]
  },
  {
   "cell_type": "markdown",
   "metadata": {},
   "source": [
    "### Start by splitting into test train set "
   ]
  },
  {
   "cell_type": "code",
   "execution_count": 44,
   "metadata": {
    "collapsed": true
   },
   "outputs": [],
   "source": [
    "from sklearn.model_selection import train_test_split"
   ]
  },
  {
   "cell_type": "code",
   "execution_count": 45,
   "metadata": {
    "collapsed": true
   },
   "outputs": [],
   "source": [
    "X = train_df_modeling.drop([\"logerror\"], axis = 1)\n",
    "y = train_df_modeling[\"logerror\"]"
   ]
  },
  {
   "cell_type": "code",
   "execution_count": 46,
   "metadata": {
    "collapsed": false
   },
   "outputs": [],
   "source": [
    "X_train, X_test, y_train, y_test = train_test_split(X, y, test_size=0.25, random_state=42)"
   ]
  },
  {
   "cell_type": "code",
   "execution_count": 47,
   "metadata": {
    "collapsed": false
   },
   "outputs": [
    {
     "name": "stdout",
     "output_type": "stream",
     "text": [
      "(90275, 93)\n",
      "(90275,)\n",
      "(67706, 93)\n",
      "(22569, 93)\n",
      "(67706,)\n",
      "(22569,)\n"
     ]
    }
   ],
   "source": [
    "print(X.shape)\n",
    "print(y.shape)\n",
    "print(X_train.shape)\n",
    "print(X_test.shape)\n",
    "print(y_train.shape)\n",
    "print(y_test.shape)"
   ]
  },
  {
   "cell_type": "code",
   "execution_count": 48,
   "metadata": {
    "collapsed": false
   },
   "outputs": [],
   "source": [
    "import statsmodels.api as sm"
   ]
  },
  {
   "cell_type": "code",
   "execution_count": 49,
   "metadata": {
    "collapsed": false,
    "scrolled": true
   },
   "outputs": [
    {
     "name": "stdout",
     "output_type": "stream",
     "text": [
      "                            OLS Regression Results                            \n",
      "==============================================================================\n",
      "Dep. Variable:               logerror   R-squared:                       0.012\n",
      "Model:                            OLS   Adj. R-squared:                  0.010\n",
      "Method:                 Least Squares   F-statistic:                     9.290\n",
      "Date:                Mon, 21 Aug 2017   Prob (F-statistic):          6.19e-114\n",
      "Time:                        19:54:56   Log-Likelihood:                 59975.\n",
      "No. Observations:               67706   AIC:                        -1.198e+05\n",
      "Df Residuals:                   67620   BIC:                        -1.190e+05\n",
      "Df Model:                          85                                         \n",
      "Covariance Type:            nonrobust                                         \n",
      "================================================================================================\n",
      "                                   coef    std err          t      P>|t|      [0.025      0.975]\n",
      "------------------------------------------------------------------------------------------------\n",
      "basementsqft                     0.0007      0.000      2.090      0.037    4.62e-05       0.001\n",
      "bathroomcnt                     -0.0056      0.002     -2.702      0.007      -0.010      -0.002\n",
      "bedroomcnt                       0.0004      0.001      0.573      0.566      -0.001       0.002\n",
      "buildingqualitytypeid            0.0006      0.000      1.363      0.173      -0.000       0.002\n",
      "calculatedbathnbr                0.0028      0.004      0.783      0.434      -0.004       0.010\n",
      "finishedfloor1squarefeet         0.0002      0.002      0.111      0.911      -0.004       0.004\n",
      "calculatedfinishedsquarefeet     0.0068      0.012      0.569      0.569      -0.017       0.030\n",
      "finishedsquarefeet12             0.0043      0.011      0.373      0.709      -0.018       0.027\n",
      "finishedsquarefeet13             0.0001      0.000      0.301      0.764      -0.001       0.001\n",
      "finishedsquarefeet15             0.0015      0.003      0.545      0.586      -0.004       0.007\n",
      "finishedsquarefeet50            -0.0012      0.002     -0.573      0.567      -0.005       0.003\n",
      "finishedsquarefeet6             -0.0005      0.001     -0.407      0.684      -0.003       0.002\n",
      "fips                             0.1195      0.044      2.692      0.007       0.032       0.206\n",
      "fireplacecnt                     0.0002      0.000      0.472      0.637      -0.001       0.001\n",
      "fullbathcnt                      0.0026      0.003      0.914      0.361      -0.003       0.008\n",
      "garagecarcnt                    -0.0006      0.001     -1.099      0.272      -0.002       0.000\n",
      "garagetotalsqft                 -0.0004      0.001     -0.615      0.539      -0.002       0.001\n",
      "latitude                      4.296e-05      0.001      0.068      0.946      -0.001       0.001\n",
      "longitude                        0.0024      0.001      3.151      0.002       0.001       0.004\n",
      "lotsizesquarefeet                0.0003      0.000      0.620      0.535      -0.001       0.001\n",
      "poolsizesum                   9.858e-05      0.000      0.258      0.796      -0.001       0.001\n",
      "rawcensustractandblock          -0.1230      0.044     -2.770      0.006      -0.210      -0.036\n",
      "regionidcity                     0.0003      0.000      0.836      0.403      -0.000       0.001\n",
      "regionidcounty                   0.0044      0.002      2.654      0.008       0.001       0.008\n",
      "regionidneighborhood            -0.0004      0.000     -0.926      0.354      -0.001       0.000\n",
      "regionidzip                     -0.0011      0.000     -2.908      0.004      -0.002      -0.000\n",
      "roomcnt                          0.0004      0.001      0.576      0.564      -0.001       0.002\n",
      "threequarterbathnbr              0.0003      0.000      0.716      0.474      -0.001       0.001\n",
      "unitcnt                          0.0002      0.000      0.376      0.707      -0.001       0.001\n",
      "yardbuildingsqft17              -0.0009      0.000     -2.305      0.021      -0.002      -0.000\n",
      "yardbuildingsqft26               0.0002      0.000      0.622      0.534      -0.000       0.001\n",
      "yearbuilt                        0.0003      0.001      0.513      0.608      -0.001       0.002\n",
      "numberofstories              -8.489e-05      0.000     -0.193      0.847      -0.001       0.001\n",
      "structuretaxvaluedollarcnt      -0.0505      0.009     -5.938      0.000      -0.067      -0.034\n",
      "taxvaluedollarcnt                0.1399      0.022      6.232      0.000       0.096       0.184\n",
      "landtaxvaluedollarcnt           -0.0905      0.016     -5.579      0.000      -0.122      -0.059\n",
      "taxamount                       -0.0187      0.001    -14.332      0.000      -0.021      -0.016\n",
      "taxdelinquencyyear               0.0002      0.000      0.448      0.654      -0.001       0.001\n",
      "censustractandblock              0.0062      0.004      1.715      0.086      -0.001       0.013\n",
      "typeconstructiontypeid_0         0.0582      0.078      0.750      0.453      -0.094       0.210\n",
      "typeconstructiontypeid_1         0.0149      0.030      0.492      0.623      -0.044       0.074\n",
      "typeconstructiontypeid_2         0.0003      0.046      0.007      0.994      -0.090       0.090\n",
      "architecturalstyletypeid_0       0.0163      0.038      0.430      0.667      -0.058       0.091\n",
      "architecturalstyletypeid_1       0.0400      0.047      0.850      0.395      -0.052       0.132\n",
      "architecturalstyletypeid_2      -0.0096      0.020     -0.478      0.633      -0.049       0.030\n",
      "architecturalstyletypeid_3      -0.0061      0.030     -0.202      0.840      -0.066       0.053\n",
      "architecturalstyletypeid_4       0.0310      0.087      0.354      0.723      -0.140       0.202\n",
      "architecturalstyletypeid_5       0.0018      0.043      0.042      0.966      -0.083       0.086\n",
      "airconditioningtypeid_0         -0.0105      0.022     -0.486      0.627      -0.053       0.032\n",
      "airconditioningtypeid_1          0.0886      0.088      1.002      0.316      -0.085       0.262\n",
      "airconditioningtypeid_2         -0.0026      0.023     -0.114      0.910      -0.048       0.042\n",
      "airconditioningtypeid_3         -0.0071      0.088     -0.081      0.935      -0.179       0.165\n",
      "airconditioningtypeid_4          0.0171      0.025      0.675      0.500      -0.033       0.067\n",
      "airconditioningtypeid_5         -0.0121      0.022     -0.555      0.579      -0.055       0.031\n",
      "heatingorsystemtypeid_0          0.0289      0.031      0.945      0.345      -0.031       0.089\n",
      "heatingorsystemtypeid_1          0.0138      0.013      1.076      0.282      -0.011       0.039\n",
      "heatingorsystemtypeid_2          0.0170      0.013      1.350      0.177      -0.008       0.042\n",
      "heatingorsystemtypeid_3          0.0103      0.013      0.797      0.425      -0.015       0.036\n",
      "heatingorsystemtypeid_4          0.0162      0.013      1.266      0.206      -0.009       0.041\n",
      "heatingorsystemtypeid_5         -0.0294      0.066     -0.443      0.658      -0.160       0.101\n",
      "heatingorsystemtypeid_6          0.0003      0.046      0.007      0.994      -0.090       0.090\n",
      "heatingorsystemtypeid_7         -0.0001      0.093     -0.002      0.999      -0.182       0.182\n",
      "heatingorsystemtypeid_8          0.0030      0.018      0.173      0.863      -0.031       0.037\n",
      "heatingorsystemtypeid_9          0.0027      0.066      0.041      0.968      -0.127       0.133\n",
      "heatingorsystemtypeid_10         0.0027      0.025      0.107      0.915      -0.047       0.052\n",
      "heatingorsystemtypeid_11         0.0052      0.017      0.308      0.758      -0.028       0.038\n",
      "heatingorsystemtypeid_12         0.0029      0.013      0.221      0.825      -0.023       0.028\n",
      "propertylandusetypeid_0          0.0674      0.028      2.377      0.017       0.012       0.123\n",
      "propertylandusetypeid_1       3.049e-17   6.35e-17      0.480      0.631   -9.39e-17    1.55e-16\n",
      "propertylandusetypeid_2         -0.0082      0.009     -0.938      0.348      -0.025       0.009\n",
      "propertylandusetypeid_3         -0.0249      0.010     -2.612      0.009      -0.044      -0.006\n",
      "propertylandusetypeid_4         -0.0305      0.010     -3.107      0.002      -0.050      -0.011\n",
      "propertylandusetypeid_5         -0.0158      0.016     -1.002      0.316      -0.047       0.015\n",
      "propertylandusetypeid_6         -0.0048      0.007     -0.717      0.473      -0.018       0.008\n",
      "propertylandusetypeid_7          0.0304      0.014      2.249      0.024       0.004       0.057\n",
      "propertylandusetypeid_8          0.0314      0.033      0.939      0.348      -0.034       0.097\n",
      "propertylandusetypeid_9          0.0028      0.009      0.318      0.750      -0.015       0.020\n",
      "propertylandusetypeid_10     -7.433e-05      0.007     -0.011      0.991      -0.013       0.013\n",
      "propertylandusetypeid_11         0.0272      0.021      1.277      0.202      -0.015       0.069\n",
      "propertylandusetypeid_12        -0.0078      0.007     -1.112      0.266      -0.022       0.006\n",
      "propertylandusetypeid_13         0.0063      0.017      0.364      0.715      -0.028       0.040\n",
      "transaction_month_0              0.0097      0.005      1.883      0.060      -0.000       0.020\n",
      "transaction_month_1              0.0095      0.005      1.852      0.064      -0.001       0.020\n",
      "transaction_month_2              0.0012      0.005      0.228      0.819      -0.009       0.011\n",
      "transaction_month_3              0.0004      0.005      0.074      0.941      -0.010       0.010\n",
      "transaction_month_4              0.0011      0.005      0.211      0.833      -0.009       0.011\n",
      "transaction_month_5              0.0012      0.005      0.246      0.806      -0.009       0.011\n",
      "transaction_month_6              0.0046      0.005      0.903      0.366      -0.005       0.015\n",
      "transaction_month_7              0.0045      0.005      0.884      0.377      -0.005       0.014\n",
      "transaction_month_8              0.0086      0.005      1.686      0.092      -0.001       0.019\n",
      "transaction_month_9              0.0100      0.005      1.931      0.053      -0.000       0.020\n",
      "transaction_month_10             0.0088      0.006      1.581      0.114      -0.002       0.020\n",
      "transaction_month_11             0.0139      0.006      2.478      0.013       0.003       0.025\n",
      "==============================================================================\n",
      "Omnibus:                    15832.711   Durbin-Watson:                   2.003\n",
      "Prob(Omnibus):                  0.000   Jarque-Bera (JB):           130274.690\n",
      "Skew:                           0.899   Prob(JB):                         0.00\n",
      "Kurtosis:                       9.554   Cond. No.                     1.52e+16\n",
      "==============================================================================\n",
      "\n",
      "Warnings:\n",
      "[1] Standard Errors assume that the covariance matrix of the errors is correctly specified.\n",
      "[2] The smallest eigenvalue is 2.15e-27. This might indicate that there are\n",
      "strong multicollinearity problems or that the design matrix is singular.\n"
     ]
    }
   ],
   "source": [
    "model = sm.OLS(y_train, X_train)\n",
    "results = model.fit()\n",
    "print(results.summary())"
   ]
  },
  {
   "cell_type": "code",
   "execution_count": 50,
   "metadata": {
    "collapsed": false,
    "scrolled": true
   },
   "outputs": [
    {
     "data": {
      "text/plain": [
       "fips                          0.119486\n",
       "rawcensustractandblock       -0.122964\n",
       "structuretaxvaluedollarcnt   -0.050549\n",
       "taxvaluedollarcnt             0.139914\n",
       "landtaxvaluedollarcnt        -0.090516\n",
       "typeconstructiontypeid_0      0.058239\n",
       "architecturalstyletypeid_1    0.039983\n",
       "architecturalstyletypeid_4    0.030967\n",
       "airconditioningtypeid_1       0.088643\n",
       "heatingorsystemtypeid_0       0.028934\n",
       "heatingorsystemtypeid_5      -0.029409\n",
       "propertylandusetypeid_0       0.067427\n",
       "propertylandusetypeid_3      -0.024909\n",
       "propertylandusetypeid_4      -0.030542\n",
       "propertylandusetypeid_7       0.030435\n",
       "propertylandusetypeid_8       0.031362\n",
       "propertylandusetypeid_11      0.027173\n",
       "dtype: float64"
      ]
     },
     "execution_count": 50,
     "metadata": {},
     "output_type": "execute_result"
    }
   ],
   "source": [
    "results.params[abs(results.params) > 0.02]"
   ]
  },
  {
   "cell_type": "markdown",
   "metadata": {},
   "source": [
    "## Examine Validation Set "
   ]
  },
  {
   "cell_type": "code",
   "execution_count": 51,
   "metadata": {
    "collapsed": true
   },
   "outputs": [],
   "source": [
    "test_pred = results.predict(X_test)"
   ]
  },
  {
   "cell_type": "code",
   "execution_count": 52,
   "metadata": {
    "collapsed": true
   },
   "outputs": [],
   "source": [
    "from sklearn.metrics import r2_score, mean_absolute_error, roc_auc_score, roc_curve"
   ]
  },
  {
   "cell_type": "code",
   "execution_count": 53,
   "metadata": {
    "collapsed": false
   },
   "outputs": [
    {
     "data": {
      "text/plain": [
       "0.01154275892680301"
      ]
     },
     "execution_count": 53,
     "metadata": {},
     "output_type": "execute_result"
    }
   ],
   "source": [
    "r2_dev = r2_score(y_train, results.fittedvalues)\n",
    "r2_dev"
   ]
  },
  {
   "cell_type": "code",
   "execution_count": 54,
   "metadata": {
    "collapsed": false
   },
   "outputs": [
    {
     "data": {
      "text/plain": [
       "0.010780861626486615"
      ]
     },
     "execution_count": 54,
     "metadata": {},
     "output_type": "execute_result"
    }
   ],
   "source": [
    "r2_itv = r2_score(y_test, test_pred)\n",
    "r2_itv"
   ]
  },
  {
   "cell_type": "code",
   "execution_count": 55,
   "metadata": {
    "collapsed": false
   },
   "outputs": [
    {
     "data": {
      "text/plain": [
       "7.0671280896932309"
      ]
     },
     "execution_count": 55,
     "metadata": {},
     "output_type": "execute_result"
    }
   ],
   "source": [
    "(r2_dev/r2_itv - 1)*100"
   ]
  },
  {
   "cell_type": "code",
   "execution_count": 56,
   "metadata": {
    "collapsed": false
   },
   "outputs": [
    {
     "data": {
      "text/plain": [
       "0.060528338266594935"
      ]
     },
     "execution_count": 56,
     "metadata": {},
     "output_type": "execute_result"
    }
   ],
   "source": [
    "mean_absolute_error(y_test, test_pred)"
   ]
  },
  {
   "cell_type": "code",
   "execution_count": 58,
   "metadata": {
    "collapsed": false
   },
   "outputs": [
    {
     "data": {
      "text/plain": [
       "<matplotlib.text.Text at 0x23001e2d908>"
      ]
     },
     "execution_count": 58,
     "metadata": {},
     "output_type": "execute_result"
    },
    {
     "data": {
      "image/png": "[encoded data removed]",
      "text/plain": [
       "<matplotlib.figure.Figure at 0x23000d50ba8>"
      ]
     },
     "metadata": {},
     "output_type": "display_data"
    }
   ],
   "source": [
    "plt.scatter(y_test, test_pred)\n",
    "plt.xlabel(\"Actual\")\n",
    "plt.ylabel(\"Model Predictions\")\n",
    "plt.title(\"Actuals vs Model Predictions\")\n"
   ]
  },
  {
   "cell_type": "code",
   "execution_count": 60,
   "metadata": {
    "collapsed": false
   },
   "outputs": [],
   "source": [
    "results = pd.DataFrame(data = {\"y_test\": y_test, \"test_pred\": test_pred})"
   ]
  },
  {
   "cell_type": "code",
   "execution_count": 65,
   "metadata": {
    "collapsed": false
   },
   "outputs": [
    {
     "data": {
      "text/plain": [
       "<matplotlib.text.Text at 0x23001f38198>"
      ]
     },
     "execution_count": 65,
     "metadata": {},
     "output_type": "execute_result"
    },
    {
     "data": {
      "image/png": "[encoded data removed]",
      "text/plain": [
       "<matplotlib.figure.Figure at 0x23000efef28>"
      ]
     },
     "metadata": {},
     "output_type": "display_data"
    }
   ],
   "source": [
    "fig, ax = plt.subplots()\n",
    "ax.scatter(results.y_test[abs(results.test_pred) < 0.25], results.test_pred[abs(results.test_pred) < 0.25])\n",
    "\n",
    "lims = [\n",
    "    np.min([ax.get_xlim(), ax.get_ylim()]),  # min of both axes\n",
    "    np.max([ax.get_xlim(), ax.get_ylim()]),  # max of both axes\n",
    "]\n",
    "\n",
    "# now plot both limits against eachother\n",
    "ax.plot(lims, lims, 'k-', alpha=0.75, zorder=0)\n",
    "ax.set_aspect('equal')\n",
    "ax.set_xlim(lims)\n",
    "ax.set_ylim(lims)\n",
    "\n",
    "plt.xlabel(\"Actual\")\n",
    "plt.ylabel(\"Model Predictions\")\n",
    "plt.title(\"Actual vs Model Predictions\")"
   ]
  },
  {
   "cell_type": "code",
   "execution_count": null,
   "metadata": {
    "collapsed": true
   },
   "outputs": [],
   "source": []
  },
  {
   "cell_type": "code",
   "execution_count": null,
   "metadata": {
    "collapsed": true
   },
   "outputs": [],
   "source": []
  },
  {
   "cell_type": "markdown",
   "metadata": {},
   "source": [
    "### VIF Analysis  \n",
    "We may want to hold this until later when we have a smaller model.."
   ]
  },
  {
   "cell_type": "code",
   "execution_count": 66,
   "metadata": {
    "collapsed": true
   },
   "outputs": [],
   "source": [
    "from statsmodels.stats.outliers_influence import variance_inflation_factor"
   ]
  },
  {
   "cell_type": "code",
   "execution_count": 67,
   "metadata": {
    "collapsed": false,
    "scrolled": true
   },
   "outputs": [
    {
     "ename": "KeyboardInterrupt",
     "evalue": "",
     "output_type": "error",
     "traceback": [
      "\u001b[1;31m---------------------------------------------------------------------------\u001b[0m",
      "\u001b[1;31mKeyboardInterrupt\u001b[0m                         Traceback (most recent call last)",
      "\u001b[1;32m<ipython-input-67-491ca4a6dbd1>\u001b[0m in \u001b[0;36m<module>\u001b[1;34m()\u001b[0m\n\u001b[1;32m----> 1\u001b[1;33m \u001b[0mvif\u001b[0m \u001b[1;33m=\u001b[0m \u001b[1;33m[\u001b[0m\u001b[0mvariance_inflation_factor\u001b[0m\u001b[1;33m(\u001b[0m\u001b[0mX\u001b[0m\u001b[1;33m.\u001b[0m\u001b[0mvalues\u001b[0m\u001b[1;33m,\u001b[0m \u001b[0mi\u001b[0m\u001b[1;33m)\u001b[0m \u001b[1;32mfor\u001b[0m \u001b[0mi\u001b[0m \u001b[1;32min\u001b[0m \u001b[0mrange\u001b[0m\u001b[1;33m(\u001b[0m\u001b[0mX\u001b[0m\u001b[1;33m.\u001b[0m\u001b[0mshape\u001b[0m\u001b[1;33m[\u001b[0m\u001b[1;36m1\u001b[0m\u001b[1;33m]\u001b[0m\u001b[1;33m)\u001b[0m\u001b[1;33m]\u001b[0m\u001b[1;33m\u001b[0m\u001b[0m\n\u001b[0m",
      "\u001b[1;32m<ipython-input-67-491ca4a6dbd1>\u001b[0m in \u001b[0;36m<listcomp>\u001b[1;34m(.0)\u001b[0m\n\u001b[1;32m----> 1\u001b[1;33m \u001b[0mvif\u001b[0m \u001b[1;33m=\u001b[0m \u001b[1;33m[\u001b[0m\u001b[0mvariance_inflation_factor\u001b[0m\u001b[1;33m(\u001b[0m\u001b[0mX\u001b[0m\u001b[1;33m.\u001b[0m\u001b[0mvalues\u001b[0m\u001b[1;33m,\u001b[0m \u001b[0mi\u001b[0m\u001b[1;33m)\u001b[0m \u001b[1;32mfor\u001b[0m \u001b[0mi\u001b[0m \u001b[1;32min\u001b[0m \u001b[0mrange\u001b[0m\u001b[1;33m(\u001b[0m\u001b[0mX\u001b[0m\u001b[1;33m.\u001b[0m\u001b[0mshape\u001b[0m\u001b[1;33m[\u001b[0m\u001b[1;36m1\u001b[0m\u001b[1;33m]\u001b[0m\u001b[1;33m)\u001b[0m\u001b[1;33m]\u001b[0m\u001b[1;33m\u001b[0m\u001b[0m\n\u001b[0m",
      "\u001b[1;32mC:\\Users\\board\\Anaconda3\\lib\\site-packages\\statsmodels\\stats\\outliers_influence.py\u001b[0m in \u001b[0;36mvariance_inflation_factor\u001b[1;34m(exog, exog_idx)\u001b[0m\n\u001b[0;32m    164\u001b[0m     \u001b[0mmask\u001b[0m \u001b[1;33m=\u001b[0m \u001b[0mnp\u001b[0m\u001b[1;33m.\u001b[0m\u001b[0marange\u001b[0m\u001b[1;33m(\u001b[0m\u001b[0mk_vars\u001b[0m\u001b[1;33m)\u001b[0m \u001b[1;33m!=\u001b[0m \u001b[0mexog_idx\u001b[0m\u001b[1;33m\u001b[0m\u001b[0m\n\u001b[0;32m    165\u001b[0m     \u001b[0mx_noti\u001b[0m \u001b[1;33m=\u001b[0m \u001b[0mexog\u001b[0m\u001b[1;33m[\u001b[0m\u001b[1;33m:\u001b[0m\u001b[1;33m,\u001b[0m \u001b[0mmask\u001b[0m\u001b[1;33m]\u001b[0m\u001b[1;33m\u001b[0m\u001b[0m\n\u001b[1;32m--> 166\u001b[1;33m     \u001b[0mr_squared_i\u001b[0m \u001b[1;33m=\u001b[0m \u001b[0mOLS\u001b[0m\u001b[1;33m(\u001b[0m\u001b[0mx_i\u001b[0m\u001b[1;33m,\u001b[0m \u001b[0mx_noti\u001b[0m\u001b[1;33m)\u001b[0m\u001b[1;33m.\u001b[0m\u001b[0mfit\u001b[0m\u001b[1;33m(\u001b[0m\u001b[1;33m)\u001b[0m\u001b[1;33m.\u001b[0m\u001b[0mrsquared\u001b[0m\u001b[1;33m\u001b[0m\u001b[0m\n\u001b[0m\u001b[0;32m    167\u001b[0m     \u001b[0mvif\u001b[0m \u001b[1;33m=\u001b[0m \u001b[1;36m1.\u001b[0m \u001b[1;33m/\u001b[0m \u001b[1;33m(\u001b[0m\u001b[1;36m1.\u001b[0m \u001b[1;33m-\u001b[0m \u001b[0mr_squared_i\u001b[0m\u001b[1;33m)\u001b[0m\u001b[1;33m\u001b[0m\u001b[0m\n\u001b[0;32m    168\u001b[0m     \u001b[1;32mreturn\u001b[0m \u001b[0mvif\u001b[0m\u001b[1;33m\u001b[0m\u001b[0m\n",
      "\u001b[1;32mC:\\Users\\board\\Anaconda3\\lib\\site-packages\\statsmodels\\regression\\linear_model.py\u001b[0m in \u001b[0;36mfit\u001b[1;34m(self, method, cov_type, cov_kwds, use_t, **kwargs)\u001b[0m\n\u001b[0;32m    188\u001b[0m                 (not hasattr(self, 'rank'))):\n\u001b[0;32m    189\u001b[0m \u001b[1;33m\u001b[0m\u001b[0m\n\u001b[1;32m--> 190\u001b[1;33m                 \u001b[0mself\u001b[0m\u001b[1;33m.\u001b[0m\u001b[0mpinv_wexog\u001b[0m\u001b[1;33m,\u001b[0m \u001b[0msingular_values\u001b[0m \u001b[1;33m=\u001b[0m \u001b[0mpinv_extended\u001b[0m\u001b[1;33m(\u001b[0m\u001b[0mself\u001b[0m\u001b[1;33m.\u001b[0m\u001b[0mwexog\u001b[0m\u001b[1;33m)\u001b[0m\u001b[1;33m\u001b[0m\u001b[0m\n\u001b[0m\u001b[0;32m    191\u001b[0m                 self.normalized_cov_params = np.dot(self.pinv_wexog,\n\u001b[0;32m    192\u001b[0m                                         np.transpose(self.pinv_wexog))\n",
      "\u001b[1;32mC:\\Users\\board\\Anaconda3\\lib\\site-packages\\statsmodels\\tools\\tools.py\u001b[0m in \u001b[0;36mpinv_extended\u001b[1;34m(X, rcond)\u001b[0m\n\u001b[0;32m    340\u001b[0m     \u001b[0mX\u001b[0m \u001b[1;33m=\u001b[0m \u001b[0mnp\u001b[0m\u001b[1;33m.\u001b[0m\u001b[0masarray\u001b[0m\u001b[1;33m(\u001b[0m\u001b[0mX\u001b[0m\u001b[1;33m)\u001b[0m\u001b[1;33m\u001b[0m\u001b[0m\n\u001b[0;32m    341\u001b[0m     \u001b[0mX\u001b[0m \u001b[1;33m=\u001b[0m \u001b[0mX\u001b[0m\u001b[1;33m.\u001b[0m\u001b[0mconjugate\u001b[0m\u001b[1;33m(\u001b[0m\u001b[1;33m)\u001b[0m\u001b[1;33m\u001b[0m\u001b[0m\n\u001b[1;32m--> 342\u001b[1;33m     \u001b[0mu\u001b[0m\u001b[1;33m,\u001b[0m \u001b[0ms\u001b[0m\u001b[1;33m,\u001b[0m \u001b[0mvt\u001b[0m \u001b[1;33m=\u001b[0m \u001b[0mnp\u001b[0m\u001b[1;33m.\u001b[0m\u001b[0mlinalg\u001b[0m\u001b[1;33m.\u001b[0m\u001b[0msvd\u001b[0m\u001b[1;33m(\u001b[0m\u001b[0mX\u001b[0m\u001b[1;33m,\u001b[0m \u001b[1;36m0\u001b[0m\u001b[1;33m)\u001b[0m\u001b[1;33m\u001b[0m\u001b[0m\n\u001b[0m\u001b[0;32m    343\u001b[0m     \u001b[0ms_orig\u001b[0m \u001b[1;33m=\u001b[0m \u001b[0mnp\u001b[0m\u001b[1;33m.\u001b[0m\u001b[0mcopy\u001b[0m\u001b[1;33m(\u001b[0m\u001b[0ms\u001b[0m\u001b[1;33m)\u001b[0m\u001b[1;33m\u001b[0m\u001b[0m\n\u001b[0;32m    344\u001b[0m     \u001b[0mm\u001b[0m \u001b[1;33m=\u001b[0m \u001b[0mu\u001b[0m\u001b[1;33m.\u001b[0m\u001b[0mshape\u001b[0m\u001b[1;33m[\u001b[0m\u001b[1;36m0\u001b[0m\u001b[1;33m]\u001b[0m\u001b[1;33m\u001b[0m\u001b[0m\n",
      "\u001b[1;32mC:\\Users\\board\\Anaconda3\\lib\\site-packages\\numpy\\linalg\\linalg.py\u001b[0m in \u001b[0;36msvd\u001b[1;34m(a, full_matrices, compute_uv)\u001b[0m\n\u001b[0;32m   1387\u001b[0m \u001b[1;33m\u001b[0m\u001b[0m\n\u001b[0;32m   1388\u001b[0m         \u001b[0msignature\u001b[0m \u001b[1;33m=\u001b[0m \u001b[1;34m'D->DdD'\u001b[0m \u001b[1;32mif\u001b[0m \u001b[0misComplexType\u001b[0m\u001b[1;33m(\u001b[0m\u001b[0mt\u001b[0m\u001b[1;33m)\u001b[0m \u001b[1;32melse\u001b[0m \u001b[1;34m'd->ddd'\u001b[0m\u001b[1;33m\u001b[0m\u001b[0m\n\u001b[1;32m-> 1389\u001b[1;33m         \u001b[0mu\u001b[0m\u001b[1;33m,\u001b[0m \u001b[0ms\u001b[0m\u001b[1;33m,\u001b[0m \u001b[0mvt\u001b[0m \u001b[1;33m=\u001b[0m \u001b[0mgufunc\u001b[0m\u001b[1;33m(\u001b[0m\u001b[0ma\u001b[0m\u001b[1;33m,\u001b[0m \u001b[0msignature\u001b[0m\u001b[1;33m=\u001b[0m\u001b[0msignature\u001b[0m\u001b[1;33m,\u001b[0m \u001b[0mextobj\u001b[0m\u001b[1;33m=\u001b[0m\u001b[0mextobj\u001b[0m\u001b[1;33m)\u001b[0m\u001b[1;33m\u001b[0m\u001b[0m\n\u001b[0m\u001b[0;32m   1390\u001b[0m         \u001b[0mu\u001b[0m \u001b[1;33m=\u001b[0m \u001b[0mu\u001b[0m\u001b[1;33m.\u001b[0m\u001b[0mastype\u001b[0m\u001b[1;33m(\u001b[0m\u001b[0mresult_t\u001b[0m\u001b[1;33m,\u001b[0m \u001b[0mcopy\u001b[0m\u001b[1;33m=\u001b[0m\u001b[1;32mFalse\u001b[0m\u001b[1;33m)\u001b[0m\u001b[1;33m\u001b[0m\u001b[0m\n\u001b[0;32m   1391\u001b[0m         \u001b[0ms\u001b[0m \u001b[1;33m=\u001b[0m \u001b[0ms\u001b[0m\u001b[1;33m.\u001b[0m\u001b[0mastype\u001b[0m\u001b[1;33m(\u001b[0m\u001b[0m_realType\u001b[0m\u001b[1;33m(\u001b[0m\u001b[0mresult_t\u001b[0m\u001b[1;33m)\u001b[0m\u001b[1;33m,\u001b[0m \u001b[0mcopy\u001b[0m\u001b[1;33m=\u001b[0m\u001b[1;32mFalse\u001b[0m\u001b[1;33m)\u001b[0m\u001b[1;33m\u001b[0m\u001b[0m\n",
      "\u001b[1;31mKeyboardInterrupt\u001b[0m: "
     ]
    }
   ],
   "source": [
    "vif = [variance_inflation_factor(X.values, i) for i in range(X.shape[1])]"
   ]
  },
  {
   "cell_type": "code",
   "execution_count": null,
   "metadata": {
    "collapsed": false
   },
   "outputs": [],
   "source": [
    "print(len(vif))\n",
    "print(len(X.columns))"
   ]
  },
  {
   "cell_type": "code",
   "execution_count": null,
   "metadata": {
    "collapsed": false,
    "scrolled": true
   },
   "outputs": [],
   "source": [
    "vif_series = pd.Series(data = vif, index = X.columns)"
   ]
  },
  {
   "cell_type": "code",
   "execution_count": null,
   "metadata": {
    "collapsed": false
   },
   "outputs": [],
   "source": [
    "vif_series.sort_values()"
   ]
  },
  {
   "cell_type": "code",
   "execution_count": 88,
   "metadata": {
    "collapsed": false
   },
   "outputs": [
    {
     "name": "stderr",
     "output_type": "stream",
     "text": [
      "C:\\Users\\board\\Anaconda3\\lib\\site-packages\\numpy\\lib\\function_base.py:4387: RuntimeWarning: invalid value encountered in multiply\n",
      "  x2 = take(ap, indices_above, axis=axis) * weights_above\n"
     ]
    },
    {
     "data": {
      "text/plain": [
       "count    93.000000\n",
       "mean           inf\n",
       "std            NaN\n",
       "min       1.001985\n",
       "25%      10.758493\n",
       "50%            NaN\n",
       "75%            NaN\n",
       "max            inf\n",
       "dtype: float64"
      ]
     },
     "execution_count": 88,
     "metadata": {},
     "output_type": "execute_result"
    }
   ],
   "source": [
    "vif_series.describe()"
   ]
  },
  {
   "cell_type": "code",
   "execution_count": 86,
   "metadata": {
    "collapsed": false
   },
   "outputs": [
    {
     "data": {
      "text/plain": [
       "taxdelinquencyyear       1.001985\n",
       "finishedsquarefeet13     1.005365\n",
       "regionidzip              1.011540\n",
       "basementsqft             1.015538\n",
       "yardbuildingsqft26       1.018943\n",
       "regionidcity             1.032459\n",
       "poolsizesum              1.057135\n",
       "threequarterbathnbr      1.083409\n",
       "yardbuildingsqft17       1.092599\n",
       "lotsizesquarefeet        1.130417\n",
       "regionidneighborhood     1.171885\n",
       "fireplacecnt             1.225320\n",
       "numberofstories          1.316952\n",
       "buildingqualitytypeid    1.377380\n",
       "unitcnt                  1.466799\n",
       "garagecarcnt             2.016434\n",
       "yearbuilt                2.683133\n",
       "latitude                 2.723528\n",
       "bedroomcnt               2.918852\n",
       "garagetotalsqft          3.076591\n",
       "roomcnt                  4.082532\n",
       "longitude                4.086499\n",
       "dtype: float64"
      ]
     },
     "execution_count": 86,
     "metadata": {},
     "output_type": "execute_result"
    }
   ],
   "source": [
    "vif_series[vif_series < 5]"
   ]
  },
  {
   "cell_type": "code",
   "execution_count": 95,
   "metadata": {
    "collapsed": false,
    "scrolled": true
   },
   "outputs": [],
   "source": [
    "inf_vif_list = vif_series[vif_series == np.inf].index"
   ]
  },
  {
   "cell_type": "code",
   "execution_count": 100,
   "metadata": {
    "collapsed": false
   },
   "outputs": [],
   "source": [
    "vif_series1 = vif_series.drop(inf_vif_list.tolist())"
   ]
  },
  {
   "cell_type": "code",
   "execution_count": 102,
   "metadata": {
    "collapsed": false
   },
   "outputs": [
    {
     "data": {
      "text/plain": [
       "39"
      ]
     },
     "execution_count": 102,
     "metadata": {},
     "output_type": "execute_result"
    }
   ],
   "source": [
    "len(vif_series1)"
   ]
  },
  {
   "cell_type": "code",
   "execution_count": 111,
   "metadata": {
    "collapsed": false
   },
   "outputs": [
    {
     "data": {
      "text/plain": [
       "taxdelinquencyyear      1.001985\n",
       "finishedsquarefeet13    1.005365\n",
       "regionidzip             1.011540\n",
       "basementsqft            1.015538\n",
       "yardbuildingsqft26      1.018943\n",
       "dtype: float64"
      ]
     },
     "execution_count": 111,
     "metadata": {},
     "output_type": "execute_result"
    }
   ],
   "source": [
    "vif_series1.head()"
   ]
  },
  {
   "cell_type": "code",
   "execution_count": 103,
   "metadata": {
    "collapsed": true
   },
   "outputs": [],
   "source": [
    "X_vif1 = X.drop(inf_vif_list.tolist(), axis =1)"
   ]
  },
  {
   "cell_type": "code",
   "execution_count": 106,
   "metadata": {
    "collapsed": false
   },
   "outputs": [
    {
     "data": {
      "text/plain": [
       "(90275, 39)"
      ]
     },
     "execution_count": 106,
     "metadata": {},
     "output_type": "execute_result"
    }
   ],
   "source": [
    "X_vif1.shape"
   ]
  },
  {
   "cell_type": "code",
   "execution_count": 107,
   "metadata": {
    "collapsed": true
   },
   "outputs": [],
   "source": [
    "numb_X_cols = X_vif1.shape[1]\n",
    "X_ndarray_vif1 =X_vif1.values\n",
    "vif1 = [variance_inflation_factor(X_ndarray_vif1, i) for i in range(numb_X_cols)]"
   ]
  },
  {
   "cell_type": "code",
   "execution_count": 109,
   "metadata": {
    "collapsed": false
   },
   "outputs": [],
   "source": [
    "vif1_series = pd.Series(data = vif1, index = X_vif1.columns) "
   ]
  },
  {
   "cell_type": "code",
   "execution_count": 110,
   "metadata": {
    "collapsed": false
   },
   "outputs": [
    {
     "data": {
      "text/plain": [
       "count       39.000000\n",
       "mean       807.138622\n",
       "std       2918.356150\n",
       "min          1.000477\n",
       "25%          1.128346\n",
       "50%          2.563704\n",
       "75%         39.947983\n",
       "max      12994.511835\n",
       "dtype: float64"
      ]
     },
     "execution_count": 110,
     "metadata": {},
     "output_type": "execute_result"
    }
   ],
   "source": [
    "vif1_series.describe()"
   ]
  },
  {
   "cell_type": "code",
   "execution_count": null,
   "metadata": {
    "collapsed": true
   },
   "outputs": [],
   "source": []
  },
  {
   "cell_type": "code",
   "execution_count": null,
   "metadata": {
    "collapsed": true
   },
   "outputs": [],
   "source": []
  },
  {
   "cell_type": "markdown",
   "metadata": {
    "collapsed": true
   },
   "source": [
    "### Examine Predictions "
   ]
  },
  {
   "cell_type": "code",
   "execution_count": null,
   "metadata": {
    "collapsed": false
   },
   "outputs": [],
   "source": []
  },
  {
   "cell_type": "code",
   "execution_count": 66,
   "metadata": {
    "collapsed": false
   },
   "outputs": [],
   "source": [
    "train_predictions = model1.predict(train_df_modeling.values)"
   ]
  },
  {
   "cell_type": "code",
   "execution_count": 68,
   "metadata": {
    "collapsed": false
   },
   "outputs": [
    {
     "data": {
      "text/plain": [
       "(array([  1.00000000e+01,   2.70000000e+01,   6.00000000e+01,\n",
       "          1.27000000e+02,   1.81000000e+02,   2.62000000e+02,\n",
       "          4.63000000e+02,   9.35000000e+02,   1.77700000e+03,\n",
       "          3.65100000e+03,   8.38300000e+03,   1.38900000e+04,\n",
       "          1.60340000e+04,   1.49200000e+04,   1.08280000e+04,\n",
       "          7.34200000e+03,   4.85900000e+03,   2.96500000e+03,\n",
       "          1.70300000e+03,   9.05000000e+02,   4.54000000e+02,\n",
       "          2.11000000e+02,   1.29000000e+02,   7.80000000e+01,\n",
       "          4.20000000e+01,   2.00000000e+01,   9.00000000e+00,\n",
       "          7.00000000e+00,   1.00000000e+00,   2.00000000e+00]),\n",
       " array([-0.0604124 , -0.05516249, -0.04991258, -0.04466266, -0.03941275,\n",
       "        -0.03416284, -0.02891293, -0.02366302, -0.01841311, -0.0131632 ,\n",
       "        -0.00791328, -0.00266337,  0.00258654,  0.00783645,  0.01308636,\n",
       "         0.01833627,  0.02358619,  0.0288361 ,  0.03408601,  0.03933592,\n",
       "         0.04458583,  0.04983574,  0.05508565,  0.06033557,  0.06558548,\n",
       "         0.07083539,  0.0760853 ,  0.08133521,  0.08658512,  0.09183504,\n",
       "         0.09708495]),\n",
       " <a list of 30 Patch objects>)"
      ]
     },
     "execution_count": 68,
     "metadata": {},
     "output_type": "execute_result"
    },
    {
     "data": {
      "image/png": "[encoded data removed]",
      "text/plain": [
       "<matplotlib.figure.Figure at 0x15794a0e3c8>"
      ]
     },
     "metadata": {},
     "output_type": "display_data"
    }
   ],
   "source": [
    "plt.hist(train_predictions, bins = 30)\n",
    "\n",
    "#plt.hist(train_y)\n"
   ]
  },
  {
   "cell_type": "code",
   "execution_count": 70,
   "metadata": {
    "collapsed": false
   },
   "outputs": [
    {
     "data": {
      "text/plain": [
       "(array([  1066.,    181.,    205.,    293.,    405.,    539.,    709.,\n",
       "          1113.,   1684.,   2793.,   5624.,  11119.,  20170.,  19400.,\n",
       "         10117.,   5006.,   2709.,   1654.,   1069.,    808.,    597.,\n",
       "           469.,    366.,    301.,    252.,    209.,    167.,    152.,\n",
       "           106.,    992.]),\n",
       " array([-0.3425   , -0.3156206, -0.2887412, -0.2618618, -0.2349824,\n",
       "        -0.208103 , -0.1812236, -0.1543442, -0.1274648, -0.1005854,\n",
       "        -0.073706 , -0.0468266, -0.0199472,  0.0069322,  0.0338116,\n",
       "         0.060691 ,  0.0875704,  0.1144498,  0.1413292,  0.1682086,\n",
       "         0.195088 ,  0.2219674,  0.2488468,  0.2757262,  0.3026056,\n",
       "         0.329485 ,  0.3563644,  0.3832438,  0.4101232,  0.4370026,\n",
       "         0.463882 ]),\n",
       " <a list of 30 Patch objects>)"
      ]
     },
     "execution_count": 70,
     "metadata": {},
     "output_type": "execute_result"
    },
    {
     "data": {
      "image/png": "[encoded data removed]",
      "text/plain": [
       "<matplotlib.figure.Figure at 0x157988e9978>"
      ]
     },
     "metadata": {},
     "output_type": "display_data"
    }
   ],
   "source": [
    "plt.hist(train_y.values, bins = 30)"
   ]
  },
  {
   "cell_type": "code",
   "execution_count": 88,
   "metadata": {
    "collapsed": false
   },
   "outputs": [
    {
     "data": {
      "text/plain": [
       "array([[-0.00416901],\n",
       "       [ 0.00401373],\n",
       "       [-0.02938739],\n",
       "       ..., \n",
       "       [ 0.03372151],\n",
       "       [ 0.02321459],\n",
       "       [ 0.03388944]], dtype=float32)"
      ]
     },
     "execution_count": 88,
     "metadata": {},
     "output_type": "execute_result"
    }
   ],
   "source": [
    "train_predictions"
   ]
  },
  {
   "cell_type": "code",
   "execution_count": 95,
   "metadata": {
    "collapsed": false
   },
   "outputs": [
    {
     "data": {
      "text/plain": [
       "90275"
      ]
     },
     "execution_count": 95,
     "metadata": {},
     "output_type": "execute_result"
    }
   ],
   "source": [
    "len(train_predictions)"
   ]
  },
  {
   "cell_type": "code",
   "execution_count": 96,
   "metadata": {
    "collapsed": false
   },
   "outputs": [],
   "source": [
    "flat_train_preds = []\n",
    "for prediction in range(0, len(train_predictions)):\n",
    "    flat_train_preds = train_predictions[prediction][0]"
   ]
  },
  {
   "cell_type": "code",
   "execution_count": null,
   "metadata": {
    "collapsed": true
   },
   "outputs": [],
   "source": []
  },
  {
   "cell_type": "code",
   "execution_count": null,
   "metadata": {
    "collapsed": true
   },
   "outputs": [],
   "source": [
    "plt.plot(model2.history['mean_absolute_error'])\n",
    "plt.plot(model2.history['val_mean_absolute_error'])\n",
    "plt.title('model MAE')\n",
    "plt.ylabel('MAE')\n",
    "plt.xlabel('epoch')\n",
    "plt.legend(['train', 'test'], loc='upper left')"
   ]
  },
  {
   "cell_type": "code",
   "execution_count": null,
   "metadata": {
    "collapsed": true
   },
   "outputs": [],
   "source": []
  },
  {
   "cell_type": "code",
   "execution_count": null,
   "metadata": {
    "collapsed": true
   },
   "outputs": [],
   "source": []
  },
  {
   "cell_type": "code",
   "execution_count": null,
   "metadata": {
    "collapsed": true
   },
   "outputs": [],
   "source": []
  },
  {
   "cell_type": "markdown",
   "metadata": {
    "collapsed": true
   },
   "source": [
    "### Submission Steps"
   ]
  },
  {
   "cell_type": "code",
   "execution_count": null,
   "metadata": {
    "collapsed": false
   },
   "outputs": [],
   "source": [
    "train_df_new = pd.read_csv(\"train_2016.csv\")\n",
    "test = pd.read_csv(\"sample_submission.csv\")\n",
    "prop = pd.read_csv(\"properties_2016.csv\")"
   ]
  },
  {
   "cell_type": "code",
   "execution_count": null,
   "metadata": {
    "collapsed": false
   },
   "outputs": [],
   "source": [
    "test['parcelid'] = test['ParcelId']\n",
    "df_test = test.merge(prop, on='parcelid', how = 'left') \n",
    "print(\"Test DF len: \" ,len(df_test))\n",
    "print(\"Input DF len: \", len(test))"
   ]
  },
  {
   "cell_type": "code",
   "execution_count": null,
   "metadata": {
    "collapsed": false
   },
   "outputs": [],
   "source": [
    "train_cols1 = train_cols[1:len(train_cols)]"
   ]
  },
  {
   "cell_type": "code",
   "execution_count": null,
   "metadata": {
    "collapsed": false
   },
   "outputs": [],
   "source": [
    "x_test2 = df_test[train_cols1]\n",
    "test_mean_values = x_test2.mean(axis=0)\n",
    "x_test1 = x_test2.fillna(test_mean_values, inplace=True)\n",
    "x_test = StandardScaler().fit_transform(x_test1)"
   ]
  },
  {
   "cell_type": "code",
   "execution_count": null,
   "metadata": {
    "collapsed": false
   },
   "outputs": [],
   "source": [
    "predictions = batch_model.predict(x_test)"
   ]
  },
  {
   "cell_type": "code",
   "execution_count": null,
   "metadata": {
    "collapsed": false
   },
   "outputs": [],
   "source": [
    "sub = pd.read_csv(\"sample_submission.csv\")\n",
    "for c in sub.columns[sub.columns != 'ParcelId']:\n",
    "    sub[c] = predictions"
   ]
  },
  {
   "cell_type": "code",
   "execution_count": null,
   "metadata": {
    "collapsed": true
   },
   "outputs": [],
   "source": [
    "sub.to_csv('nn_starter2.csv', index=False, float_format='%.4f')"
   ]
  },
  {
   "cell_type": "code",
   "execution_count": null,
   "metadata": {
    "collapsed": false
   },
   "outputs": [],
   "source": [
    "sub.shape"
   ]
  },
  {
   "cell_type": "code",
   "execution_count": null,
   "metadata": {
    "collapsed": true
   },
   "outputs": [],
   "source": []
  }
 ],
 "metadata": {
  "anaconda-cloud": {},
  "kernelspec": {
   "display_name": "Python [Root]",
   "language": "python",
   "name": "Python [Root]"
  },
  "language_info": {
   "codemirror_mode": {
    "name": "ipython",
    "version": 3
   },
   "file_extension": ".py",
   "mimetype": "text/x-python",
   "name": "python",
   "nbconvert_exporter": "python",
   "pygments_lexer": "ipython3",
   "version": "3.5.2"
  }
 },
 "nbformat": 4,
 "nbformat_minor": 0
}
